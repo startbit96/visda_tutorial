{
 "metadata": {
  "language_info": {
   "codemirror_mode": {
    "name": "ipython",
    "version": 3
   },
   "file_extension": ".py",
   "mimetype": "text/x-python",
   "name": "python",
   "nbconvert_exporter": "python",
   "pygments_lexer": "ipython3",
   "version": 3
  },
  "orig_nbformat": 2
 },
 "nbformat": 4,
 "nbformat_minor": 2,
 "cells": [
  {
   "source": [
    "# VisDa8: Jupyter Notebooks. Interactive notebook tutorial."
   ],
   "cell_type": "markdown",
   "metadata": {}
  },
  {
   "source": [
    "## How to participate in the tutorial.\n",
    "MyBinder Link, Repo Link, Notebook Name ...\n",
    "\n",
    "## Introduction.\n",
    "\n",
    "### What is a Jupyter Notebook?\n",
    "The [Jupyter Notebook](https://jupyter.org/) is an open-source web application that allows you to create and share documents that contain live code, equations, visualisations and narrative text. <br>\n",
    "Uses include: data cleaning and transformation, numerical simulation, statistical modeling, data visualisation, machine learning, and much more. \n",
    "<br><br>\n",
    "\n",
    "### What software do I need to work with Jupyter Notebooks?\n",
    "To work with Jupyter Notebooks using the python programming language, you first need to install Anaconda. <br>\n",
    "Anaconda is an open source distribution for the programming languages Python and R, which aims to simplify package management and software deployment. <br>\n",
    "You can install Anaconda by following the instructions of the [website](https://docs.anaconda.com/anaconda/install/). <br>\n",
    "<br>\n",
    "After the basic installation of Anaconda, Jupyter Notebook should also be pre-installed. <br>\n",
    "Otherwise it can be installed according to the instructions on the [website](https://jupyter.org/install). <br>\n",
    "<br>\n",
    "If you are a more advanced user with Python already installed and prefer to manage your packages manually, you can just use [pip](https://pypi.org/project/jupyter/). <br>\n",
    "<br>\n",
    "For this tutorial we will provide you a browser version, so you don't have to install anything.\n",
    "<br><br>\n",
    "\n",
    "### Basics of working with a Jupyter Notebook.\n",
    "Code parts or text contents are organised in sequential cells. This enables separate execution of each one. <br>\n",
    "This allows you to display intermediate results directly or to optimise individual sections of code without having to execute the entire source code each time. <br>\n",
    "You can also insert images or tables into the document. Double click on this cell to see how it works! <br>\n",
    "\n",
    "<img src=\"https://www.dlr.de/content/de/bilder/institute/datenwissenschaften/dw-institutsgebaeude.jpg?__blob=normal&v=10__ifc1920w\" \n",
    "alt=\"DLR Institut für Datenwissenschaften Jena\"\n",
    "style=\"width:800px;\">\n",
    "\n",
    "Before we start programming, here are a few **useful shortcuts** for using Jupyter notebooks: <br>\n",
    "\n",
    "`Shift + Enter` run the current cell, select below. <br>\n",
    "`Ctrl + Enter` run selected cells. <br>\n",
    "\n",
    "While in **command mode** (press `Esc` to activate): <br>\n",
    "\n",
    "`Enter` take you into **edit mode**. <br>\n",
    "`a` insert cell above. <br>\n",
    "`b` insert cell below. <br>\n",
    "`dd` delete selected cells. <br>\n",
    "`z` undo cell deletion. <br>\n",
    "`y` change the cell type to Code. <br>\n",
    "`m` change the cell type to Markdown (text). <br>"
   ],
   "cell_type": "markdown",
   "metadata": {}
  },
  {
   "source": [
    "## Interactive data visualisation. Feel free to try it yourself!"
   ],
   "cell_type": "markdown",
   "metadata": {}
  },
  {
   "cell_type": "code",
   "execution_count": null,
   "metadata": {},
   "outputs": [],
   "source": [
    "# Pandas for managing data in dataframes.\n",
    "import pandas as pd\n",
    "\n",
    "# Altair for visualisation.\n",
    "import altair as alt\n",
    "\n",
    "# Further imports.\n",
    " "
   ]
  },
  {
   "source": [
    "### Import the data to be analysed."
   ],
   "cell_type": "markdown",
   "metadata": {}
  },
  {
   "cell_type": "code",
   "execution_count": null,
   "metadata": {},
   "outputs": [],
   "source": [
    "# First file: stations, their station_id and their location.\n"
   ]
  },
  {
   "source": [
    "### Visualise the data."
   ],
   "cell_type": "markdown",
   "metadata": {}
  },
  {
   "cell_type": "code",
   "execution_count": null,
   "metadata": {},
   "outputs": [],
   "source": [
    "# Second file: \n"
   ]
  },
  {
   "cell_type": "code",
   "execution_count": null,
   "metadata": {},
   "outputs": [],
   "source": []
  }
 ]
}