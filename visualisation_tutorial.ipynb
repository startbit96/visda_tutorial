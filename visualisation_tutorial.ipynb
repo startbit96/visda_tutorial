{
 "metadata": {
  "language_info": {
   "codemirror_mode": {
    "name": "ipython",
    "version": 3
   },
   "file_extension": ".py",
   "mimetype": "text/x-python",
   "name": "python",
   "nbconvert_exporter": "python",
   "pygments_lexer": "ipython3",
   "version": "3.7.9-final"
  },
  "orig_nbformat": 2,
  "kernelspec": {
   "name": "adsb",
   "display_name": "adsb"
  }
 },
 "nbformat": 4,
 "nbformat_minor": 2,
 "cells": [
  {
   "source": [
    "# VisDa8: Jupyter Notebooks. Interactive notebook tutorial."
   ],
   "cell_type": "markdown",
   "metadata": {}
  },
  {
   "source": [
    "## How to participate in the tutorial.\n",
    "Click on this link to open the tutorial-notebook: <br>\n",
    "https://mybinder.org/v2/gh/startbit96/visda_tutorial/f5e43f6e083bce50ef26bbb6907c409774c82dd4\n",
    "<br><br>\n",
    "\n",
    "## Introduction.\n",
    "\n",
    "### What is a Jupyter Notebook?\n",
    "The [Jupyter Notebook](https://jupyter.org/) is an open-source web application that allows you to create and share documents that contain live code, equations, visualisations and narrative text. <br>\n",
    "Uses include: data cleaning and transformation, numerical simulation, statistical modeling, data visualisation, machine learning, and much more. \n",
    "<br><br>\n",
    "\n",
    "### What software do I need to work with Jupyter Notebooks?\n",
    "To work with Jupyter Notebooks using the python programming language, you first need to install Anaconda. <br>\n",
    "Anaconda is an open source distribution for the programming languages Python and R, which aims to simplify package management and software deployment. <br>\n",
    "You can install Anaconda by following the instructions of the [website](https://docs.anaconda.com/anaconda/install/). <br>\n",
    "<br>\n",
    "After the basic installation of Anaconda, Jupyter Notebook should also be pre-installed. <br>\n",
    "Otherwise it can be installed according to the instructions on the [website](https://jupyter.org/install). <br>\n",
    "<br>\n",
    "If you are a more advanced user with Python already installed and prefer to manage your packages manually, you can just use [pip](https://pypi.org/project/jupyter/). <br>\n",
    "<br>\n",
    "For this tutorial we will provide you a browser version, so you don't have to install anything.\n",
    "<br><br>\n",
    "\n",
    "### Basics of working with a Jupyter Notebook.\n",
    "Code parts or text contents are organised in sequential cells. This enables separate execution of each one. <br>\n",
    "This allows you to display intermediate results directly or to optimise individual sections of code without having to execute the entire source code each time. <br>\n",
    "You can also insert images or tables into the document. Double click on this cell to see how it works and then press `Shift + Enter` to run this cell again! <br>\n",
    "\n",
    "<img src=\"https://www.dlr.de/content/de/bilder/institute/datenwissenschaften/dw-institutsgebaeude.jpg?__blob=normal&v=10__ifc1920w\" \n",
    "alt=\"DLR Institut für Datenwissenschaften Jena\"\n",
    "style=\"width:800px;\">\n",
    "\n",
    "Before we start programming, here are a few **useful shortcuts** for using Jupyter notebooks: <br>\n",
    "\n",
    "`Shift + Enter` run the current cell, select below. <br>\n",
    "`Ctrl + Enter` run selected cells. <br>\n",
    "\n",
    "While in **command mode** (press `Esc` to activate): <br>\n",
    "\n",
    "`Enter` take you into **edit mode**. <br>\n",
    "`a` insert cell above. <br>\n",
    "`b` insert cell below. <br>\n",
    "`dd` delete selected cells. <br>\n",
    "`z` undo cell deletion. <br>\n",
    "`y` change the cell type to Code. <br>\n",
    "`m` change the cell type to Markdown (text). <br>"
   ],
   "cell_type": "markdown",
   "metadata": {}
  },
  {
   "source": [
    "## Get the data from Deutscher Wetterdienst."
   ],
   "cell_type": "markdown",
   "metadata": {}
  },
  {
   "cell_type": "code",
   "execution_count": 1,
   "metadata": {},
   "outputs": [],
   "source": [
    "# Laines / Joshua."
   ]
  },
  {
   "source": [
    "## Interactive data visualisation."
   ],
   "cell_type": "markdown",
   "metadata": {}
  },
  {
   "cell_type": "code",
   "execution_count": 2,
   "metadata": {},
   "outputs": [],
   "source": [
    "# Pandas for managing data in dataframes.\n",
    "import pandas as pd\n",
    "\n",
    "# Plotly for visualisation.\n",
    "import plotly.express as px\n",
    "\n",
    "# Further imports.\n",
    "import numpy as np"
   ]
  },
  {
   "source": [
    "### Import the data to be analysed."
   ],
   "cell_type": "markdown",
   "metadata": {}
  },
  {
   "cell_type": "code",
   "execution_count": 3,
   "metadata": {},
   "outputs": [
    {
     "output_type": "execute_result",
     "data": {
      "text/plain": [
       "     station_id              station_name        station_state      lon  \\\n",
       "0             3                    Aachen  Nordrhein-Westfalen  50.7827   \n",
       "1            44              Großenkneten        Niedersachsen  52.9336   \n",
       "2            52      Ahrensburg-Wulfsdorf   Schleswig-Holstein  53.6623   \n",
       "3            71           Albstadt-Badkap    Baden-Württemberg  48.2156   \n",
       "4            73      Aldersbach-Kriestorf               Bayern  48.6159   \n",
       "..          ...                       ...                  ...      ...   \n",
       "657       15207  Schauenburg-Elgershausen               Hessen  51.2835   \n",
       "658       15444             Ulm-Mähringen    Baden-Württemberg  48.4418   \n",
       "659       15555     Kaufbeuren-Oberbeuren               Bayern  47.8761   \n",
       "660       19171        Hasenkrug-Hardebek   Schleswig-Holstein  54.0038   \n",
       "661       19172                    Wacken   Schleswig-Holstein  54.0246   \n",
       "\n",
       "         lat  alt  \n",
       "0     6.0941  202  \n",
       "1     8.2370   44  \n",
       "2    10.1990   46  \n",
       "3     8.9784  759  \n",
       "4    13.0506  340  \n",
       "..       ...  ...  \n",
       "657   9.3590  317  \n",
       "658   9.9216  593  \n",
       "659  10.5849  815  \n",
       "660   9.8553   13  \n",
       "661   9.3880   48  \n",
       "\n",
       "[662 rows x 6 columns]"
      ],
      "text/html": "<div>\n<style scoped>\n    .dataframe tbody tr th:only-of-type {\n        vertical-align: middle;\n    }\n\n    .dataframe tbody tr th {\n        vertical-align: top;\n    }\n\n    .dataframe thead th {\n        text-align: right;\n    }\n</style>\n<table border=\"1\" class=\"dataframe\">\n  <thead>\n    <tr style=\"text-align: right;\">\n      <th></th>\n      <th>station_id</th>\n      <th>station_name</th>\n      <th>station_state</th>\n      <th>lon</th>\n      <th>lat</th>\n      <th>alt</th>\n    </tr>\n  </thead>\n  <tbody>\n    <tr>\n      <th>0</th>\n      <td>3</td>\n      <td>Aachen</td>\n      <td>Nordrhein-Westfalen</td>\n      <td>50.7827</td>\n      <td>6.0941</td>\n      <td>202</td>\n    </tr>\n    <tr>\n      <th>1</th>\n      <td>44</td>\n      <td>Großenkneten</td>\n      <td>Niedersachsen</td>\n      <td>52.9336</td>\n      <td>8.2370</td>\n      <td>44</td>\n    </tr>\n    <tr>\n      <th>2</th>\n      <td>52</td>\n      <td>Ahrensburg-Wulfsdorf</td>\n      <td>Schleswig-Holstein</td>\n      <td>53.6623</td>\n      <td>10.1990</td>\n      <td>46</td>\n    </tr>\n    <tr>\n      <th>3</th>\n      <td>71</td>\n      <td>Albstadt-Badkap</td>\n      <td>Baden-Württemberg</td>\n      <td>48.2156</td>\n      <td>8.9784</td>\n      <td>759</td>\n    </tr>\n    <tr>\n      <th>4</th>\n      <td>73</td>\n      <td>Aldersbach-Kriestorf</td>\n      <td>Bayern</td>\n      <td>48.6159</td>\n      <td>13.0506</td>\n      <td>340</td>\n    </tr>\n    <tr>\n      <th>...</th>\n      <td>...</td>\n      <td>...</td>\n      <td>...</td>\n      <td>...</td>\n      <td>...</td>\n      <td>...</td>\n    </tr>\n    <tr>\n      <th>657</th>\n      <td>15207</td>\n      <td>Schauenburg-Elgershausen</td>\n      <td>Hessen</td>\n      <td>51.2835</td>\n      <td>9.3590</td>\n      <td>317</td>\n    </tr>\n    <tr>\n      <th>658</th>\n      <td>15444</td>\n      <td>Ulm-Mähringen</td>\n      <td>Baden-Württemberg</td>\n      <td>48.4418</td>\n      <td>9.9216</td>\n      <td>593</td>\n    </tr>\n    <tr>\n      <th>659</th>\n      <td>15555</td>\n      <td>Kaufbeuren-Oberbeuren</td>\n      <td>Bayern</td>\n      <td>47.8761</td>\n      <td>10.5849</td>\n      <td>815</td>\n    </tr>\n    <tr>\n      <th>660</th>\n      <td>19171</td>\n      <td>Hasenkrug-Hardebek</td>\n      <td>Schleswig-Holstein</td>\n      <td>54.0038</td>\n      <td>9.8553</td>\n      <td>13</td>\n    </tr>\n    <tr>\n      <th>661</th>\n      <td>19172</td>\n      <td>Wacken</td>\n      <td>Schleswig-Holstein</td>\n      <td>54.0246</td>\n      <td>9.3880</td>\n      <td>48</td>\n    </tr>\n  </tbody>\n</table>\n<p>662 rows × 6 columns</p>\n</div>"
     },
     "metadata": {},
     "execution_count": 3
    }
   ],
   "source": [
    "# First file: stations, their station_id and their location.\n",
    "filepath = './stations_information.csv'\n",
    "# Import the csv-file to a pandas dataframe and show some rows.\n",
    "df_stations = pd.read_csv(filepath, header=0, index_col=0)\n",
    "df_stations"
   ]
  },
  {
   "cell_type": "code",
   "execution_count": 10,
   "metadata": {},
   "outputs": [
    {
     "output_type": "execute_result",
     "data": {
      "text/plain": [
       "        STATIONS_ID           MESS_DATUM  QN_9  TT_TU  RF_TU\n",
       "0                44  2020-10-01 00:00:00     1   13.5   88.0\n",
       "1                44  2020-10-01 00:00:01     1   12.7   90.0\n",
       "2                44  2020-10-01 00:00:02     1   11.6   94.0\n",
       "3                44  2020-10-01 00:00:03     1   11.5   94.0\n",
       "4                44  2020-10-01 00:00:04     1   11.4   94.0\n",
       "...             ...                  ...   ...    ...    ...\n",
       "366919        19172  2020-10-31 00:00:19     1   12.3   88.0\n",
       "366920        19172  2020-10-31 00:00:20     1   12.0   86.0\n",
       "366921        19172  2020-10-31 00:00:21     1   11.5   88.0\n",
       "366922        19172  2020-10-31 00:00:22     1   11.8   86.0\n",
       "366923        19172  2020-10-31 00:00:23     1   11.3   93.0\n",
       "\n",
       "[366924 rows x 5 columns]"
      ],
      "text/html": "<div>\n<style scoped>\n    .dataframe tbody tr th:only-of-type {\n        vertical-align: middle;\n    }\n\n    .dataframe tbody tr th {\n        vertical-align: top;\n    }\n\n    .dataframe thead th {\n        text-align: right;\n    }\n</style>\n<table border=\"1\" class=\"dataframe\">\n  <thead>\n    <tr style=\"text-align: right;\">\n      <th></th>\n      <th>STATIONS_ID</th>\n      <th>MESS_DATUM</th>\n      <th>QN_9</th>\n      <th>TT_TU</th>\n      <th>RF_TU</th>\n    </tr>\n  </thead>\n  <tbody>\n    <tr>\n      <th>0</th>\n      <td>44</td>\n      <td>2020-10-01 00:00:00</td>\n      <td>1</td>\n      <td>13.5</td>\n      <td>88.0</td>\n    </tr>\n    <tr>\n      <th>1</th>\n      <td>44</td>\n      <td>2020-10-01 00:00:01</td>\n      <td>1</td>\n      <td>12.7</td>\n      <td>90.0</td>\n    </tr>\n    <tr>\n      <th>2</th>\n      <td>44</td>\n      <td>2020-10-01 00:00:02</td>\n      <td>1</td>\n      <td>11.6</td>\n      <td>94.0</td>\n    </tr>\n    <tr>\n      <th>3</th>\n      <td>44</td>\n      <td>2020-10-01 00:00:03</td>\n      <td>1</td>\n      <td>11.5</td>\n      <td>94.0</td>\n    </tr>\n    <tr>\n      <th>4</th>\n      <td>44</td>\n      <td>2020-10-01 00:00:04</td>\n      <td>1</td>\n      <td>11.4</td>\n      <td>94.0</td>\n    </tr>\n    <tr>\n      <th>...</th>\n      <td>...</td>\n      <td>...</td>\n      <td>...</td>\n      <td>...</td>\n      <td>...</td>\n    </tr>\n    <tr>\n      <th>366919</th>\n      <td>19172</td>\n      <td>2020-10-31 00:00:19</td>\n      <td>1</td>\n      <td>12.3</td>\n      <td>88.0</td>\n    </tr>\n    <tr>\n      <th>366920</th>\n      <td>19172</td>\n      <td>2020-10-31 00:00:20</td>\n      <td>1</td>\n      <td>12.0</td>\n      <td>86.0</td>\n    </tr>\n    <tr>\n      <th>366921</th>\n      <td>19172</td>\n      <td>2020-10-31 00:00:21</td>\n      <td>1</td>\n      <td>11.5</td>\n      <td>88.0</td>\n    </tr>\n    <tr>\n      <th>366922</th>\n      <td>19172</td>\n      <td>2020-10-31 00:00:22</td>\n      <td>1</td>\n      <td>11.8</td>\n      <td>86.0</td>\n    </tr>\n    <tr>\n      <th>366923</th>\n      <td>19172</td>\n      <td>2020-10-31 00:00:23</td>\n      <td>1</td>\n      <td>11.3</td>\n      <td>93.0</td>\n    </tr>\n  </tbody>\n</table>\n<p>366924 rows × 5 columns</p>\n</div>"
     },
     "metadata": {},
     "execution_count": 10
    }
   ],
   "source": [
    "# Second file: measured data for different stations.\n",
    "filepath = './data_hourly_2020_10.csv'\n",
    "# Import the csv-file to a pandas dataframe and show some rows.\n",
    "df_measurements = pd.read_csv(filepath, header=0, index_col=0)\n",
    "df_measurements"
   ]
  },
  {
   "source": [
    "### Visualise the available weather stations on a map."
   ],
   "cell_type": "markdown",
   "metadata": {}
  },
  {
   "cell_type": "code",
   "execution_count": 11,
   "metadata": {},
   "outputs": [
    {
     "output_type": "display_data",
     "data": {
      "application/vnd.plotly.v1+json": {
       "config": {
        "plotlyServerURL": "https://plot.ly"
       },
       "data": [
        {
         "customdata": [
          [
           3,
           "Nordrhein-Westfalen"
          ],
          [
           44,
           "Niedersachsen"
          ],
          [
           52,
           "Schleswig-Holstein"
          ],
          [
           71,
           "Baden-Württemberg"
          ],
          [
           73,
           "Bayern"
          ],
          [
           78,
           "Niedersachsen"
          ],
          [
           91,
           "Hessen"
          ],
          [
           96,
           "Brandenburg"
          ],
          [
           102,
           "Niedersachsen"
          ],
          [
           106,
           "Niedersachsen"
          ],
          [
           125,
           "Bayern"
          ],
          [
           131,
           "Sachsen"
          ],
          [
           142,
           "Bayern"
          ],
          [
           150,
           "Rheinland-Pfalz"
          ],
          [
           151,
           "Bayern"
          ],
          [
           154,
           "Bayern"
          ],
          [
           161,
           "Rheinland-Pfalz"
          ],
          [
           164,
           "Brandenburg"
          ],
          [
           167,
           "Mecklenburg-Vorpommern"
          ],
          [
           175,
           "Bayern"
          ],
          [
           181,
           "Sachsen-Anhalt"
          ],
          [
           183,
           "Mecklenburg-Vorpommern"
          ],
          [
           191,
           "Bayern"
          ],
          [
           198,
           "Thüringen"
          ],
          [
           217,
           "Bayern"
          ],
          [
           222,
           "Sachsen"
          ],
          [
           232,
           "Bayern"
          ],
          [
           257,
           "Baden-Württemberg"
          ],
          [
           259,
           "Baden-Württemberg"
          ],
          [
           268,
           "Baden-Württemberg"
          ],
          [
           282,
           "Bayern"
          ],
          [
           284,
           "Bayern"
          ],
          [
           294,
           "Niedersachsen"
          ],
          [
           298,
           "Mecklenburg-Vorpommern"
          ],
          [
           303,
           "Brandenburg"
          ],
          [
           314,
           "Sachsen"
          ],
          [
           320,
           "Bayern"
          ],
          [
           326,
           "Nordrhein-Westfalen"
          ],
          [
           330,
           "Hessen"
          ],
          [
           342,
           "Niedersachsen"
          ],
          [
           348,
           "Rheinland-Pfalz"
          ],
          [
           350,
           "Sachsen-Anhalt"
          ],
          [
           361,
           "Bayern"
          ],
          [
           368,
           "Niedersachsen"
          ],
          [
           377,
           "Rheinland-Pfalz"
          ],
          [
           379,
           "Thüringen"
          ],
          [
           390,
           "Nordrhein-Westfalen"
          ],
          [
           399,
           "Berlin"
          ],
          [
           400,
           "Berlin"
          ],
          [
           403,
           "Berlin"
          ],
          [
           410,
           "Berlin"
          ],
          [
           420,
           "Berlin"
          ],
          [
           424,
           "Berlin"
          ],
          [
           427,
           "Brandenburg"
          ],
          [
           430,
           "Berlin"
          ],
          [
           433,
           "Berlin"
          ],
          [
           445,
           "Sachsen-Anhalt"
          ],
          [
           450,
           "Rheinland-Pfalz"
          ],
          [
           460,
           "Saarland"
          ],
          [
           474,
           "Baden-Württemberg"
          ],
          [
           535,
           "Rheinland-Pfalz"
          ],
          [
           553,
           "Nordrhein-Westfalen"
          ],
          [
           554,
           "Nordrhein-Westfalen"
          ],
          [
           555,
           "Nordrhein-Westfalen"
          ],
          [
           591,
           "Mecklenburg-Vorpommern"
          ],
          [
           596,
           "Mecklenburg-Vorpommern"
          ],
          [
           598,
           "Nordrhein-Westfalen"
          ],
          [
           599,
           "Nordrhein-Westfalen"
          ],
          [
           601,
           "Nordrhein-Westfalen"
          ],
          [
           603,
           "Nordrhein-Westfalen"
          ],
          [
           617,
           "Nordrhein-Westfalen"
          ],
          [
           656,
           "Niedersachsen"
          ],
          [
           662,
           "Niedersachsen"
          ],
          [
           685,
           "Bayern"
          ],
          [
           691,
           "Bremen"
          ],
          [
           701,
           "Bremen"
          ],
          [
           704,
           "Niedersachsen"
          ],
          [
           722,
           "Sachsen-Anhalt"
          ],
          [
           755,
           "Baden-Württemberg"
          ],
          [
           757,
           "Baden-Württemberg"
          ],
          [
           760,
           "Niedersachsen"
          ],
          [
           766,
           "Rheinland-Pfalz"
          ],
          [
           769,
           "Niedersachsen"
          ],
          [
           817,
           "Hessen"
          ],
          [
           840,
           "Sachsen"
          ],
          [
           850,
           "Niedersachsen"
          ],
          [
           853,
           "Sachsen"
          ],
          [
           856,
           "Bayern"
          ],
          [
           863,
           "Niedersachsen"
          ],
          [
           867,
           "Bayern"
          ],
          [
           876,
           "Sachsen"
          ],
          [
           879,
           "Brandenburg"
          ],
          [
           880,
           "Brandenburg"
          ],
          [
           891,
           "Niedersachsen"
          ],
          [
           896,
           "Thüringen"
          ],
          [
           917,
           "Hessen"
          ],
          [
           919,
           "Hessen"
          ],
          [
           920,
           "Hessen"
          ],
          [
           953,
           "Rheinland-Pfalz"
          ],
          [
           954,
           "Hamburg"
          ],
          [
           963,
           "Niedersachsen"
          ],
          [
           979,
           "Hessen"
          ],
          [
           982,
           "Bayern"
          ],
          [
           983,
           "Bayern"
          ],
          [
           991,
           "Sachsen"
          ],
          [
           998,
           "Baden-Württemberg"
          ],
          [
           1001,
           "Brandenburg"
          ],
          [
           1048,
           "Sachsen"
          ],
          [
           1050,
           "Sachsen"
          ],
          [
           1051,
           "Sachsen"
          ],
          [
           1052,
           "Sachsen-Anhalt"
          ],
          [
           1072,
           "Rheinland-Pfalz"
          ],
          [
           1076,
           "Baden-Württemberg"
          ],
          [
           1078,
           "Nordrhein-Westfalen"
          ],
          [
           1103,
           "Bayern"
          ],
          [
           1107,
           "Bayern"
          ],
          [
           1130,
           "Schleswig-Holstein"
          ],
          [
           1161,
           "Bayern"
          ],
          [
           1197,
           "Baden-Württemberg"
          ],
          [
           1200,
           "Schleswig-Holstein"
          ],
          [
           1207,
           "Sachsen"
          ],
          [
           1214,
           "Baden-Württemberg"
          ],
          [
           1219,
           "Niedersachsen"
          ],
          [
           1221,
           "Niedersachsen"
          ],
          [
           1224,
           "Baden-Württemberg"
          ],
          [
           1228,
           "Hamburg"
          ],
          [
           1239,
           "Baden-Württemberg"
          ],
          [
           1246,
           "Nordrhein-Westfalen"
          ],
          [
           1255,
           "Baden-Württemberg"
          ],
          [
           1262,
           "Bayern"
          ],
          [
           1266,
           "Schleswig-Holstein"
          ],
          [
           1270,
           "Thüringen"
          ],
          [
           1279,
           "Bayern"
          ],
          [
           1281,
           "Bayern"
          ],
          [
           1297,
           "Hessen"
          ],
          [
           1300,
           "Nordrhein-Westfalen"
          ],
          [
           1303,
           "Nordrhein-Westfalen"
          ],
          [
           1327,
           "Nordrhein-Westfalen"
          ],
          [
           1332,
           "Bayern"
          ],
          [
           1339,
           "Niedersachsen"
          ],
          [
           1341,
           "Schleswig-Holstein"
          ],
          [
           1346,
           "Baden-Württemberg"
          ],
          [
           1357,
           "Bayern"
          ],
          [
           1358,
           "Sachsen"
          ],
          [
           1411,
           "Thüringen"
          ],
          [
           1420,
           "Hessen"
          ],
          [
           1421,
           "Hessen"
          ],
          [
           1424,
           "Hessen"
          ],
          [
           1425,
           "Hessen"
          ],
          [
           1426,
           "Brandenburg"
          ],
          [
           1443,
           "Baden-Württemberg"
          ],
          [
           1451,
           "Niedersachsen"
          ],
          [
           1468,
           "Baden-Württemberg"
          ],
          [
           1473,
           "Bayern"
          ],
          [
           1490,
           "Baden-Württemberg"
          ],
          [
           1503,
           "Niedersachsen"
          ],
          [
           1504,
           "Hessen"
          ],
          [
           1515,
           "Bayern"
          ],
          [
           1526,
           "Hessen"
          ],
          [
           1544,
           "Sachsen-Anhalt"
          ],
          [
           1550,
           "Bayern"
          ],
          [
           1572,
           "Nordrhein-Westfalen"
          ],
          [
           1580,
           "Hessen"
          ],
          [
           1583,
           "Sachsen"
          ],
          [
           1584,
           "Baden-Württemberg"
          ],
          [
           1587,
           "Bayern"
          ],
          [
           1590,
           "Nordrhein-Westfalen"
          ],
          [
           1602,
           "Baden-Württemberg"
          ],
          [
           1605,
           "Sachsen-Anhalt"
          ],
          [
           1612,
           "Thüringen"
          ],
          [
           1639,
           "Hessen"
          ],
          [
           1645,
           "Hessen"
          ],
          [
           1666,
           "Schleswig-Holstein"
          ],
          [
           1684,
           "Sachsen"
          ],
          [
           1691,
           "Niedersachsen"
          ],
          [
           1694,
           "Mecklenburg-Vorpommern"
          ],
          [
           1721,
           "Bayern"
          ],
          [
           1735,
           "Bayern"
          ],
          [
           1736,
           "Schleswig-Holstein"
          ],
          [
           1757,
           "Mecklenburg-Vorpommern"
          ],
          [
           1758,
           "Mecklenburg-Vorpommern"
          ],
          [
           1759,
           "Mecklenburg-Vorpommern"
          ],
          [
           1766,
           "Nordrhein-Westfalen"
          ],
          [
           1792,
           "Niedersachsen"
          ],
          [
           1803,
           "Mecklenburg-Vorpommern"
          ],
          [
           1832,
           "Bayern"
          ],
          [
           1833,
           "Bayern"
          ],
          [
           1834,
           "Thüringen"
          ],
          [
           1863,
           "Hessen"
          ],
          [
           1869,
           "Brandenburg"
          ],
          [
           1886,
           "Bayern"
          ],
          [
           1892,
           "Nordrhein-Westfalen"
          ],
          [
           1902,
           "Bayern"
          ],
          [
           1957,
           "Sachsen-Anhalt"
          ],
          [
           1960,
           "Sachsen-Anhalt"
          ],
          [
           1964,
           "Rheinland-Pfalz"
          ],
          [
           1975,
           "Hamburg"
          ],
          [
           1981,
           "Hamburg"
          ],
          [
           2014,
           "Niedersachsen"
          ],
          [
           2023,
           "Bayern"
          ],
          [
           2039,
           "Niedersachsen"
          ],
          [
           2044,
           "Sachsen-Anhalt"
          ],
          [
           2074,
           "Baden-Württemberg"
          ],
          [
           2080,
           "Baden-Württemberg"
          ],
          [
           2081,
           "Baden-Württemberg"
          ],
          [
           2088,
           "Baden-Württemberg"
          ],
          [
           2110,
           "Nordrhein-Westfalen"
          ],
          [
           2115,
           "Schleswig-Holstein"
          ],
          [
           2158,
           "Baden-Württemberg"
          ],
          [
           2166,
           "Sachsen"
          ],
          [
           2167,
           "Rheinland-Pfalz"
          ],
          [
           2171,
           "Hessen"
          ],
          [
           2174,
           "Niedersachsen"
          ],
          [
           2201,
           "Mecklenburg-Vorpommern"
          ],
          [
           2211,
           "Rheinland-Pfalz"
          ],
          [
           2244,
           "Baden-Württemberg"
          ],
          [
           2252,
           "Sachsen"
          ],
          [
           2261,
           "Bayern"
          ],
          [
           2290,
           "Bayern"
          ],
          [
           2303,
           "Schleswig-Holstein"
          ],
          [
           2306,
           "Schleswig-Holstein"
          ],
          [
           2315,
           "Sachsen-Anhalt"
          ],
          [
           2319,
           "Bayern"
          ],
          [
           2323,
           "Niedersachsen"
          ],
          [
           2338,
           "Nordrhein-Westfalen"
          ],
          [
           2362,
           "Rheinland-Pfalz"
          ],
          [
           2374,
           "Schleswig-Holstein"
          ],
          [
           2385,
           "Rheinland-Pfalz"
          ],
          [
           2410,
           "Bayern"
          ],
          [
           2423,
           "Baden-Württemberg"
          ],
          [
           2429,
           "Schleswig-Holstein"
          ],
          [
           2437,
           "Schleswig-Holstein"
          ],
          [
           2444,
           "Thüringen"
          ],
          [
           2456,
           "Niedersachsen"
          ],
          [
           2477,
           "Baden-Württemberg"
          ],
          [
           2480,
           "Bayern"
          ],
          [
           2483,
           "Nordrhein-Westfalen"
          ],
          [
           2485,
           "Baden-Württemberg"
          ],
          [
           2486,
           "Rheinland-Pfalz"
          ],
          [
           2488,
           "Bayern"
          ],
          [
           2494,
           "Nordrhein-Westfalen"
          ],
          [
           2497,
           "Nordrhein-Westfalen"
          ],
          [
           2503,
           "Thüringen"
          ],
          [
           2521,
           "Bayern"
          ],
          [
           2522,
           "Baden-Württemberg"
          ],
          [
           2532,
           "Hessen"
          ],
          [
           2542,
           "Bayern"
          ],
          [
           2559,
           "Bayern"
          ],
          [
           2564,
           "Schleswig-Holstein"
          ],
          [
           2565,
           "Schleswig-Holstein"
          ],
          [
           2575,
           "Baden-Württemberg"
          ],
          [
           2578,
           "Mecklenburg-Vorpommern"
          ],
          [
           2597,
           "Bayern"
          ],
          [
           2600,
           "Bayern"
          ],
          [
           2601,
           "Hessen"
          ],
          [
           2618,
           "Thüringen"
          ],
          [
           2627,
           "Brandenburg"
          ],
          [
           2629,
           "Nordrhein-Westfalen"
          ],
          [
           2638,
           "Baden-Württemberg"
          ],
          [
           2641,
           "Sachsen"
          ],
          [
           2656,
           "Rheinland-Pfalz"
          ],
          [
           2667,
           "Nordrhein-Westfalen"
          ],
          [
           2680,
           "Bayern"
          ],
          [
           2691,
           "Bayern"
          ],
          [
           2693,
           "Hessen"
          ],
          [
           2700,
           "Bayern"
          ],
          [
           2704,
           "Sachsen-Anhalt"
          ],
          [
           2708,
           "Bayern"
          ],
          [
           2712,
           "Baden-Württemberg"
          ],
          [
           2738,
           "Bayern"
          ],
          [
           2750,
           "Bayern"
          ],
          [
           2761,
           "Bayern"
          ],
          [
           2773,
           "Bayern"
          ],
          [
           2794,
           "Brandenburg"
          ],
          [
           2796,
           "Mecklenburg-Vorpommern"
          ],
          [
           2812,
           "Baden-Württemberg"
          ],
          [
           2814,
           "Baden-Württemberg"
          ],
          [
           2829,
           "Bayern"
          ],
          [
           2843,
           "Hessen"
          ],
          [
           2856,
           "Brandenburg"
          ],
          [
           2878,
           "Sachsen-Anhalt"
          ],
          [
           2886,
           "Baden-Württemberg"
          ],
          [
           2905,
           "Bayern"
          ],
          [
           2907,
           "Schleswig-Holstein"
          ],
          [
           2920,
           "Bayern"
          ],
          [
           2925,
           "Thüringen"
          ],
          [
           2928,
           "Sachsen"
          ],
          [
           2932,
           "Sachsen"
          ],
          [
           2947,
           "Nordrhein-Westfalen"
          ],
          [
           2951,
           "Brandenburg"
          ],
          [
           2953,
           "Baden-Württemberg"
          ],
          [
           2961,
           "Schleswig-Holstein"
          ],
          [
           2968,
           "Nordrhein-Westfalen"
          ],
          [
           2985,
           "Sachsen"
          ],
          [
           3015,
           "Brandenburg"
          ],
          [
           3023,
           "Niedersachsen"
          ],
          [
           3028,
           "Nordrhein-Westfalen"
          ],
          [
           3031,
           "Nordrhein-Westfalen"
          ],
          [
           3032,
           "Schleswig-Holstein"
          ],
          [
           3034,
           "Thüringen"
          ],
          [
           3042,
           "Hessen"
          ],
          [
           3044,
           "Niedersachsen"
          ],
          [
           3083,
           "Brandenburg"
          ],
          [
           3085,
           "Schleswig-Holstein"
          ],
          [
           3086,
           "Schleswig-Holstein"
          ],
          [
           3093,
           "Niedersachsen"
          ],
          [
           3098,
           "Nordrhein-Westfalen"
          ],
          [
           3126,
           "Sachsen-Anhalt"
          ],
          [
           3137,
           "Rheinland-Pfalz"
          ],
          [
           3139,
           "Bayern"
          ],
          [
           3145,
           "Schleswig-Holstein"
          ],
          [
           3147,
           "Bayern"
          ],
          [
           3155,
           "Rheinland-Pfalz"
          ],
          [
           3158,
           "Brandenburg"
          ],
          [
           3164,
           "Hessen"
          ],
          [
           3166,
           "Sachsen"
          ],
          [
           3167,
           "Rheinland-Pfalz"
          ],
          [
           3170,
           "Schleswig-Holstein"
          ],
          [
           3196,
           "Mecklenburg-Vorpommern"
          ],
          [
           3204,
           "Thüringen"
          ],
          [
           3226,
           "Sachsen-Anhalt"
          ],
          [
           3231,
           "Thüringen"
          ],
          [
           3234,
           "Sachsen"
          ],
          [
           3244,
           "Bayern"
          ],
          [
           3245,
           "Bayern"
          ],
          [
           3246,
           "Rheinland-Pfalz"
          ],
          [
           3254,
           "Niedersachsen"
          ],
          [
           3257,
           "Baden-Württemberg"
          ],
          [
           3268,
           "Baden-Württemberg"
          ],
          [
           3271,
           "Bayern"
          ],
          [
           3274,
           "Saarland"
          ],
          [
           3278,
           "Baden-Württemberg"
          ],
          [
           3284,
           "Hessen"
          ],
          [
           3287,
           "Hessen"
          ],
          [
           3289,
           "Thüringen"
          ],
          [
           3307,
           "Bayern"
          ],
          [
           3319,
           "Bayern"
          ],
          [
           3340,
           "Rheinland-Pfalz"
          ],
          [
           3348,
           "Niedersachsen"
          ],
          [
           3362,
           "Baden-Württemberg"
          ],
          [
           3366,
           "Bayern"
          ],
          [
           3376,
           "Brandenburg"
          ],
          [
           3379,
           "Bayern"
          ],
          [
           3382,
           "Bayern"
          ],
          [
           3385,
           "Bayern"
          ],
          [
           3390,
           "Bayern"
          ],
          [
           3402,
           "Baden-Württemberg"
          ],
          [
           3404,
           "Nordrhein-Westfalen"
          ],
          [
           3426,
           "Sachsen"
          ],
          [
           3442,
           "Hessen"
          ],
          [
           3478,
           "Mecklenburg-Vorpommern"
          ],
          [
           3484,
           "Bayern"
          ],
          [
           3485,
           "Bayern"
          ],
          [
           3490,
           "Rheinland-Pfalz"
          ],
          [
           3509,
           "Brandenburg"
          ],
          [
           3513,
           "Thüringen"
          ],
          [
           3527,
           "Hessen"
          ],
          [
           3540,
           "Nordrhein-Westfalen"
          ],
          [
           3545,
           "Saarland"
          ],
          [
           3552,
           "Brandenburg"
          ],
          [
           3571,
           "Bayern"
          ],
          [
           3575,
           "Rheinland-Pfalz"
          ],
          [
           3577,
           "Mecklenburg-Vorpommern"
          ],
          [
           3591,
           "Nordrhein-Westfalen"
          ],
          [
           3603,
           "Baden-Württemberg"
          ],
          [
           3605,
           "Baden-Württemberg"
          ],
          [
           3612,
           "Niedersachsen"
          ],
          [
           3621,
           "Bayern"
          ],
          [
           3623,
           "Nordrhein-Westfalen"
          ],
          [
           3631,
           "Niedersachsen"
          ],
          [
           3639,
           "Niedersachsen"
          ],
          [
           3659,
           "Rheinland-Pfalz"
          ],
          [
           3660,
           "Rheinland-Pfalz"
          ],
          [
           3667,
           "Bayern"
          ],
          [
           3668,
           "Bayern"
          ],
          [
           3671,
           "Baden-Württemberg"
          ],
          [
           3679,
           "Bayern"
          ],
          [
           3702,
           "Baden-Württemberg"
          ],
          [
           3730,
           "Bayern"
          ],
          [
           3734,
           "Baden-Württemberg"
          ],
          [
           3739,
           "Bayern"
          ],
          [
           3761,
           "Baden-Württemberg"
          ],
          [
           3791,
           "Niedersachsen"
          ],
          [
           3811,
           "Sachsen"
          ],
          [
           3815,
           "Niedersachsen"
          ],
          [
           3821,
           "Sachsen-Anhalt"
          ],
          [
           3836,
           "Bayern"
          ],
          [
           3857,
           "Bayern"
          ],
          [
           3875,
           "Bayern"
          ],
          [
           3879,
           "Bayern"
          ],
          [
           3897,
           "Schleswig-Holstein"
          ],
          [
           3904,
           "Saarland"
          ],
          [
           3925,
           "Baden-Württemberg"
          ],
          [
           3927,
           "Baden-Württemberg"
          ],
          [
           3939,
           "Rheinland-Pfalz"
          ],
          [
           3946,
           "Sachsen"
          ],
          [
           3975,
           "Bayern"
          ],
          [
           3987,
           "Brandenburg"
          ],
          [
           4018,
           "Bayern"
          ],
          [
           4024,
           "Mecklenburg-Vorpommern"
          ],
          [
           4032,
           "Sachsen-Anhalt"
          ],
          [
           4036,
           "Sachsen-Anhalt"
          ],
          [
           4039,
           "Schleswig-Holstein"
          ],
          [
           4063,
           "Nordrhein-Westfalen"
          ],
          [
           4094,
           "Baden-Württemberg"
          ],
          [
           4104,
           "Bayern"
          ],
          [
           4127,
           "Nordrhein-Westfalen"
          ],
          [
           4154,
           "Nordrhein-Westfalen"
          ],
          [
           4160,
           "Baden-Württemberg"
          ],
          [
           4169,
           "Baden-Württemberg"
          ],
          [
           4174,
           "Nordrhein-Westfalen"
          ],
          [
           4175,
           "Baden-Württemberg"
          ],
          [
           4177,
           "Baden-Württemberg"
          ],
          [
           4189,
           "Baden-Württemberg"
          ],
          [
           4261,
           "Bayern"
          ],
          [
           4271,
           "Mecklenburg-Vorpommern"
          ],
          [
           4275,
           "Niedersachsen"
          ],
          [
           4280,
           "Bayern"
          ],
          [
           4287,
           "Bayern"
          ],
          [
           4294,
           "Baden-Württemberg"
          ],
          [
           4300,
           "Baden-Württemberg"
          ],
          [
           4301,
           "Rheinland-Pfalz"
          ],
          [
           4323,
           "Rheinland-Pfalz"
          ],
          [
           4336,
           "Saarland"
          ],
          [
           4339,
           "Saarland"
          ],
          [
           4347,
           "Niedersachsen"
          ],
          [
           4349,
           "Baden-Württemberg"
          ],
          [
           4350,
           "Baden-Württemberg"
          ],
          [
           4354,
           "Bayern"
          ],
          [
           4371,
           "Nordrhein-Westfalen"
          ],
          [
           4373,
           "Sachsen-Anhalt"
          ],
          [
           4377,
           "Bayern"
          ],
          [
           4393,
           "Schleswig-Holstein"
          ],
          [
           4411,
           "Hessen"
          ],
          [
           4445,
           "Sachsen-Anhalt"
          ],
          [
           4464,
           "Thüringen"
          ],
          [
           4466,
           "Schleswig-Holstein"
          ],
          [
           4477,
           "Baden-Württemberg"
          ],
          [
           4480,
           "Hessen"
          ],
          [
           4485,
           "Thüringen"
          ],
          [
           4501,
           "Thüringen"
          ],
          [
           4508,
           "Rheinland-Pfalz"
          ],
          [
           4517,
           "Baden-Württemberg"
          ],
          [
           4548,
           "Bayern"
          ],
          [
           4559,
           "Bayern"
          ],
          [
           4560,
           "Hessen"
          ],
          [
           4584,
           "Bayern"
          ],
          [
           4592,
           "Bayern"
          ],
          [
           4605,
           "Thüringen"
          ],
          [
           4625,
           "Mecklenburg-Vorpommern"
          ],
          [
           4629,
           "Schleswig-Holstein"
          ],
          [
           4642,
           "Sachsen-Anhalt"
          ],
          [
           4651,
           "Niedersachsen"
          ],
          [
           4692,
           "Nordrhein-Westfalen"
          ],
          [
           4702,
           "Baden-Württemberg"
          ],
          [
           4703,
           "Baden-Württemberg"
          ],
          [
           4704,
           "Bayern"
          ],
          [
           4706,
           "Bayern"
          ],
          [
           4709,
           "Rheinland-Pfalz"
          ],
          [
           4719,
           "Baden-Württemberg"
          ],
          [
           4745,
           "Niedersachsen"
          ],
          [
           4748,
           "Thüringen"
          ],
          [
           4752,
           "Thüringen"
          ],
          [
           4763,
           "Hessen"
          ],
          [
           4813,
           "Bayern"
          ],
          [
           4841,
           "Niedersachsen"
          ],
          [
           4857,
           "Niedersachsen"
          ],
          [
           4878,
           "Sachsen-Anhalt"
          ],
          [
           4887,
           "Baden-Württemberg"
          ],
          [
           4896,
           "Schleswig-Holstein"
          ],
          [
           4911,
           "Bayern"
          ],
          [
           4926,
           "Baden-Württemberg"
          ],
          [
           4927,
           "Baden-Württemberg"
          ],
          [
           4928,
           "Baden-Württemberg"
          ],
          [
           4931,
           "Baden-Württemberg"
          ],
          [
           4933,
           "Baden-Württemberg"
          ],
          [
           4978,
           "Hessen"
          ],
          [
           4997,
           "Thüringen"
          ],
          [
           5009,
           "Mecklenburg-Vorpommern"
          ],
          [
           5014,
           "Niedersachsen"
          ],
          [
           5017,
           "Bayern"
          ],
          [
           5029,
           "Saarland"
          ],
          [
           5046,
           "Bayern"
          ],
          [
           5049,
           "Baden-Württemberg"
          ],
          [
           5064,
           "Nordrhein-Westfalen"
          ],
          [
           5068,
           "Sachsen"
          ],
          [
           5097,
           "Mecklenburg-Vorpommern"
          ],
          [
           5099,
           "Rheinland-Pfalz"
          ],
          [
           5100,
           "Rheinland-Pfalz"
          ],
          [
           5109,
           "Mecklenburg-Vorpommern"
          ],
          [
           5111,
           "Bayern"
          ],
          [
           5133,
           "Hessen"
          ],
          [
           5142,
           "Mecklenburg-Vorpommern"
          ],
          [
           5146,
           "Niedersachsen"
          ],
          [
           5149,
           "Bayern"
          ],
          [
           5155,
           "Baden-Württemberg"
          ],
          [
           5158,
           "Sachsen-Anhalt"
          ],
          [
           5229,
           "Baden-Württemberg"
          ],
          [
           5275,
           "Baden-Württemberg"
          ],
          [
           5277,
           "Hessen"
          ],
          [
           5279,
           "Hessen"
          ],
          [
           5280,
           "Schleswig-Holstein"
          ],
          [
           5282,
           "Sachsen"
          ],
          [
           5300,
           "Hessen"
          ],
          [
           5335,
           "Thüringen"
          ],
          [
           5347,
           "Nordrhein-Westfalen"
          ],
          [
           5349,
           "Mecklenburg-Vorpommern"
          ],
          [
           5371,
           "Hessen"
          ],
          [
           5397,
           "Bayern"
          ],
          [
           5404,
           "Bayern"
          ],
          [
           5419,
           "Thüringen"
          ],
          [
           5424,
           "Thüringen"
          ],
          [
           5426,
           "Rheinland-Pfalz"
          ],
          [
           5431,
           "Sachsen-Anhalt"
          ],
          [
           5433,
           "Saarland"
          ],
          [
           5440,
           "Bayern"
          ],
          [
           5467,
           "Bayern"
          ],
          [
           5480,
           "Nordrhein-Westfalen"
          ],
          [
           5490,
           "Sachsen-Anhalt"
          ],
          [
           5516,
           "Schleswig-Holstein"
          ],
          [
           5538,
           "Bayern"
          ],
          [
           5541,
           "Hessen"
          ],
          [
           5546,
           "Brandenburg"
          ],
          [
           5562,
           "Baden-Württemberg"
          ],
          [
           5629,
           "Sachsen-Anhalt"
          ],
          [
           5640,
           "Niedersachsen"
          ],
          [
           5643,
           "Brandenburg"
          ],
          [
           5663,
           "Mecklenburg-Vorpommern"
          ],
          [
           5664,
           "Baden-Württemberg"
          ],
          [
           5665,
           "Baden-Württemberg"
          ],
          [
           5676,
           "Niedersachsen"
          ],
          [
           5688,
           "Baden-Württemberg"
          ],
          [
           5692,
           "Rheinland-Pfalz"
          ],
          [
           5705,
           "Bayern"
          ],
          [
           5715,
           "Niedersachsen"
          ],
          [
           5717,
           "Nordrhein-Westfalen"
          ],
          [
           5719,
           "Nordrhein-Westfalen"
          ],
          [
           5731,
           "Baden-Württemberg"
          ],
          [
           5732,
           "Schleswig-Holstein"
          ],
          [
           5745,
           "Brandenburg"
          ],
          [
           5750,
           "Sachsen-Anhalt"
          ],
          [
           5779,
           "Sachsen"
          ],
          [
           5792,
           "Bayern"
          ],
          [
           5797,
           "Sachsen"
          ],
          [
           5800,
           "Bayern"
          ],
          [
           5802,
           "Bayern"
          ],
          [
           5822,
           "Niedersachsen"
          ],
          [
           5825,
           "Brandenburg"
          ],
          [
           5832,
           "Niedersachsen"
          ],
          [
           5839,
           "Niedersachsen"
          ],
          [
           5856,
           "Bayern"
          ],
          [
           5871,
           "Rheinland-Pfalz"
          ],
          [
           5906,
           "Baden-Württemberg"
          ],
          [
           5930,
           "Schleswig-Holstein"
          ],
          [
           5941,
           "Bayern"
          ],
          [
           6093,
           "Niedersachsen"
          ],
          [
           6105,
           "Schleswig-Holstein"
          ],
          [
           6109,
           "Mecklenburg-Vorpommern"
          ],
          [
           6129,
           "Sachsen"
          ],
          [
           6157,
           "Niedersachsen"
          ],
          [
           6158,
           "Bayern"
          ],
          [
           6159,
           "Niedersachsen"
          ],
          [
           6163,
           "Schleswig-Holstein"
          ],
          [
           6170,
           "Brandenburg"
          ],
          [
           6182,
           "Bayern"
          ],
          [
           6184,
           "Niedersachsen"
          ],
          [
           6186,
           "Rheinland-Pfalz"
          ],
          [
           6192,
           "Rheinland-Pfalz"
          ],
          [
           6197,
           "Nordrhein-Westfalen"
          ],
          [
           6199,
           "Mecklenburg-Vorpommern"
          ],
          [
           6217,
           "Saarland"
          ],
          [
           6242,
           "Rheinland-Pfalz"
          ],
          [
           6243,
           "Baden-Württemberg"
          ],
          [
           6244,
           "Baden-Württemberg"
          ],
          [
           6245,
           "Baden-Württemberg"
          ],
          [
           6246,
           "Baden-Württemberg"
          ],
          [
           6247,
           "Baden-Württemberg"
          ],
          [
           6254,
           "Hamburg"
          ],
          [
           6255,
           "Saarland"
          ],
          [
           6256,
           "Baden-Württemberg"
          ],
          [
           6258,
           "Baden-Württemberg"
          ],
          [
           6259,
           "Baden-Württemberg"
          ],
          [
           6260,
           "Baden-Württemberg"
          ],
          [
           6262,
           "Baden-Württemberg"
          ],
          [
           6263,
           "Baden-Württemberg"
          ],
          [
           6264,
           "Nordrhein-Westfalen"
          ],
          [
           6265,
           "Brandenburg"
          ],
          [
           6266,
           "Sachsen-Anhalt"
          ],
          [
           6272,
           "Thüringen"
          ],
          [
           6273,
           "Sachsen-Anhalt"
          ],
          [
           6275,
           "Baden-Württemberg"
          ],
          [
           6305,
           "Thüringen"
          ],
          [
           6310,
           "Mecklenburg-Vorpommern"
          ],
          [
           6312,
           "Bayern"
          ],
          [
           6314,
           "Sachsen"
          ],
          [
           6336,
           "Bayern"
          ],
          [
           6337,
           "Nordrhein-Westfalen"
          ],
          [
           6344,
           "Hessen"
          ],
          [
           6346,
           "Bayern"
          ],
          [
           6347,
           "Bayern"
          ],
          [
           7075,
           "Bayern"
          ],
          [
           7099,
           "Niedersachsen"
          ],
          [
           7105,
           "Bayern"
          ],
          [
           7106,
           "Nordrhein-Westfalen"
          ],
          [
           7135,
           "Baden-Württemberg"
          ],
          [
           7187,
           "Baden-Württemberg"
          ],
          [
           7244,
           "Brandenburg"
          ],
          [
           7298,
           "Schleswig-Holstein"
          ],
          [
           7319,
           "Bayern"
          ],
          [
           7321,
           "Thüringen"
          ],
          [
           7325,
           "Bayern"
          ],
          [
           7329,
           "Sachsen"
          ],
          [
           7330,
           "Nordrhein-Westfalen"
          ],
          [
           7331,
           "Baden-Württemberg"
          ],
          [
           7341,
           "Hessen"
          ],
          [
           7343,
           "Sachsen"
          ],
          [
           7350,
           "Bayern"
          ],
          [
           7351,
           "Mecklenburg-Vorpommern"
          ],
          [
           7364,
           "Sachsen-Anhalt"
          ],
          [
           7367,
           "Niedersachsen"
          ],
          [
           7368,
           "Thüringen"
          ],
          [
           7369,
           "Bayern"
          ],
          [
           7370,
           "Bayern"
          ],
          [
           7373,
           "Niedersachsen"
          ],
          [
           7374,
           "Nordrhein-Westfalen"
          ],
          [
           7389,
           "Brandenburg"
          ],
          [
           7393,
           "Sachsen"
          ],
          [
           7394,
           "Bayern"
          ],
          [
           7395,
           "Bayern"
          ],
          [
           7396,
           "Hessen"
          ],
          [
           7403,
           "Baden-Württemberg"
          ],
          [
           7410,
           "Hessen"
          ],
          [
           7412,
           "Bayern"
          ],
          [
           7419,
           "Thüringen"
          ],
          [
           7420,
           "Sachsen-Anhalt"
          ],
          [
           7424,
           "Bayern"
          ],
          [
           7427,
           "Schleswig-Holstein"
          ],
          [
           7428,
           "Thüringen"
          ],
          [
           7431,
           "Bayern"
          ],
          [
           7432,
           "Niedersachsen"
          ],
          [
           13667,
           "Baden-Württemberg"
          ],
          [
           13670,
           "Nordrhein-Westfalen"
          ],
          [
           13674,
           "Baden-Württemberg"
          ],
          [
           13675,
           "Niedersachsen"
          ],
          [
           13696,
           "Nordrhein-Westfalen"
          ],
          [
           13700,
           "Nordrhein-Westfalen"
          ],
          [
           13710,
           "Bayern"
          ],
          [
           13711,
           "Thüringen"
          ],
          [
           13713,
           "Nordrhein-Westfalen"
          ],
          [
           13776,
           "Niedersachsen"
          ],
          [
           13777,
           "Niedersachsen"
          ],
          [
           13903,
           "Niedersachsen"
          ],
          [
           13904,
           "Hamburg"
          ],
          [
           13965,
           "Baden-Württemberg"
          ],
          [
           14003,
           "Bayern"
          ],
          [
           14138,
           "Brandenburg"
          ],
          [
           15000,
           "Nordrhein-Westfalen"
          ],
          [
           15207,
           "Hessen"
          ],
          [
           15444,
           "Baden-Württemberg"
          ],
          [
           15555,
           "Bayern"
          ],
          [
           19171,
           "Schleswig-Holstein"
          ],
          [
           19172,
           "Schleswig-Holstein"
          ]
         ],
         "hovertemplate": "<b>%{hovertext}</b><br><br>lon=%{lat}<br>lat=%{lon}<br>station_id=%{customdata[0]}<br>station_state=%{customdata[1]}<extra></extra>",
         "hovertext": [
          "Aachen",
          "Großenkneten",
          "Ahrensburg-Wulfsdorf",
          "Albstadt-Badkap",
          "Aldersbach-Kriestorf",
          "Alfhausen",
          "Alsfeld-Eifa",
          "Neuruppin-Alt Ruppin",
          "Leuchtturm Alte Weser",
          "Altenau",
          "Altenstadt",
          "Geringswalde-Altgeringswalde",
          "Altomünster-Maisbrunn",
          "Alzey",
          "Amberg-Unterammersricht",
          "Amerang-Pfaffing",
          "Andernach",
          "Angermünde",
          "Anklam",
          "Ansbach",
          "Arendsee",
          "Arkona",
          "Arnstein-Müdesheim",
          "Artern",
          "Attenkam",
          "Aue",
          "Augsburg",
          "Baden-Baden-Geroldsau",
          "Müllheim",
          "Baiersbronn-Obertal",
          "Bamberg",
          "Bamberg (Sternwarte)",
          "Barsinghausen-Hohenbostel",
          "Barth",
          "Baruth",
          "Kubschütz, Kr. Bautzen",
          "Heinersreuth-Vollhof",
          "Beckum-Unterberg",
          "Oberzent-Beerfelden",
          "Belm",
          "Bendorf",
          "Benneckenstein",
          "Berchtesgaden (KKst)",
          "Bergen",
          "Bergzabern, Bad",
          "Berka, Bad (Flugplatz)",
          "Berleburg, Bad-Stünzel",
          "Berlin-Alexanderplatz",
          "Berlin-Buch",
          "Berlin-Dahlem (FU)",
          "Berlin-Kaniswall",
          "Berlin-Marzahn",
          "Berlin-Ostkreuz",
          "Berlin-Brandenburg",
          "Berlin-Tegel",
          "Berlin-Tempelhof",
          "Bernburg/Saale (Nord)",
          "Bernkastel-Kues",
          "Berus",
          "Warthausen-Birkenhard",
          "Blankenrath",
          "Bocholt (Marienschule)",
          "Bocholt-Liedern (Wasserwerk)",
          "Bochum",
          "Boizenburg",
          "Boltenhagen",
          "Bonn",
          "Bonn-Friesdorf",
          "Bonn-Hardthöhe",
          "Königswinter-Heiderhof",
          "Borken in Westfalen",
          "Braunlage",
          "Braunschweig",
          "Breitsol",
          "Bremen",
          "Bremerhaven",
          "Bremervörde",
          "Brocken",
          "Buchen, Kr. Neckar-Odenwald",
          "Buchenbach",
          "Rosengarten-Klecken",
          "Büchel (Flugplatz)",
          "Bückeburg",
          "Burgwald-Bottendorf",
          "Carlsfeld",
          "Celle",
          "Chemnitz",
          "Chieming",
          "Clausthal-Zellerfeld",
          "Lautertal-Oberlauter",
          "Collmberg",
          "Cottbus (Flugplatz)",
          "Cottbus",
          "Cuxhaven",
          "Dachwig",
          "Darmstadt",
          "Darmstadt-Botanischer Garten",
          "Darmstadt (US-Air-Base)",
          "Deuselbach",
          "UFS Deutsche Bucht",
          "Diepholz",
          "Dillenburg",
          "Dillingen/Donau",
          "Dillingen/Donau-Fristingen",
          "Dippoldiswalde-Reinberg",
          "Dobel",
          "Doberlug-Kirchhain",
          "Dresden-Klotzsche",
          "Dresden-Hosterwitz",
          "Dresden-Strehlen",
          "Drewitz bei Burg",
          "Dürkheim, Bad",
          "Dürrheim, Bad",
          "Düsseldorf",
          "Ebersberg-Halbing",
          "Ebrach",
          "Eggebek",
          "Eichstätt-Landershofen",
          "Ellwangen-Rindelbach",
          "Elpersbüttel",
          "Elster, Bad-Sohl",
          "Elzach-Fisnacht",
          "Emden-Nesserland",
          "Emden-Wolthusen",
          "Emmendingen-Mundingen",
          "UFS TW Ems",
          "Engen/Hegau",
          "Ennigerloh-Ostenfelde",
          "Eppingen-Elsenz",
          "München-Flughafen",
          "Erfde",
          "Erfurt-Weimar",
          "Möhrendorf-Kleinseebach",
          "Erlangen-Frauenaurach",
          "Eschwege",
          "Eslohe",
          "Essen-Bredeney",
          "Weilerswist-Lommersum",
          "Falkenberg,Kr.Rottal-Inn",
          "Faßberg",
          "Fehmarnbelt",
          "Feldberg/Schwarzwald",
          "Fichtelberg/Oberfranken-Hüttstadl",
          "Fichtelberg",
          "Birx/Rhön",
          "Frankfurt/Main",
          "Frankfurt/Main (Stadt)",
          "Frankfurt/Main-Westend",
          "Frankfurt/Main (Feldbergstr.)",
          "Frankfurt/Oder",
          "Freiburg",
          "Freiburg/Elbe",
          "Freudenstadt",
          "Freystadt-Michelbach",
          "Friedrichshafen",
          "Friesoythe-Altenoythe",
          "Fritzlar (Flugplatz)",
          "Fürstenfeldbruck",
          "Fulda-Horas",
          "Gardelegen",
          "Garmisch-Partenkirchen",
          "Geilenkirchen (Flugplatz)",
          "Geisenheim",
          "Geisingberg",
          "Geisingen",
          "Gelbelsee",
          "Geldern-Walbeck",
          "Ohlsbach",
          "Genthin",
          "Gera-Leumnitz",
          "Gießen/Wettenberg",
          "Gilserberg-Moischeid",
          "Glücksburg-Meierwik",
          "Görlitz",
          "Göttingen",
          "Goldberg",
          "Gräfenberg-Kasberg",
          "Grainet-Rehberg",
          "Grambek",
          "Greifswald",
          "Greifswald-Wieck",
          "Greifswalder Oie",
          "Münster/Osnabrück",
          "Groß Berßen",
          "Groß Lüsewitz",
          "Großer Arber",
          "Grosser Falkenstein",
          "Grosser Inselsberg",
          "Gründau-Breitenborn",
          "Grünow",
          "Günzburg",
          "Gütersloh (Flugplatz)",
          "Gunzenhausen (Altmühlsee)",
          "Halle-Kröllwitz",
          "Halle (Stadt)",
          "Olsdorf",
          "Hamburg-Fuhlsbüttel",
          "Hamburg-Neuwiedenthal",
          "Hannover",
          "Harburg",
          "Harzburg, Bad",
          "Harzgerode",
          "Hechingen",
          "Heidelberg",
          "Königstuhl",
          "Heidenheim/Brenz",
          "Heinsberg-Schleiden",
          "Helgoland",
          "Herrenalb, Bad",
          "Herrnhut",
          "Niederwörresbach",
          "Hersfeld, Bad",
          "Herzberg",
          "Hiddensee-Vitte",
          "Hilgenroth",
          "Höchenschwand",
          "Bertsdorf-Hörnitz",
          "Hof",
          "Hohenpeißenberg",
          "Hohn",
          "Hohwacht",
          "Holzdorf (Flugplatz)",
          "Holzkirchen",
          "Bevern, Kr. Holzminden",
          "Hopsten (Flugplatz)",
          "Hümmerich",
          "Husum",
          "Idar-Oberstein",
          "Ingolstadt (Flugplatz)",
          "Isny",
          "Itzehoe",
          "Schleswig-Jagel",
          "Jena (Sternwarte)",
          "Jever",
          "Jungholz (Kühmoos)",
          "Kahl/Main",
          "Kahler Asten",
          "Kaisersbach-Cronhütte",
          "Kaiserslautern",
          "Kaisheim-Neuhof",
          "Kalkar",
          "Kall-Sistig",
          "Kaltennordheim",
          "Karlshuld",
          "Karlsruhe",
          "Kassel",
          "Kaufbeuren",
          "Kempten",
          "Kiel-Holtenau",
          "Kiel-Kronshagen",
          "Kirchberg/Jagst-Herboldshausen",
          "Kirchdorf/Poel",
          "Kissingen, Bad",
          "Kitzingen",
          "Kleiner Feldberg/Taunus",
          "Kleiner Inselsberg",
          "Klettwitz",
          "Kleve",
          "Klippeneck",
          "Klitzschen bei Torgau",
          "Koblenz",
          "Köln-Bonn",
          "Königshofen, Bad",
          "Königsmoos-Untermaxfeld",
          "Königstein/Taunus",
          "Kösching",
          "Köthen (Anhalt)",
          "Kohlgrub, Bad (Rosshof)",
          "Konstanz",
          "Kreuth",
          "Kronach",
          "Krumbach-Edenhausen",
          "Kümmersbruck",
          "Kyritz",
          "Laage (Flugplatz)",
          "Lahr",
          "Merklingen",
          "Landsberg (Flugplatz)",
          "Langen (BZ)",
          "Langenlipsdorf",
          "Lauchstädt, Bad",
          "Laupheim",
          "Lechfeld",
          "Leck",
          "Leiblfing",
          "Leinefelde",
          "Leipzig-Holzhausen",
          "Leipzig/Halle",
          "Lennestadt-Theten",
          "Lenzen/Elbe",
          "Lenzkirch-Ruhbühl",
          "Leuchtturm Kiel",
          "Köln-Stammheim",
          "Lichtenhain-Mittelndorf",
          "Lindenberg",
          "Lingen",
          "Lippspringe, Bad",
          "Lippstadt-Bökenförde",
          "List auf Sylt",
          "Lobenstein, Bad",
          "Löhnberg-Obershausen",
          "Löningen",
          "Lübben-Blumenfelde",
          "Lübeck",
          "Lübeck-Blankensee",
          "Lüchow",
          "Lüdenscheid",
          "Magdeburg",
          "Mainz-Lerchenberg (ZDF)",
          "Maisach-Gernlinden",
          "Malente, Bad-Gremsmühlen",
          "Mallersdorf-Pfaffenberg/Niederbayern",
          "Manderscheid-Sonnenhof",
          "Manschnow",
          "Cölbe, Kr. Marburg-Biedenkopf",
          "Marienberg",
          "Marienberg, Bad",
          "Marienleuchte",
          "Marnitz",
          "Martinroda",
          "Aschersleben-Mehringen",
          "Meiningen",
          "Garsebach bei Meißen",
          "Memmingen",
          "Memmingen (Flugplatz)",
          "Mendig",
          "Meppen",
          "Mergentheim, Bad-Neunkirchen",
          "Meßstetten-Appental",
          "Metten",
          "Mettlach-Orscholz (Kurort)",
          "Metzingen",
          "Michelstadt",
          "Michelstadt-Vielbrunn",
          "Schmieritz-Weltwitz",
          "Mittenwald-Buckelwiesen",
          "Röllbach",
          "Montabaur",
          "Moringen-Lutterbeck",
          "Mühlacker",
          "Mühldorf",
          "Müncheberg",
          "München-Stadt",
          "München-Bogenhausen",
          "München-Nymphenburg",
          "München-Riem",
          "Münsingen-Apfelstetten",
          "Münster",
          "Muskau, Bad",
          "Nauheim, Bad",
          "Neubrandenburg",
          "Neuburg/Donau (Flugplatz)",
          "Neuburg/Kammel-Langenhaslach",
          "Neuenahr, Bad-Ahrweiler",
          "Menz",
          "Neuhaus am Rennweg",
          "Neukirchen-Hauptschwenda",
          "Neunkirchen-Seelscheid-Krawinkel",
          "Neunkirchen-Wellesweiler",
          "Neuruppin",
          "Neustadt am Kulm-Filchendorf",
          "Neustadt/Weinstraße",
          "Neustrelitz",
          "Nideggen-Schmidt",
          "Niederstetten",
          "Niederstotzingen",
          "Nienburg",
          "Reimlingen",
          "Nörvenich (Flugplatz)",
          "Norderney",
          "Nordholz (Flugplatz)",
          "Nürburg",
          "Nürburg-Barweiler",
          "Nürnberg-Netzstall",
          "Nürnberg",
          "Nürtingen",
          "Kiefersfelden-Gach",
          "Münstertal-Obermünstertal",
          "Oberstdorf",
          "Obersulm-Willsbach",
          "Oberviechtach",
          "Öhringen",
          "Oldenburg",
          "Oschatz",
          "Osnabrück",
          "Osterfeld",
          "Ostheim v.d. Rhön",
          "Oy-Mittelberg-Petersthal",
          "Parsberg/Oberpfalz-Eglwang",
          "Passau-Oberhaus",
          "Pelzerhaken",
          "Perl-Nennig",
          "Pforzheim-Ispringen",
          "Pfullendorf",
          "Pirmasens",
          "Plauen",
          "Pommelsbrunn-Mittelburg",
          "Potsdam",
          "Puch",
          "Putbus",
          "Quedlinburg",
          "Querfurt-Mühle Lodersleben",
          "Quickborn",
          "Rahden-Kleinendorf",
          "Weingarten, Kr. Ravensburg",
          "Regensburg",
          "Reichshof-Eckenhagen",
          "Remscheid-Lennep",
          "Renningen-Ihinger Hof",
          "Rheinau-Memprechtshofen",
          "Rheine-Bentlage",
          "Rheinfelden",
          "Rheinstetten",
          "Altheim, Kreis Biberach",
          "Rosenheim",
          "Rostock-Warnemünde",
          "Rotenburg (Wümme)",
          "Roth",
          "Rothenburg ob der Tauber",
          "Rottenburg-Kiebingen",
          "Rottweil",
          "Kreuznach, Bad",
          "Ruppertsecken",
          "Saarbrücken-Ensheim",
          "Saarbrücken-Sankt Johann",
          "Sachsa, Bad",
          "Sachsenheim",
          "Säckingen, Bad",
          "Saldenburg-Entschenreuth",
          "Salzuflen, Bad",
          "Salzwedel",
          "Sandberg",
          "Sankt Peter-Ording",
          "Schaafheim-Schlierbach",
          "Wernigerode-Schierke",
          "Schleiz",
          "Schleswig",
          "Schluchsee",
          "Schlüchtern-Herolz",
          "Schmalkalden, Kurort",
          "Schmücke",
          "Schneifelforsthaus",
          "Schömberg, Kr. Calw",
          "Schönwald/Ofr.-Brunn",
          "Schorndorf-Knöbling",
          "Schotten",
          "Schwaigermoos",
          "Schwandorf",
          "Schwarzburg",
          "Schwerin",
          "Schwesing",
          "Seehausen",
          "Seesen",
          "Siegen (Kläranlage)",
          "Sigmaringen (Flugplatz)",
          "Sigmaringen-Laiz",
          "Sigmarszell-Zeisertsweiler",
          "Simbach/Inn",
          "Simmern-Wahlbach",
          "Sinsheim",
          "Soltau",
          "Sondershausen",
          "Sonneberg-Neufang",
          "Sontra",
          "Staffelstein, Bad-Stublang",
          "Steinau, Kr. Cuxhaven",
          "Mittelnkirchen-Hohenfelde",
          "Oberharz am Brocken-Stiege",
          "Stötten",
          "Wagersrott",
          "Straubing",
          "Stuttgart (Neckartal)",
          "Stuttgart-Stadt",
          "Stuttgart (Schnarrenberg)",
          "Stuttgart-Echterdingen",
          "Stuttgart-Hohenheim",
          "Tann/Rhön",
          "Starkenberg-Tegkwitz",
          "Teterow",
          "Worpswede-Hüttenbusch",
          "Teuschnitz",
          "Tholey",
          "Tirschenreuth-Lodermühl",
          "Titisee-Neustadt-Titisee",
          "Tönisvorst",
          "Torgau",
          "Tribsees",
          "Trier-Zewen",
          "Trier-Petrisberg",
          "Trollenhagen",
          "Trostberg",
          "Twistetal-Mühlhausen",
          "Ueckermünde",
          "Uelzen",
          "Gollhofen",
          "Ulm",
          "Ummendorf",
          "Villingen-Schwenningen",
          "Waghäusel-Kirrlach",
          "Wahlen",
          "Wesertal-Lippoldsberg",
          "Wittenborn",
          "Wahnsdorf bei Dresden",
          "Waldems-Reinborn",
          "Waltershausen",
          "Warburg",
          "Waren (Müritz)",
          "Wasserkuppe",
          "Weiden",
          "Weihenstephan-Dürnast",
          "Weimar",
          "Weimar-Schöndorf",
          "Weinbiet",
          "Weisen bei Wittenberge",
          "Weiskirchen/Saar",
          "Weißenburg-Emetzheim",
          "Wendelstein",
          "Werl",
          "Wernigerode",
          "Fehmarn",
          "Wielenbach (Demollstr.)",
          "Wiesbaden-Auringen",
          "Wiesenburg",
          "Neubulach-Oberhaugstett",
          "Wittenberg",
          "Wittmundhafen",
          "Wittstock-Rote Mühle",
          "Woldegk",
          "Wolfach",
          "Wolfegg",
          "Wolfsburg (Südwest)",
          "Dachsberg-Wolpadingen",
          "Worms",
          "Würzburg",
          "Wunstorf",
          "Wuppertal-Buchenhofen",
          "Remscheid",
          "Wutöschingen-Ofteringen",
          "Wrixum/Föhr",
          "Zehdenick",
          "Zeitz",
          "Zinnwald-Georgenfeld",
          "Zugspitze",
          "Lichtentanne",
          "Zwiesel",
          "Zwieselberg",
          "Bassum",
          "Berge",
          "Dannenberg",
          "Emden",
          "Fürstenzell",
          "Hahn",
          "Mannheim",
          "Schönhagen (Ostseebad)",
          "Reit im Winkl",
          "Wendisch Evern",
          "Ostenfeld (Rendsburg)",
          "Grambow-Schwennenz",
          "Sohland/Spree",
          "Wangerland-Hooksiel",
          "Weidenbach-Weiherschneidbach",
          "Dörpen",
          "Dörnick",
          "Coschen",
          "Mallersdorf-Pfaffenberg",
          "Wilhelmshaven (Flugplatz)",
          "Nastätten",
          "Münster am Stein, Bad",
          "Lügde-Paenbruch",
          "Steinhagen-Negast",
          "Saarbrücken-Burbach",
          "Mülheim-Kärlich",
          "Philippsburg KKW",
          "Obrigheim",
          "Neckarwestheim KKW",
          "Waldshut KKW",
          "Dogern (Leibstadt)",
          "Hamburg-Lotsenhöft",
          "Perl/Saar",
          "Bremgarten (Fessenheim)",
          "Friedrichshafen-Unterraderach",
          "Großerlach-Mannenweiler",
          "Ingelfingen-Stachenhausen",
          "Schwäbisch Gmünd-Weiler",
          "Singen",
          "Brilon-Thülen",
          "Wusterwitz",
          "Huy-Pabstorf",
          "Moorgrund Gräfen-Nitzendorf",
          "Demker",
          "Notzingen",
          "Mühlhausen/Thüringen-Görmar",
          "Karlshagen",
          "Markt Erlbach-Mosbach",
          "Nossen",
          "Lohr/Main-Halsbach",
          "Lüdinghausen-Brochtrup",
          "Runkel-Ennerich",
          "Maisach-Galgen",
          "Schonungen-Mainberg",
          "Elsendorf-Horneck",
          "Liebenburg-Othfresen",
          "Siegsdorf-Höll",
          "Bielefeld-Deppendorf",
          "Aulendorf-Haslach",
          "Freudenberg/Main-Boxtal",
          "Neuglobsow (HM)",
          "Hattstedt",
          "Donauwörth-Osterweiler",
          "Olbersleben",
          "Schneefernerhaus",
          "Treuen",
          "Arnsberg-Neheim",
          "Hermaringen-Allewind",
          "Offenbach-Wetterpark",
          "Deutschneudorf-Brüderwiese",
          "Prackenbach-Neuhäusl",
          "Feldberg/Mecklenburg",
          "Jeßnitz",
          "Alfeld",
          "Eisenach",
          "Feuchtwangen-Heilbronn",
          "Waldmünchen",
          "Borkum-Flugplatz",
          "Ahaus",
          "Heckelberg",
          "Hoyerswerda",
          "Wunsiedel-Schönbrunn",
          "Gottfrieding",
          "Hoherodskopf/Vogelsberg",
          "Leutkirch-Herlazhofen",
          "Neu-Ulrichstein",
          "Neuhütten/Spessart",
          "Langenwetzendorf-Göttendorf",
          "Naumburg/Saale-Kreipitzsch",
          "Piding",
          "Padenstedt (Pony-Park)",
          "Veilsdorf",
          "Oberhaching-Laufzorn",
          "Wittingen-Vorhop",
          "Freiburg-Mitte",
          "Duisburg-Baerl",
          "Waibstadt",
          "Hameln-Hastenbeck",
          "Waltrop-Abdinghof",
          "Gevelsberg-Oberbröking",
          "Landshut-Reithof",
          "Krölpa-Rockendorf",
          "Meinerzhagen-Redlendorf",
          "Hildesheim-Drispenstedt",
          "Helmstedt-Emmerstedt",
          "Bake Zulu",
          "Nordseeboje 2",
          "Balingen-Bronnhaupten",
          "Kaufbeuren (Flugplatz)",
          "Falkenberg (Grenzschichtmessfeld)",
          "Aachen-Orsbach",
          "Schauenburg-Elgershausen",
          "Ulm-Mähringen",
          "Kaufbeuren-Oberbeuren",
          "Hasenkrug-Hardebek",
          "Wacken"
         ],
         "lat": [
          50.7827,
          52.9336,
          53.6623,
          48.2156,
          48.6159,
          52.4853,
          50.7446,
          52.9437,
          53.8633,
          51.7976,
          47.8342,
          51.0881,
          48.40600000000001,
          49.7273,
          49.4691,
          48.0197,
          50.4237,
          53.0316,
          53.8412,
          49.2964,
          52.8761,
          54.6792,
          49.9694,
          51.3745,
          47.8774,
          50.5908,
          48.4253,
          48.727,
          47.8064,
          48.5293,
          49.8743,
          49.88,
          52.3199,
          54.3406,
          52.0614,
          51.1604,
          49.9667,
          51.7204,
          49.5617,
          52.317,
          50.4135,
          51.6715,
          47.6344,
          52.8152,
          49.107,
          50.9074,
          50.9837,
          52.5198,
          52.6309,
          52.4537,
          52.404,
          52.5447,
          52.5,
          52.3807,
          52.5644,
          52.4675,
          51.8218,
          49.9186,
          49.2641,
          48.1252,
          50.0372,
          51.838,
          51.8293,
          51.4789,
          53.3911,
          54.0028,
          50.7285,
          50.7055,
          50.6983,
          50.7293,
          51.87300000000001,
          51.7234,
          52.2915,
          49.9017,
          53.045,
          53.5332,
          53.4451,
          51.7986,
          49.5182,
          47.9625,
          53.3629,
          50.1746,
          52.2817,
          51.0306,
          50.4313,
          52.5959,
          50.7913,
          47.8843,
          51.7904,
          50.3066,
          51.304,
          51.7667,
          51.776,
          53.8713,
          51.0778,
          49.8809,
          49.8697,
          49.8564,
          49.7619,
          54.1796,
          52.5881,
          50.7364,
          48.5701,
          48.5562,
          50.9116,
          48.7968,
          51.6451,
          51.128,
          51.0221,
          51.0248,
          52.2174,
          49.4719,
          48.0135,
          51.29600000000001,
          48.1003,
          49.852,
          54.6282,
          48.8777,
          48.9895,
          54.0691,
          50.2705,
          48.2012,
          53.3449,
          53.3707,
          48.1378,
          54.1651,
          47.8516,
          51.8418,
          49.1664,
          48.3477,
          54.2992,
          50.9829,
          49.6497,
          49.5653,
          51.2041,
          51.254,
          51.4041,
          50.7119,
          48.4832,
          52.9157,
          54.6,
          47.8749,
          49.9807,
          50.4283,
          50.5309,
          50.0259,
          50.1474,
          50.1269,
          50.1213,
          52.3397,
          48.0232,
          53.8277,
          48.4538,
          49.1869,
          47.6454,
          53.0643,
          51.119,
          48.2,
          50.5668,
          52.5129,
          47.483,
          50.9593,
          49.9859,
          50.7719,
          47.9242,
          48.9481,
          51.4942,
          48.433,
          52.3875,
          50.8813,
          50.6017,
          50.9656,
          54.8273,
          51.1622,
          51.5002,
          53.606,
          49.664,
          48.7894,
          53.5731,
          54.0967,
          54.1,
          54.2437,
          52.1344,
          52.7553,
          54.0714,
          49.1129,
          49.0851,
          50.8519,
          50.2667,
          53.3153,
          48.4878,
          51.9298,
          49.1273,
          51.5138,
          51.4831,
          49.9445,
          53.6332,
          53.4777,
          52.4644,
          48.7918,
          51.9002,
          51.652,
          48.3752,
          49.4206,
          49.3981,
          48.6765,
          51.0411,
          54.175,
          48.8042,
          51.0167,
          49.7672,
          50.852,
          51.6255,
          54.575,
          50.7371,
          47.7327,
          50.899,
          50.3123,
          47.8009,
          54.3146,
          54.3194,
          51.7657,
          47.8823,
          51.8529,
          52.3333,
          50.5651,
          54.4752,
          49.6927,
          48.7112,
          47.6894,
          53.9897,
          54.457,
          50.9251,
          53.5322,
          47.5938,
          50.0643,
          51.1803,
          48.917,
          49.4262,
          48.7701,
          51.7329,
          50.5014,
          50.6266,
          48.6765,
          49.0382,
          51.2963,
          47.8652,
          47.7233,
          54.3776,
          54.3378,
          49.1804,
          53.9995,
          50.224,
          49.7363,
          50.2218,
          50.8458,
          51.5554,
          51.7612,
          48.1054,
          51.5185,
          50.3519,
          50.8646,
          50.284,
          48.6707,
          50.1855,
          48.8302,
          51.7511,
          47.6652,
          47.6952,
          47.645,
          50.2523,
          48.25100000000001,
          49.4283,
          52.9363,
          53.9156,
          48.3647,
          48.5121,
          48.0772,
          50.0075,
          51.9173,
          51.3909,
          48.2176,
          48.1849,
          54.7903,
          48.7654,
          51.3933,
          51.3151,
          51.4348,
          51.1333,
          53.1007,
          47.8597,
          54.4996,
          50.9894,
          50.9383,
          52.2085,
          52.5181,
          51.7854,
          51.6336,
          55.011,
          50.4505,
          50.5617,
          52.7198,
          51.9267,
          53.8773,
          53.8025,
          52.9724,
          51.2452,
          52.1029,
          49.9656,
          48.2166,
          54.18,
          48.7725,
          50.1015,
          52.5468,
          50.8492,
          50.651,
          50.6621,
          54.4937,
          53.3223,
          50.7335,
          51.7259,
          50.5612,
          51.1294,
          47.982,
          47.9833,
          50.3667,
          52.7156,
          49.4773,
          48.1694,
          48.8548,
          49.507,
          48.5377,
          49.6691,
          49.7176,
          50.7281,
          47.4779,
          49.7644,
          50.4383,
          51.7209,
          48.9721,
          48.279,
          52.5176,
          48.1632,
          48.1441,
          48.166,
          48.1369,
          48.3851,
          51.9494,
          51.566,
          50.3574,
          53.5468,
          48.7086,
          48.3115,
          50.5346,
          53.102,
          50.5002,
          50.8923,
          50.8446,
          49.344,
          52.9037,
          49.8174,
          49.357,
          53.3585,
          50.6743,
          49.3895,
          48.5334,
          52.6711,
          48.8253,
          50.8294,
          53.7123,
          53.7647,
          50.3391,
          50.3602,
          49.4258,
          49.503,
          48.6321,
          47.6187,
          47.878,
          47.3984,
          49.128,
          49.4521,
          49.207,
          53.1763,
          51.29600000000001,
          52.2553,
          51.0873,
          50.4538,
          47.6362,
          49.151,
          48.5779,
          54.0893,
          49.5354,
          48.9329,
          47.9345,
          49.1912,
          50.4819,
          49.4777,
          52.3813,
          48.1877,
          54.3643,
          51.7953,
          51.3895,
          53.7331,
          52.4461,
          47.8062,
          49.0425,
          50.9906,
          51.18,
          48.7425,
          48.6703,
          52.2887,
          47.559,
          48.9726,
          48.1479,
          47.8753,
          54.1803,
          53.1288,
          49.2162,
          49.3848,
          48.4704,
          48.1814,
          49.8502,
          49.6468,
          49.2128,
          49.2231,
          51.5909,
          48.9569,
          47.5619,
          48.7832,
          52.1042,
          52.8568,
          50.3518,
          54.3279,
          49.9195,
          51.7658,
          50.5679,
          54.5275,
          47.8208,
          50.3447,
          50.725,
          50.6546,
          50.2968,
          48.7859,
          50.1847,
          49.1644,
          50.4925,
          48.3667,
          49.3278,
          50.6441,
          53.6425,
          54.5166,
          52.8911,
          51.904,
          50.8534,
          48.1,
          48.0719,
          47.5776,
          48.2718,
          49.9996,
          49.2447,
          52.9604,
          51.352,
          50.3746,
          51.0607,
          50.0806,
          53.6946,
          53.5534,
          51.6646,
          48.6656,
          54.6654,
          48.8275,
          48.7896,
          48.7693,
          48.8281,
          48.6883,
          48.7091,
          50.639,
          50.9771,
          53.761,
          53.2758,
          50.4002,
          49.4737,
          49.8576,
          47.8991,
          51.2897,
          51.5833,
          54.0661,
          49.7326,
          49.7479,
          53.5997,
          48.0311,
          51.3344,
          53.7444,
          52.9414,
          49.5741,
          48.3837,
          52.1601,
          48.0453,
          49.2445,
          50.8119,
          51.6194,
          53.9224,
          51.1197,
          50.2596,
          50.8963,
          51.5039,
          53.5196,
          50.4973,
          49.6663,
          48.4024,
          50.9751,
          51.0177,
          49.3758,
          53.0333,
          49.5534,
          49.0115,
          47.7035,
          51.5763,
          51.8454,
          54.5283,
          47.8827,
          50.132,
          52.1207,
          48.6516,
          51.8892,
          53.5504,
          53.1864,
          53.4618,
          48.2953,
          47.81800000000001,
          52.3962,
          47.7003,
          49.6051,
          49.7704,
          52.4605,
          51.2256,
          51.2051,
          47.6783,
          54.6928,
          52.9664,
          51.0314,
          50.7314,
          47.42100000000001,
          50.6879,
          49.028,
          49.0007,
          52.863,
          52.6198,
          53.1007,
          53.3881,
          48.5451,
          49.9462,
          49.5062,
          54.64100000000001,
          47.6754,
          53.2139,
          54.3194,
          53.3837,
          51.0593,
          53.64100000000001,
          49.2247,
          52.9542,
          54.1654,
          52.0192,
          48.7757,
          53.5333,
          50.1989,
          49.8083,
          51.8664,
          54.2484,
          49.2406,
          50.4088,
          49.2506,
          49.365,
          49.0423,
          47.6213,
          47.6078,
          53.5408,
          49.4667,
          47.91,
          47.6845,
          49.021,
          49.3328,
          48.7695,
          47.7738,
          51.414,
          52.3613,
          52.0304,
          50.8426,
          52.5075,
          48.6705,
          51.2061,
          54.1049,
          49.5314,
          51.0507,
          50.0132,
          51.7663,
          50.394,
          48.207,
          50.0579,
          48.702,
          52.0111,
          47.835,
          52.0714,
          47.9655,
          49.7636,
          53.1424,
          54.5268,
          48.7374,
          51.1507,
          47.4167,
          50.5467,
          51.4633,
          48.6099,
          50.09,
          50.6199,
          49.1088,
          53.3175,
          51.682,
          51.9643,
          51.0007,
          49.1623,
          49.39100000000001,
          53.5984,
          52.0813,
          52.7461,
          51.4493,
          50.0315,
          48.6595,
          50.5084,
          47.7955,
          50.7513,
          50.0083,
          50.661,
          51.1044,
          47.7724,
          54.0188,
          50.4167,
          48.01300000000001,
          52.6423,
          48.0006,
          51.5088,
          49.2943,
          52.0818,
          51.5966,
          51.3329,
          48.5734,
          50.682,
          51.0899,
          52.1789,
          52.2467,
          54.0167,
          55,
          48.2639,
          47.8619,
          52.1655,
          50.7983,
          51.2835,
          48.4418,
          47.8761,
          54.0038,
          54.0246
         ],
         "legendgroup": "",
         "lon": [
          6.0941,
          8.237,
          10.199,
          8.9784,
          13.0506,
          7.9126,
          9.345,
          12.8518,
          8.1275,
          10.4429,
          10.8667,
          12.9326,
          11.3117,
          8.1164,
          11.8546,
          12.2925,
          7.4202,
          13.9908,
          13.6846,
          10.5751,
          11.5042,
          13.4343,
          9.9114,
          11.292,
          11.3643,
          12.7139,
          10.9417,
          8.2457,
          7.6387,
          8.2727,
          10.9206,
          10.88,
          9.43,
          12.7108,
          13.4996,
          14.5042,
          11.5197,
          8.0577,
          8.9673,
          8.1694,
          7.5886,
          10.7268,
          13.0109,
          9.9248,
          7.9967,
          11.2665,
          8.3683,
          13.4057,
          13.5022,
          13.3017,
          13.7309,
          13.5598,
          13.4667,
          13.5306,
          13.3088,
          13.4021,
          11.710999999999999,
          7.0664,
          6.6868,
          9.7639,
          7.3079,
          6.6107,
          6.5365,
          7.2697,
          10.6878,
          11.1908,
          7.0839,
          7.1467,
          7.0356,
          7.204,
          6.8863,
          10.6021,
          10.4464,
          9.4281,
          8.7979,
          8.5761,
          9.139,
          10.6183,
          9.3213,
          7.9983,
          9.9435,
          7.0595,
          9.0889,
          8.8146,
          12.6114,
          10.0296,
          12.872,
          12.5404,
          10.347000000000001,
          10.9679,
          13.0096,
          14.2833,
          14.3168,
          8.7058,
          10.8619,
          8.6779,
          8.6796,
          8.5929,
          7.0542,
          7.4587,
          8.3424,
          8.2672,
          10.4985,
          10.5599,
          13.7087,
          8.4921,
          13.5747,
          13.7543,
          13.847000000000001,
          13.775,
          12.1641,
          8.1929,
          8.5343,
          6.7686,
          11.9872,
          10.4991,
          9.3649,
          11.2349,
          10.1312,
          9.0105,
          12.2742,
          8.1088,
          7.1909,
          7.2236,
          7.8351,
          6.346,
          8.7673,
          8.0607,
          8.8523,
          11.8134,
          9.3162,
          10.9608,
          11.0074,
          10.9729,
          10.0138,
          8.1565,
          6.9677,
          6.7905,
          12.7241,
          10.1885,
          11.15,
          8.0038,
          11.8376,
          12.9535,
          10.048,
          8.5213,
          8.6746,
          8.6694,
          8.6601,
          14.508,
          7.8343,
          9.2493,
          8.408999999999999,
          11.308,
          9.4795,
          7.9022,
          9.2799,
          11.2667,
          9.6533,
          11.3941,
          11.0621,
          6.0392,
          7.9548,
          13.7732,
          8.6473,
          11.4289,
          6.2463,
          7.992999999999999,
          12.1601,
          12.1289,
          8.6439,
          9.05,
          9.5058,
          14.9506,
          9.9507,
          12.1033,
          11.2239,
          13.629000000000001,
          10.6797,
          13.4056,
          13.45,
          13.9102,
          7.6969,
          7.4815,
          12.3238,
          13.1338,
          13.2801,
          10.4665,
          9.1854,
          13.9338,
          10.2607,
          8.3005,
          10.7448,
          11.9499,
          11.9671,
          6.3821,
          9.9881,
          9.8957,
          9.6779,
          10.7062,
          10.5699,
          11.1367,
          8.98,
          8.6676,
          8.7251,
          10.1307,
          6.1042,
          7.892,
          8.443,
          14.75,
          7.3356,
          9.7377,
          10.3695,
          13.1044,
          7.6528,
          8.1627,
          14.7457,
          11.876,
          11.0108,
          9.539,
          10.6732,
          13.1666,
          11.6961,
          9.4953,
          7.55,
          7.4843,
          9.0564,
          7.3264,
          11.5362,
          10.0416,
          9.5696,
          9.5203,
          11.583,
          7.8806,
          7.9597,
          8.993,
          8.4891,
          9.6871,
          7.7557,
          10.7876,
          6.2688,
          6.5264,
          10.1455,
          11.2961,
          8.3641,
          9.4424,
          10.6007,
          10.3348,
          10.1424,
          10.0929,
          9.98,
          11.4341,
          10.0792,
          10.1781,
          8.4469,
          10.4803,
          13.8845,
          6.0954,
          8.7548,
          12.9065,
          7.5906,
          7.1575,
          10.4456,
          11.2173,
          8.4698,
          11.4872,
          12.0094,
          11.0805,
          9.1307,
          11.7442,
          11.3209,
          10.4163,
          11.9016,
          12.4093,
          12.279000000000002,
          7.827999999999999,
          9.7645,
          10.9144,
          8.6547,
          13.0878,
          11.8786,
          9.9097,
          10.8507,
          8.9514,
          12.5121,
          10.3123,
          12.4462,
          12.2396,
          8.0348,
          11.4864,
          8.2308,
          10.2737,
          6.9777,
          14.2093,
          14.118,
          7.3081,
          8.8388,
          8.3945,
          8.4125,
          11.635,
          8.2386,
          7.7472,
          13.8797,
          10.6915,
          10.6989,
          11.1374,
          7.6425,
          11.5827,
          8.2139,
          11.2965,
          10.5528,
          12.2179,
          6.8009,
          14.5452,
          8.7746,
          13.1469,
          7.9603,
          11.2405,
          11.9319,
          10.8815,
          11.5109,
          10.3771,
          13.4328,
          10.1384,
          10.2333,
          7.3167,
          7.3176,
          9.7622,
          8.9433,
          12.9189,
          6.5215,
          9.2734,
          9.0085,
          9.0997,
          11.7838,
          11.2653,
          9.253,
          7.8061,
          9.8352,
          8.8734,
          12.5024,
          14.1232,
          11.5429,
          11.6,
          11.5011,
          11.7094,
          9.4837,
          7.5906,
          14.7008,
          8.7506,
          13.1914,
          11.2147,
          10.3773,
          7.0853,
          13.0421,
          11.1344,
          9.405,
          7.372000000000001,
          7.2297,
          12.8072,
          11.8638,
          8.1405,
          13.0502,
          6.4239999999999995,
          9.9667,
          10.2427,
          9.2229,
          10.5067,
          6.6602,
          7.1519,
          8.6583,
          6.9501,
          6.8697,
          11.2538,
          11.0549,
          9.3261,
          12.1665,
          7.8288,
          10.2759,
          9.3525,
          12.4365,
          9.5176,
          8.1824,
          13.0928,
          8.0534,
          11.9292,
          10.2211,
          10.3892,
          11.6896,
          13.4694,
          10.8773,
          6.3789,
          8.6973,
          9.2869,
          7.5879,
          12.13,
          11.5357,
          13.0622,
          11.2206,
          13.4771,
          11.132,
          11.5412,
          9.8776,
          8.5906,
          9.6206,
          12.1019,
          7.6958,
          7.2505,
          8.924,
          7.9939,
          7.3866,
          7.7721,
          8.3301,
          9.4596,
          12.128,
          12.0808,
          9.3398,
          11.1035,
          10.1732,
          8.9687,
          8.6356,
          7.871,
          7.8837,
          7.1077,
          7.0168,
          10.5691,
          9.071,
          7.9399,
          13.3146,
          8.7521,
          11.1319,
          10.0034,
          8.6031,
          8.9671,
          10.6533,
          11.8041,
          9.5487,
          8.186,
          9.5534,
          10.4539,
          10.7693,
          6.4194,
          8.6451,
          12.0791,
          12.6175,
          9.1226,
          11.8,
          12.0871,
          11.1936,
          11.3872,
          9.142000000000001,
          11.7297,
          10.1885,
          7.9966,
          9.25,
          9.1943,
          9.7404,
          13.0273,
          7.5981,
          8.8787,
          9.793,
          10.9059,
          11.1828,
          9.9266,
          11.0466,
          8.8735,
          9.6097,
          10.8811,
          9.8648,
          9.805,
          12.5597,
          9.2167,
          9.1814,
          9.2,
          9.2235,
          9.2147,
          10.0228,
          12.3419,
          12.5574,
          8.9857,
          11.3889,
          7.0385,
          12.3542,
          8.146,
          6.4437,
          13,
          12.7675,
          6.6131,
          6.6583,
          13.3039,
          12.5396,
          8.9132,
          14.0697,
          10.5289,
          10.1915,
          9.9524,
          11.1759,
          8.4608,
          8.5374,
          9.128,
          9.5749,
          10.2267,
          13.6744,
          8.3607,
          10.5484,
          9.1118,
          12.6654,
          9.9427,
          12.1845,
          11.6946,
          11.3076,
          11.3544,
          8.1213,
          11.8,
          6.812,
          10.9308,
          12.0119,
          7.8879,
          10.7686,
          11.0606,
          11.1576,
          8.317,
          12.4585,
          8.6801,
          12.6445,
          7.6672,
          12.4949,
          13.6099,
          8.2391,
          9.797,
          10.6892,
          8.1057,
          8.3659,
          9.9576,
          9.4311,
          7.1052,
          7.2,
          8.3801,
          8.5271,
          13.3268,
          12.1495,
          13.7516,
          10.9848,
          12.4329,
          13.2385,
          13.2137,
          8.6988,
          12.7867,
          11.0455,
          7.2287,
          13.3532,
          7.2645,
          8.5585,
          10.0238,
          12.4698,
          10.4704,
          9.8051,
          14.3728,
          14.4266,
          8.0808,
          10.6084,
          7.3196,
          10.3519,
          14.7254,
          12.1743,
          8.1667,
          7.8651,
          7.8458,
          9.271,
          13.0418,
          6.9351,
          7.489,
          8.4422,
          9.0804,
          9.1733,
          8.2167,
          8.1813,
          9.9528,
          6.3968,
          7.5838,
          9.4409,
          9.6033,
          9.704,
          9.8737,
          8.8219,
          8.65,
          12.3867,
          10.9626,
          10.2518,
          11.8551,
          9.4627,
          10.4978,
          13.8239,
          10.6418,
          13.3003,
          9.654,
          7.5194,
          8.1423,
          11.2035,
          10.2972,
          11.8493,
          10.3966,
          12.6548,
          8.4565,
          9.6804,
          9.4063,
          13.0319,
          9.0425,
          10.7393,
          11.3321,
          10.9794,
          12.2863,
          7.978,
          10.2674,
          8.7862,
          13.4816,
          12.8231,
          13.4175,
          12.3042,
          9.8072,
          10.3621,
          10.3661,
          12.6838,
          6.7024,
          6.9409,
          13.8427,
          14.2533,
          11.9745,
          12.5388,
          9.2247,
          10.0324,
          9.0224,
          9.4238,
          12.0756,
          11.7112,
          12.9073,
          9.9255,
          10.8156,
          11.5524,
          10.6627,
          7.845,
          6.7018,
          8.9053,
          9.4077,
          7.4048,
          7.3411,
          12.2576,
          11.515,
          7.6289,
          9.9524,
          10.9592,
          8.3167,
          6.3333,
          8.8134,
          10.6144,
          14.1224,
          6.0244,
          9.359,
          9.9216,
          10.5849,
          9.8553,
          9.388
         ],
         "marker": {
          "color": "fuchsia"
         },
         "mode": "markers",
         "name": "",
         "showlegend": false,
         "subplot": "mapbox",
         "type": "scattermapbox"
        }
       ],
       "layout": {
        "height": 500,
        "legend": {
         "tracegroupgap": 0
        },
        "mapbox": {
         "center": {
          "lat": 50.71833685800605,
          "lon": 10.13629244712991
         },
         "domain": {
          "x": [
           0,
           1
          ],
          "y": [
           0,
           1
          ]
         },
         "style": "open-street-map",
         "zoom": 4
        },
        "margin": {
         "b": 0,
         "l": 0,
         "r": 0,
         "t": 0
        },
        "template": {
         "data": {
          "bar": [
           {
            "error_x": {
             "color": "#2a3f5f"
            },
            "error_y": {
             "color": "#2a3f5f"
            },
            "marker": {
             "line": {
              "color": "#E5ECF6",
              "width": 0.5
             }
            },
            "type": "bar"
           }
          ],
          "barpolar": [
           {
            "marker": {
             "line": {
              "color": "#E5ECF6",
              "width": 0.5
             }
            },
            "type": "barpolar"
           }
          ],
          "carpet": [
           {
            "aaxis": {
             "endlinecolor": "#2a3f5f",
             "gridcolor": "white",
             "linecolor": "white",
             "minorgridcolor": "white",
             "startlinecolor": "#2a3f5f"
            },
            "baxis": {
             "endlinecolor": "#2a3f5f",
             "gridcolor": "white",
             "linecolor": "white",
             "minorgridcolor": "white",
             "startlinecolor": "#2a3f5f"
            },
            "type": "carpet"
           }
          ],
          "choropleth": [
           {
            "colorbar": {
             "outlinewidth": 0,
             "ticks": ""
            },
            "type": "choropleth"
           }
          ],
          "contour": [
           {
            "colorbar": {
             "outlinewidth": 0,
             "ticks": ""
            },
            "colorscale": [
             [
              0,
              "#0d0887"
             ],
             [
              0.1111111111111111,
              "#46039f"
             ],
             [
              0.2222222222222222,
              "#7201a8"
             ],
             [
              0.3333333333333333,
              "#9c179e"
             ],
             [
              0.4444444444444444,
              "#bd3786"
             ],
             [
              0.5555555555555556,
              "#d8576b"
             ],
             [
              0.6666666666666666,
              "#ed7953"
             ],
             [
              0.7777777777777778,
              "#fb9f3a"
             ],
             [
              0.8888888888888888,
              "#fdca26"
             ],
             [
              1,
              "#f0f921"
             ]
            ],
            "type": "contour"
           }
          ],
          "contourcarpet": [
           {
            "colorbar": {
             "outlinewidth": 0,
             "ticks": ""
            },
            "type": "contourcarpet"
           }
          ],
          "heatmap": [
           {
            "colorbar": {
             "outlinewidth": 0,
             "ticks": ""
            },
            "colorscale": [
             [
              0,
              "#0d0887"
             ],
             [
              0.1111111111111111,
              "#46039f"
             ],
             [
              0.2222222222222222,
              "#7201a8"
             ],
             [
              0.3333333333333333,
              "#9c179e"
             ],
             [
              0.4444444444444444,
              "#bd3786"
             ],
             [
              0.5555555555555556,
              "#d8576b"
             ],
             [
              0.6666666666666666,
              "#ed7953"
             ],
             [
              0.7777777777777778,
              "#fb9f3a"
             ],
             [
              0.8888888888888888,
              "#fdca26"
             ],
             [
              1,
              "#f0f921"
             ]
            ],
            "type": "heatmap"
           }
          ],
          "heatmapgl": [
           {
            "colorbar": {
             "outlinewidth": 0,
             "ticks": ""
            },
            "colorscale": [
             [
              0,
              "#0d0887"
             ],
             [
              0.1111111111111111,
              "#46039f"
             ],
             [
              0.2222222222222222,
              "#7201a8"
             ],
             [
              0.3333333333333333,
              "#9c179e"
             ],
             [
              0.4444444444444444,
              "#bd3786"
             ],
             [
              0.5555555555555556,
              "#d8576b"
             ],
             [
              0.6666666666666666,
              "#ed7953"
             ],
             [
              0.7777777777777778,
              "#fb9f3a"
             ],
             [
              0.8888888888888888,
              "#fdca26"
             ],
             [
              1,
              "#f0f921"
             ]
            ],
            "type": "heatmapgl"
           }
          ],
          "histogram": [
           {
            "marker": {
             "colorbar": {
              "outlinewidth": 0,
              "ticks": ""
             }
            },
            "type": "histogram"
           }
          ],
          "histogram2d": [
           {
            "colorbar": {
             "outlinewidth": 0,
             "ticks": ""
            },
            "colorscale": [
             [
              0,
              "#0d0887"
             ],
             [
              0.1111111111111111,
              "#46039f"
             ],
             [
              0.2222222222222222,
              "#7201a8"
             ],
             [
              0.3333333333333333,
              "#9c179e"
             ],
             [
              0.4444444444444444,
              "#bd3786"
             ],
             [
              0.5555555555555556,
              "#d8576b"
             ],
             [
              0.6666666666666666,
              "#ed7953"
             ],
             [
              0.7777777777777778,
              "#fb9f3a"
             ],
             [
              0.8888888888888888,
              "#fdca26"
             ],
             [
              1,
              "#f0f921"
             ]
            ],
            "type": "histogram2d"
           }
          ],
          "histogram2dcontour": [
           {
            "colorbar": {
             "outlinewidth": 0,
             "ticks": ""
            },
            "colorscale": [
             [
              0,
              "#0d0887"
             ],
             [
              0.1111111111111111,
              "#46039f"
             ],
             [
              0.2222222222222222,
              "#7201a8"
             ],
             [
              0.3333333333333333,
              "#9c179e"
             ],
             [
              0.4444444444444444,
              "#bd3786"
             ],
             [
              0.5555555555555556,
              "#d8576b"
             ],
             [
              0.6666666666666666,
              "#ed7953"
             ],
             [
              0.7777777777777778,
              "#fb9f3a"
             ],
             [
              0.8888888888888888,
              "#fdca26"
             ],
             [
              1,
              "#f0f921"
             ]
            ],
            "type": "histogram2dcontour"
           }
          ],
          "mesh3d": [
           {
            "colorbar": {
             "outlinewidth": 0,
             "ticks": ""
            },
            "type": "mesh3d"
           }
          ],
          "parcoords": [
           {
            "line": {
             "colorbar": {
              "outlinewidth": 0,
              "ticks": ""
             }
            },
            "type": "parcoords"
           }
          ],
          "pie": [
           {
            "automargin": true,
            "type": "pie"
           }
          ],
          "scatter": [
           {
            "marker": {
             "colorbar": {
              "outlinewidth": 0,
              "ticks": ""
             }
            },
            "type": "scatter"
           }
          ],
          "scatter3d": [
           {
            "line": {
             "colorbar": {
              "outlinewidth": 0,
              "ticks": ""
             }
            },
            "marker": {
             "colorbar": {
              "outlinewidth": 0,
              "ticks": ""
             }
            },
            "type": "scatter3d"
           }
          ],
          "scattercarpet": [
           {
            "marker": {
             "colorbar": {
              "outlinewidth": 0,
              "ticks": ""
             }
            },
            "type": "scattercarpet"
           }
          ],
          "scattergeo": [
           {
            "marker": {
             "colorbar": {
              "outlinewidth": 0,
              "ticks": ""
             }
            },
            "type": "scattergeo"
           }
          ],
          "scattergl": [
           {
            "marker": {
             "colorbar": {
              "outlinewidth": 0,
              "ticks": ""
             }
            },
            "type": "scattergl"
           }
          ],
          "scattermapbox": [
           {
            "marker": {
             "colorbar": {
              "outlinewidth": 0,
              "ticks": ""
             }
            },
            "type": "scattermapbox"
           }
          ],
          "scatterpolar": [
           {
            "marker": {
             "colorbar": {
              "outlinewidth": 0,
              "ticks": ""
             }
            },
            "type": "scatterpolar"
           }
          ],
          "scatterpolargl": [
           {
            "marker": {
             "colorbar": {
              "outlinewidth": 0,
              "ticks": ""
             }
            },
            "type": "scatterpolargl"
           }
          ],
          "scatterternary": [
           {
            "marker": {
             "colorbar": {
              "outlinewidth": 0,
              "ticks": ""
             }
            },
            "type": "scatterternary"
           }
          ],
          "surface": [
           {
            "colorbar": {
             "outlinewidth": 0,
             "ticks": ""
            },
            "colorscale": [
             [
              0,
              "#0d0887"
             ],
             [
              0.1111111111111111,
              "#46039f"
             ],
             [
              0.2222222222222222,
              "#7201a8"
             ],
             [
              0.3333333333333333,
              "#9c179e"
             ],
             [
              0.4444444444444444,
              "#bd3786"
             ],
             [
              0.5555555555555556,
              "#d8576b"
             ],
             [
              0.6666666666666666,
              "#ed7953"
             ],
             [
              0.7777777777777778,
              "#fb9f3a"
             ],
             [
              0.8888888888888888,
              "#fdca26"
             ],
             [
              1,
              "#f0f921"
             ]
            ],
            "type": "surface"
           }
          ],
          "table": [
           {
            "cells": {
             "fill": {
              "color": "#EBF0F8"
             },
             "line": {
              "color": "white"
             }
            },
            "header": {
             "fill": {
              "color": "#C8D4E3"
             },
             "line": {
              "color": "white"
             }
            },
            "type": "table"
           }
          ]
         },
         "layout": {
          "annotationdefaults": {
           "arrowcolor": "#2a3f5f",
           "arrowhead": 0,
           "arrowwidth": 1
          },
          "coloraxis": {
           "colorbar": {
            "outlinewidth": 0,
            "ticks": ""
           }
          },
          "colorscale": {
           "diverging": [
            [
             0,
             "#8e0152"
            ],
            [
             0.1,
             "#c51b7d"
            ],
            [
             0.2,
             "#de77ae"
            ],
            [
             0.3,
             "#f1b6da"
            ],
            [
             0.4,
             "#fde0ef"
            ],
            [
             0.5,
             "#f7f7f7"
            ],
            [
             0.6,
             "#e6f5d0"
            ],
            [
             0.7,
             "#b8e186"
            ],
            [
             0.8,
             "#7fbc41"
            ],
            [
             0.9,
             "#4d9221"
            ],
            [
             1,
             "#276419"
            ]
           ],
           "sequential": [
            [
             0,
             "#0d0887"
            ],
            [
             0.1111111111111111,
             "#46039f"
            ],
            [
             0.2222222222222222,
             "#7201a8"
            ],
            [
             0.3333333333333333,
             "#9c179e"
            ],
            [
             0.4444444444444444,
             "#bd3786"
            ],
            [
             0.5555555555555556,
             "#d8576b"
            ],
            [
             0.6666666666666666,
             "#ed7953"
            ],
            [
             0.7777777777777778,
             "#fb9f3a"
            ],
            [
             0.8888888888888888,
             "#fdca26"
            ],
            [
             1,
             "#f0f921"
            ]
           ],
           "sequentialminus": [
            [
             0,
             "#0d0887"
            ],
            [
             0.1111111111111111,
             "#46039f"
            ],
            [
             0.2222222222222222,
             "#7201a8"
            ],
            [
             0.3333333333333333,
             "#9c179e"
            ],
            [
             0.4444444444444444,
             "#bd3786"
            ],
            [
             0.5555555555555556,
             "#d8576b"
            ],
            [
             0.6666666666666666,
             "#ed7953"
            ],
            [
             0.7777777777777778,
             "#fb9f3a"
            ],
            [
             0.8888888888888888,
             "#fdca26"
            ],
            [
             1,
             "#f0f921"
            ]
           ]
          },
          "colorway": [
           "#636efa",
           "#EF553B",
           "#00cc96",
           "#ab63fa",
           "#FFA15A",
           "#19d3f3",
           "#FF6692",
           "#B6E880",
           "#FF97FF",
           "#FECB52"
          ],
          "font": {
           "color": "#2a3f5f"
          },
          "geo": {
           "bgcolor": "white",
           "lakecolor": "white",
           "landcolor": "#E5ECF6",
           "showlakes": true,
           "showland": true,
           "subunitcolor": "white"
          },
          "hoverlabel": {
           "align": "left"
          },
          "hovermode": "closest",
          "mapbox": {
           "style": "light"
          },
          "paper_bgcolor": "white",
          "plot_bgcolor": "#E5ECF6",
          "polar": {
           "angularaxis": {
            "gridcolor": "white",
            "linecolor": "white",
            "ticks": ""
           },
           "bgcolor": "#E5ECF6",
           "radialaxis": {
            "gridcolor": "white",
            "linecolor": "white",
            "ticks": ""
           }
          },
          "scene": {
           "xaxis": {
            "backgroundcolor": "#E5ECF6",
            "gridcolor": "white",
            "gridwidth": 2,
            "linecolor": "white",
            "showbackground": true,
            "ticks": "",
            "zerolinecolor": "white"
           },
           "yaxis": {
            "backgroundcolor": "#E5ECF6",
            "gridcolor": "white",
            "gridwidth": 2,
            "linecolor": "white",
            "showbackground": true,
            "ticks": "",
            "zerolinecolor": "white"
           },
           "zaxis": {
            "backgroundcolor": "#E5ECF6",
            "gridcolor": "white",
            "gridwidth": 2,
            "linecolor": "white",
            "showbackground": true,
            "ticks": "",
            "zerolinecolor": "white"
           }
          },
          "shapedefaults": {
           "line": {
            "color": "#2a3f5f"
           }
          },
          "ternary": {
           "aaxis": {
            "gridcolor": "white",
            "linecolor": "white",
            "ticks": ""
           },
           "baxis": {
            "gridcolor": "white",
            "linecolor": "white",
            "ticks": ""
           },
           "bgcolor": "#E5ECF6",
           "caxis": {
            "gridcolor": "white",
            "linecolor": "white",
            "ticks": ""
           }
          },
          "title": {
           "x": 0.05
          },
          "xaxis": {
           "automargin": true,
           "gridcolor": "white",
           "linecolor": "white",
           "ticks": "",
           "title": {
            "standoff": 15
           },
           "zerolinecolor": "white",
           "zerolinewidth": 2
          },
          "yaxis": {
           "automargin": true,
           "gridcolor": "white",
           "linecolor": "white",
           "ticks": "",
           "title": {
            "standoff": 15
           },
           "zerolinecolor": "white",
           "zerolinewidth": 2
          }
         }
        },
        "width": 800
       }
      }
     },
     "metadata": {}
    }
   ],
   "source": [
    "# Plot every available station and their location to a map.\n",
    "fig = px.scatter_mapbox(\n",
    "    df_stations,                                    # The dataframe that contains the informations.\n",
    "    lat=\"lon\", lon=\"lat\",                           # The names of the columns that contain the location information.\n",
    "    hover_name=\"station_name\",                      # Specify tooltip.\n",
    "    hover_data=[\"station_id\", \"station_state\"],  \n",
    "    color_discrete_sequence=[\"fuchsia\"], zoom = 4)  # Specify color and zoom.\n",
    "# Change the layout of the plot.\n",
    "fig.update_layout(\n",
    "    mapbox_style=\"open-street-map\",                 # Display a world map in the background.\n",
    "    width = 800,                                    # Size of our diagram.\n",
    "    height = 500,\n",
    "    margin={\"r\":0,\"t\":0,\"l\":0,\"b\":0})               # Remove the border around the diagram.\n",
    "# Display the resulting visualisation.\n",
    "fig.show()"
   ]
  },
  {
   "source": [
    "### Extract the weather data for a specific weather station."
   ],
   "cell_type": "markdown",
   "metadata": {}
  },
  {
   "cell_type": "code",
   "execution_count": 12,
   "metadata": {},
   "outputs": [
    {
     "output_type": "execute_result",
     "data": {
      "text/plain": [
       "     STATIONS_ID           MESS_DATUM  QN_9  TT_TU  RF_TU\n",
       "0           2444  2020-10-01 00:00:00     1    9.0   95.0\n",
       "1           2444  2020-10-01 00:00:01     1    8.9   96.0\n",
       "2           2444  2020-10-01 00:00:02     1    9.0   97.0\n",
       "3           2444  2020-10-01 00:00:03     1    8.8   97.0\n",
       "4           2444  2020-10-01 00:00:04     1    8.6   97.0\n",
       "..           ...                  ...   ...    ...    ...\n",
       "739         2444  2020-10-31 00:00:19     1   11.9   81.0\n",
       "740         2444  2020-10-31 00:00:20     1   11.3   83.0\n",
       "741         2444  2020-10-31 00:00:21     1   11.1   84.0\n",
       "742         2444  2020-10-31 00:00:22     1   10.4   86.0\n",
       "743         2444  2020-10-31 00:00:23     1   10.5   86.0\n",
       "\n",
       "[744 rows x 5 columns]"
      ],
      "text/html": "<div>\n<style scoped>\n    .dataframe tbody tr th:only-of-type {\n        vertical-align: middle;\n    }\n\n    .dataframe tbody tr th {\n        vertical-align: top;\n    }\n\n    .dataframe thead th {\n        text-align: right;\n    }\n</style>\n<table border=\"1\" class=\"dataframe\">\n  <thead>\n    <tr style=\"text-align: right;\">\n      <th></th>\n      <th>STATIONS_ID</th>\n      <th>MESS_DATUM</th>\n      <th>QN_9</th>\n      <th>TT_TU</th>\n      <th>RF_TU</th>\n    </tr>\n  </thead>\n  <tbody>\n    <tr>\n      <th>0</th>\n      <td>2444</td>\n      <td>2020-10-01 00:00:00</td>\n      <td>1</td>\n      <td>9.0</td>\n      <td>95.0</td>\n    </tr>\n    <tr>\n      <th>1</th>\n      <td>2444</td>\n      <td>2020-10-01 00:00:01</td>\n      <td>1</td>\n      <td>8.9</td>\n      <td>96.0</td>\n    </tr>\n    <tr>\n      <th>2</th>\n      <td>2444</td>\n      <td>2020-10-01 00:00:02</td>\n      <td>1</td>\n      <td>9.0</td>\n      <td>97.0</td>\n    </tr>\n    <tr>\n      <th>3</th>\n      <td>2444</td>\n      <td>2020-10-01 00:00:03</td>\n      <td>1</td>\n      <td>8.8</td>\n      <td>97.0</td>\n    </tr>\n    <tr>\n      <th>4</th>\n      <td>2444</td>\n      <td>2020-10-01 00:00:04</td>\n      <td>1</td>\n      <td>8.6</td>\n      <td>97.0</td>\n    </tr>\n    <tr>\n      <th>...</th>\n      <td>...</td>\n      <td>...</td>\n      <td>...</td>\n      <td>...</td>\n      <td>...</td>\n    </tr>\n    <tr>\n      <th>739</th>\n      <td>2444</td>\n      <td>2020-10-31 00:00:19</td>\n      <td>1</td>\n      <td>11.9</td>\n      <td>81.0</td>\n    </tr>\n    <tr>\n      <th>740</th>\n      <td>2444</td>\n      <td>2020-10-31 00:00:20</td>\n      <td>1</td>\n      <td>11.3</td>\n      <td>83.0</td>\n    </tr>\n    <tr>\n      <th>741</th>\n      <td>2444</td>\n      <td>2020-10-31 00:00:21</td>\n      <td>1</td>\n      <td>11.1</td>\n      <td>84.0</td>\n    </tr>\n    <tr>\n      <th>742</th>\n      <td>2444</td>\n      <td>2020-10-31 00:00:22</td>\n      <td>1</td>\n      <td>10.4</td>\n      <td>86.0</td>\n    </tr>\n    <tr>\n      <th>743</th>\n      <td>2444</td>\n      <td>2020-10-31 00:00:23</td>\n      <td>1</td>\n      <td>10.5</td>\n      <td>86.0</td>\n    </tr>\n  </tbody>\n</table>\n<p>744 rows × 5 columns</p>\n</div>"
     },
     "metadata": {},
     "execution_count": 12
    }
   ],
   "source": [
    "# Station id for 'Jena Sternwarte': 2444.\n",
    "station_id = 2444\n",
    "# Extract the rows of the dataframe that meet the condition.\n",
    "df = df_measurements[df_measurements['STATIONS_ID'] == station_id]\n",
    "# Reset the index (line number).\n",
    "df.reset_index(drop=True, inplace=True)\n",
    "df"
   ]
  },
  {
   "source": [
    "### Plot the weather data."
   ],
   "cell_type": "markdown",
   "metadata": {}
  },
  {
   "cell_type": "code",
   "execution_count": 13,
   "metadata": {},
   "outputs": [
    {
     "output_type": "display_data",
     "data": {
      "application/vnd.plotly.v1+json": {
       "config": {
        "plotlyServerURL": "https://plot.ly"
       },
       "data": [
        {
         "hovertemplate": "MESS_DATUM=%{x}<br>TT_TU=%{y}<extra></extra>",
         "legendgroup": "",
         "line": {
          "color": "#636efa",
          "dash": "solid"
         },
         "mode": "lines",
         "name": "",
         "orientation": "v",
         "showlegend": false,
         "type": "scatter",
         "x": [
          "2020-10-01 00:00:00",
          "2020-10-01 00:00:01",
          "2020-10-01 00:00:02",
          "2020-10-01 00:00:03",
          "2020-10-01 00:00:04",
          "2020-10-01 00:00:05",
          "2020-10-01 00:00:06",
          "2020-10-01 00:00:07",
          "2020-10-01 00:00:08",
          "2020-10-01 00:00:09",
          "2020-10-01 00:00:10",
          "2020-10-01 00:00:11",
          "2020-10-01 00:00:12",
          "2020-10-01 00:00:13",
          "2020-10-01 00:00:14",
          "2020-10-01 00:00:15",
          "2020-10-01 00:00:16",
          "2020-10-01 00:00:17",
          "2020-10-01 00:00:18",
          "2020-10-01 00:00:19",
          "2020-10-01 00:00:20",
          "2020-10-01 00:00:21",
          "2020-10-01 00:00:22",
          "2020-10-01 00:00:23",
          "2020-10-02 00:00:00",
          "2020-10-02 00:00:01",
          "2020-10-02 00:00:02",
          "2020-10-02 00:00:03",
          "2020-10-02 00:00:04",
          "2020-10-02 00:00:05",
          "2020-10-02 00:00:06",
          "2020-10-02 00:00:07",
          "2020-10-02 00:00:08",
          "2020-10-02 00:00:09",
          "2020-10-02 00:00:10",
          "2020-10-02 00:00:11",
          "2020-10-02 00:00:12",
          "2020-10-02 00:00:13",
          "2020-10-02 00:00:14",
          "2020-10-02 00:00:15",
          "2020-10-02 00:00:16",
          "2020-10-02 00:00:17",
          "2020-10-02 00:00:18",
          "2020-10-02 00:00:19",
          "2020-10-02 00:00:20",
          "2020-10-02 00:00:21",
          "2020-10-02 00:00:22",
          "2020-10-02 00:00:23",
          "2020-10-03 00:00:00",
          "2020-10-03 00:00:01",
          "2020-10-03 00:00:02",
          "2020-10-03 00:00:03",
          "2020-10-03 00:00:04",
          "2020-10-03 00:00:05",
          "2020-10-03 00:00:06",
          "2020-10-03 00:00:07",
          "2020-10-03 00:00:08",
          "2020-10-03 00:00:09",
          "2020-10-03 00:00:10",
          "2020-10-03 00:00:11",
          "2020-10-03 00:00:12",
          "2020-10-03 00:00:13",
          "2020-10-03 00:00:14",
          "2020-10-03 00:00:15",
          "2020-10-03 00:00:16",
          "2020-10-03 00:00:17",
          "2020-10-03 00:00:18",
          "2020-10-03 00:00:19",
          "2020-10-03 00:00:20",
          "2020-10-03 00:00:21",
          "2020-10-03 00:00:22",
          "2020-10-03 00:00:23",
          "2020-10-04 00:00:00",
          "2020-10-04 00:00:01",
          "2020-10-04 00:00:02",
          "2020-10-04 00:00:03",
          "2020-10-04 00:00:04",
          "2020-10-04 00:00:05",
          "2020-10-04 00:00:06",
          "2020-10-04 00:00:07",
          "2020-10-04 00:00:08",
          "2020-10-04 00:00:09",
          "2020-10-04 00:00:10",
          "2020-10-04 00:00:11",
          "2020-10-04 00:00:12",
          "2020-10-04 00:00:13",
          "2020-10-04 00:00:14",
          "2020-10-04 00:00:15",
          "2020-10-04 00:00:16",
          "2020-10-04 00:00:17",
          "2020-10-04 00:00:18",
          "2020-10-04 00:00:19",
          "2020-10-04 00:00:20",
          "2020-10-04 00:00:21",
          "2020-10-04 00:00:22",
          "2020-10-04 00:00:23",
          "2020-10-05 00:00:00",
          "2020-10-05 00:00:01",
          "2020-10-05 00:00:02",
          "2020-10-05 00:00:03",
          "2020-10-05 00:00:04",
          "2020-10-05 00:00:05",
          "2020-10-05 00:00:06",
          "2020-10-05 00:00:07",
          "2020-10-05 00:00:08",
          "2020-10-05 00:00:09",
          "2020-10-05 00:00:10",
          "2020-10-05 00:00:11",
          "2020-10-05 00:00:12",
          "2020-10-05 00:00:13",
          "2020-10-05 00:00:14",
          "2020-10-05 00:00:15",
          "2020-10-05 00:00:16",
          "2020-10-05 00:00:17",
          "2020-10-05 00:00:18",
          "2020-10-05 00:00:19",
          "2020-10-05 00:00:20",
          "2020-10-05 00:00:21",
          "2020-10-05 00:00:22",
          "2020-10-05 00:00:23",
          "2020-10-06 00:00:00",
          "2020-10-06 00:00:01",
          "2020-10-06 00:00:02",
          "2020-10-06 00:00:03",
          "2020-10-06 00:00:04",
          "2020-10-06 00:00:05",
          "2020-10-06 00:00:06",
          "2020-10-06 00:00:07",
          "2020-10-06 00:00:08",
          "2020-10-06 00:00:09",
          "2020-10-06 00:00:10",
          "2020-10-06 00:00:11",
          "2020-10-06 00:00:12",
          "2020-10-06 00:00:13",
          "2020-10-06 00:00:14",
          "2020-10-06 00:00:15",
          "2020-10-06 00:00:16",
          "2020-10-06 00:00:17",
          "2020-10-06 00:00:18",
          "2020-10-06 00:00:19",
          "2020-10-06 00:00:20",
          "2020-10-06 00:00:21",
          "2020-10-06 00:00:22",
          "2020-10-06 00:00:23",
          "2020-10-07 00:00:00",
          "2020-10-07 00:00:01",
          "2020-10-07 00:00:02",
          "2020-10-07 00:00:03",
          "2020-10-07 00:00:04",
          "2020-10-07 00:00:05",
          "2020-10-07 00:00:06",
          "2020-10-07 00:00:07",
          "2020-10-07 00:00:08",
          "2020-10-07 00:00:09",
          "2020-10-07 00:00:10",
          "2020-10-07 00:00:11",
          "2020-10-07 00:00:12",
          "2020-10-07 00:00:13",
          "2020-10-07 00:00:14",
          "2020-10-07 00:00:15",
          "2020-10-07 00:00:16",
          "2020-10-07 00:00:17",
          "2020-10-07 00:00:18",
          "2020-10-07 00:00:19",
          "2020-10-07 00:00:20",
          "2020-10-07 00:00:21",
          "2020-10-07 00:00:22",
          "2020-10-07 00:00:23",
          "2020-10-08 00:00:00",
          "2020-10-08 00:00:01",
          "2020-10-08 00:00:02",
          "2020-10-08 00:00:03",
          "2020-10-08 00:00:04",
          "2020-10-08 00:00:05",
          "2020-10-08 00:00:06",
          "2020-10-08 00:00:07",
          "2020-10-08 00:00:08",
          "2020-10-08 00:00:09",
          "2020-10-08 00:00:10",
          "2020-10-08 00:00:11",
          "2020-10-08 00:00:12",
          "2020-10-08 00:00:13",
          "2020-10-08 00:00:14",
          "2020-10-08 00:00:15",
          "2020-10-08 00:00:16",
          "2020-10-08 00:00:17",
          "2020-10-08 00:00:18",
          "2020-10-08 00:00:19",
          "2020-10-08 00:00:20",
          "2020-10-08 00:00:21",
          "2020-10-08 00:00:22",
          "2020-10-08 00:00:23",
          "2020-10-09 00:00:00",
          "2020-10-09 00:00:01",
          "2020-10-09 00:00:02",
          "2020-10-09 00:00:03",
          "2020-10-09 00:00:04",
          "2020-10-09 00:00:05",
          "2020-10-09 00:00:06",
          "2020-10-09 00:00:07",
          "2020-10-09 00:00:08",
          "2020-10-09 00:00:09",
          "2020-10-09 00:00:10",
          "2020-10-09 00:00:11",
          "2020-10-09 00:00:12",
          "2020-10-09 00:00:13",
          "2020-10-09 00:00:14",
          "2020-10-09 00:00:15",
          "2020-10-09 00:00:16",
          "2020-10-09 00:00:17",
          "2020-10-09 00:00:18",
          "2020-10-09 00:00:19",
          "2020-10-09 00:00:20",
          "2020-10-09 00:00:21",
          "2020-10-09 00:00:22",
          "2020-10-09 00:00:23",
          "2020-10-10 00:00:00",
          "2020-10-10 00:00:01",
          "2020-10-10 00:00:02",
          "2020-10-10 00:00:03",
          "2020-10-10 00:00:04",
          "2020-10-10 00:00:05",
          "2020-10-10 00:00:06",
          "2020-10-10 00:00:07",
          "2020-10-10 00:00:08",
          "2020-10-10 00:00:09",
          "2020-10-10 00:00:10",
          "2020-10-10 00:00:11",
          "2020-10-10 00:00:12",
          "2020-10-10 00:00:13",
          "2020-10-10 00:00:14",
          "2020-10-10 00:00:15",
          "2020-10-10 00:00:16",
          "2020-10-10 00:00:17",
          "2020-10-10 00:00:18",
          "2020-10-10 00:00:19",
          "2020-10-10 00:00:20",
          "2020-10-10 00:00:21",
          "2020-10-10 00:00:22",
          "2020-10-10 00:00:23",
          "2020-10-11 00:00:00",
          "2020-10-11 00:00:01",
          "2020-10-11 00:00:02",
          "2020-10-11 00:00:03",
          "2020-10-11 00:00:04",
          "2020-10-11 00:00:05",
          "2020-10-11 00:00:06",
          "2020-10-11 00:00:07",
          "2020-10-11 00:00:08",
          "2020-10-11 00:00:09",
          "2020-10-11 00:00:10",
          "2020-10-11 00:00:11",
          "2020-10-11 00:00:12",
          "2020-10-11 00:00:13",
          "2020-10-11 00:00:14",
          "2020-10-11 00:00:15",
          "2020-10-11 00:00:16",
          "2020-10-11 00:00:17",
          "2020-10-11 00:00:18",
          "2020-10-11 00:00:19",
          "2020-10-11 00:00:20",
          "2020-10-11 00:00:21",
          "2020-10-11 00:00:22",
          "2020-10-11 00:00:23",
          "2020-10-12 00:00:00",
          "2020-10-12 00:00:01",
          "2020-10-12 00:00:02",
          "2020-10-12 00:00:03",
          "2020-10-12 00:00:04",
          "2020-10-12 00:00:05",
          "2020-10-12 00:00:06",
          "2020-10-12 00:00:07",
          "2020-10-12 00:00:08",
          "2020-10-12 00:00:09",
          "2020-10-12 00:00:10",
          "2020-10-12 00:00:11",
          "2020-10-12 00:00:12",
          "2020-10-12 00:00:13",
          "2020-10-12 00:00:14",
          "2020-10-12 00:00:15",
          "2020-10-12 00:00:16",
          "2020-10-12 00:00:17",
          "2020-10-12 00:00:18",
          "2020-10-12 00:00:19",
          "2020-10-12 00:00:20",
          "2020-10-12 00:00:21",
          "2020-10-12 00:00:22",
          "2020-10-12 00:00:23",
          "2020-10-13 00:00:00",
          "2020-10-13 00:00:01",
          "2020-10-13 00:00:02",
          "2020-10-13 00:00:03",
          "2020-10-13 00:00:04",
          "2020-10-13 00:00:05",
          "2020-10-13 00:00:06",
          "2020-10-13 00:00:07",
          "2020-10-13 00:00:08",
          "2020-10-13 00:00:09",
          "2020-10-13 00:00:10",
          "2020-10-13 00:00:11",
          "2020-10-13 00:00:12",
          "2020-10-13 00:00:13",
          "2020-10-13 00:00:14",
          "2020-10-13 00:00:15",
          "2020-10-13 00:00:16",
          "2020-10-13 00:00:17",
          "2020-10-13 00:00:18",
          "2020-10-13 00:00:19",
          "2020-10-13 00:00:20",
          "2020-10-13 00:00:21",
          "2020-10-13 00:00:22",
          "2020-10-13 00:00:23",
          "2020-10-14 00:00:00",
          "2020-10-14 00:00:01",
          "2020-10-14 00:00:02",
          "2020-10-14 00:00:03",
          "2020-10-14 00:00:04",
          "2020-10-14 00:00:05",
          "2020-10-14 00:00:06",
          "2020-10-14 00:00:07",
          "2020-10-14 00:00:08",
          "2020-10-14 00:00:09",
          "2020-10-14 00:00:10",
          "2020-10-14 00:00:11",
          "2020-10-14 00:00:12",
          "2020-10-14 00:00:13",
          "2020-10-14 00:00:14",
          "2020-10-14 00:00:15",
          "2020-10-14 00:00:16",
          "2020-10-14 00:00:17",
          "2020-10-14 00:00:18",
          "2020-10-14 00:00:19",
          "2020-10-14 00:00:20",
          "2020-10-14 00:00:21",
          "2020-10-14 00:00:22",
          "2020-10-14 00:00:23",
          "2020-10-15 00:00:00",
          "2020-10-15 00:00:01",
          "2020-10-15 00:00:02",
          "2020-10-15 00:00:03",
          "2020-10-15 00:00:04",
          "2020-10-15 00:00:05",
          "2020-10-15 00:00:06",
          "2020-10-15 00:00:07",
          "2020-10-15 00:00:08",
          "2020-10-15 00:00:09",
          "2020-10-15 00:00:10",
          "2020-10-15 00:00:11",
          "2020-10-15 00:00:12",
          "2020-10-15 00:00:13",
          "2020-10-15 00:00:14",
          "2020-10-15 00:00:15",
          "2020-10-15 00:00:16",
          "2020-10-15 00:00:17",
          "2020-10-15 00:00:18",
          "2020-10-15 00:00:19",
          "2020-10-15 00:00:20",
          "2020-10-15 00:00:21",
          "2020-10-15 00:00:22",
          "2020-10-15 00:00:23",
          "2020-10-16 00:00:00",
          "2020-10-16 00:00:01",
          "2020-10-16 00:00:02",
          "2020-10-16 00:00:03",
          "2020-10-16 00:00:04",
          "2020-10-16 00:00:05",
          "2020-10-16 00:00:06",
          "2020-10-16 00:00:07",
          "2020-10-16 00:00:08",
          "2020-10-16 00:00:09",
          "2020-10-16 00:00:10",
          "2020-10-16 00:00:11",
          "2020-10-16 00:00:12",
          "2020-10-16 00:00:13",
          "2020-10-16 00:00:14",
          "2020-10-16 00:00:15",
          "2020-10-16 00:00:16",
          "2020-10-16 00:00:17",
          "2020-10-16 00:00:18",
          "2020-10-16 00:00:19",
          "2020-10-16 00:00:20",
          "2020-10-16 00:00:21",
          "2020-10-16 00:00:22",
          "2020-10-16 00:00:23",
          "2020-10-17 00:00:00",
          "2020-10-17 00:00:01",
          "2020-10-17 00:00:02",
          "2020-10-17 00:00:03",
          "2020-10-17 00:00:04",
          "2020-10-17 00:00:05",
          "2020-10-17 00:00:06",
          "2020-10-17 00:00:07",
          "2020-10-17 00:00:08",
          "2020-10-17 00:00:09",
          "2020-10-17 00:00:10",
          "2020-10-17 00:00:11",
          "2020-10-17 00:00:12",
          "2020-10-17 00:00:13",
          "2020-10-17 00:00:14",
          "2020-10-17 00:00:15",
          "2020-10-17 00:00:16",
          "2020-10-17 00:00:17",
          "2020-10-17 00:00:18",
          "2020-10-17 00:00:19",
          "2020-10-17 00:00:20",
          "2020-10-17 00:00:21",
          "2020-10-17 00:00:22",
          "2020-10-17 00:00:23",
          "2020-10-18 00:00:00",
          "2020-10-18 00:00:01",
          "2020-10-18 00:00:02",
          "2020-10-18 00:00:03",
          "2020-10-18 00:00:04",
          "2020-10-18 00:00:05",
          "2020-10-18 00:00:06",
          "2020-10-18 00:00:07",
          "2020-10-18 00:00:08",
          "2020-10-18 00:00:09",
          "2020-10-18 00:00:10",
          "2020-10-18 00:00:11",
          "2020-10-18 00:00:12",
          "2020-10-18 00:00:13",
          "2020-10-18 00:00:14",
          "2020-10-18 00:00:15",
          "2020-10-18 00:00:16",
          "2020-10-18 00:00:17",
          "2020-10-18 00:00:18",
          "2020-10-18 00:00:19",
          "2020-10-18 00:00:20",
          "2020-10-18 00:00:21",
          "2020-10-18 00:00:22",
          "2020-10-18 00:00:23",
          "2020-10-19 00:00:00",
          "2020-10-19 00:00:01",
          "2020-10-19 00:00:02",
          "2020-10-19 00:00:03",
          "2020-10-19 00:00:04",
          "2020-10-19 00:00:05",
          "2020-10-19 00:00:06",
          "2020-10-19 00:00:07",
          "2020-10-19 00:00:08",
          "2020-10-19 00:00:09",
          "2020-10-19 00:00:10",
          "2020-10-19 00:00:11",
          "2020-10-19 00:00:12",
          "2020-10-19 00:00:13",
          "2020-10-19 00:00:14",
          "2020-10-19 00:00:15",
          "2020-10-19 00:00:16",
          "2020-10-19 00:00:17",
          "2020-10-19 00:00:18",
          "2020-10-19 00:00:19",
          "2020-10-19 00:00:20",
          "2020-10-19 00:00:21",
          "2020-10-19 00:00:22",
          "2020-10-19 00:00:23",
          "2020-10-20 00:00:00",
          "2020-10-20 00:00:01",
          "2020-10-20 00:00:02",
          "2020-10-20 00:00:03",
          "2020-10-20 00:00:04",
          "2020-10-20 00:00:05",
          "2020-10-20 00:00:06",
          "2020-10-20 00:00:07",
          "2020-10-20 00:00:08",
          "2020-10-20 00:00:09",
          "2020-10-20 00:00:10",
          "2020-10-20 00:00:11",
          "2020-10-20 00:00:12",
          "2020-10-20 00:00:13",
          "2020-10-20 00:00:14",
          "2020-10-20 00:00:15",
          "2020-10-20 00:00:16",
          "2020-10-20 00:00:17",
          "2020-10-20 00:00:18",
          "2020-10-20 00:00:19",
          "2020-10-20 00:00:20",
          "2020-10-20 00:00:21",
          "2020-10-20 00:00:22",
          "2020-10-20 00:00:23",
          "2020-10-21 00:00:00",
          "2020-10-21 00:00:01",
          "2020-10-21 00:00:02",
          "2020-10-21 00:00:03",
          "2020-10-21 00:00:04",
          "2020-10-21 00:00:05",
          "2020-10-21 00:00:06",
          "2020-10-21 00:00:07",
          "2020-10-21 00:00:08",
          "2020-10-21 00:00:09",
          "2020-10-21 00:00:10",
          "2020-10-21 00:00:11",
          "2020-10-21 00:00:12",
          "2020-10-21 00:00:13",
          "2020-10-21 00:00:14",
          "2020-10-21 00:00:15",
          "2020-10-21 00:00:16",
          "2020-10-21 00:00:17",
          "2020-10-21 00:00:18",
          "2020-10-21 00:00:19",
          "2020-10-21 00:00:20",
          "2020-10-21 00:00:21",
          "2020-10-21 00:00:22",
          "2020-10-21 00:00:23",
          "2020-10-22 00:00:00",
          "2020-10-22 00:00:01",
          "2020-10-22 00:00:02",
          "2020-10-22 00:00:03",
          "2020-10-22 00:00:04",
          "2020-10-22 00:00:05",
          "2020-10-22 00:00:06",
          "2020-10-22 00:00:07",
          "2020-10-22 00:00:08",
          "2020-10-22 00:00:09",
          "2020-10-22 00:00:10",
          "2020-10-22 00:00:11",
          "2020-10-22 00:00:12",
          "2020-10-22 00:00:13",
          "2020-10-22 00:00:14",
          "2020-10-22 00:00:15",
          "2020-10-22 00:00:16",
          "2020-10-22 00:00:17",
          "2020-10-22 00:00:18",
          "2020-10-22 00:00:19",
          "2020-10-22 00:00:20",
          "2020-10-22 00:00:21",
          "2020-10-22 00:00:22",
          "2020-10-22 00:00:23",
          "2020-10-23 00:00:00",
          "2020-10-23 00:00:01",
          "2020-10-23 00:00:02",
          "2020-10-23 00:00:03",
          "2020-10-23 00:00:04",
          "2020-10-23 00:00:05",
          "2020-10-23 00:00:06",
          "2020-10-23 00:00:07",
          "2020-10-23 00:00:08",
          "2020-10-23 00:00:09",
          "2020-10-23 00:00:10",
          "2020-10-23 00:00:11",
          "2020-10-23 00:00:12",
          "2020-10-23 00:00:13",
          "2020-10-23 00:00:14",
          "2020-10-23 00:00:15",
          "2020-10-23 00:00:16",
          "2020-10-23 00:00:17",
          "2020-10-23 00:00:18",
          "2020-10-23 00:00:19",
          "2020-10-23 00:00:20",
          "2020-10-23 00:00:21",
          "2020-10-23 00:00:22",
          "2020-10-23 00:00:23",
          "2020-10-24 00:00:00",
          "2020-10-24 00:00:01",
          "2020-10-24 00:00:02",
          "2020-10-24 00:00:03",
          "2020-10-24 00:00:04",
          "2020-10-24 00:00:05",
          "2020-10-24 00:00:06",
          "2020-10-24 00:00:07",
          "2020-10-24 00:00:08",
          "2020-10-24 00:00:09",
          "2020-10-24 00:00:10",
          "2020-10-24 00:00:11",
          "2020-10-24 00:00:12",
          "2020-10-24 00:00:13",
          "2020-10-24 00:00:14",
          "2020-10-24 00:00:15",
          "2020-10-24 00:00:16",
          "2020-10-24 00:00:17",
          "2020-10-24 00:00:18",
          "2020-10-24 00:00:19",
          "2020-10-24 00:00:20",
          "2020-10-24 00:00:21",
          "2020-10-24 00:00:22",
          "2020-10-24 00:00:23",
          "2020-10-25 00:00:00",
          "2020-10-25 00:00:01",
          "2020-10-25 00:00:02",
          "2020-10-25 00:00:03",
          "2020-10-25 00:00:04",
          "2020-10-25 00:00:05",
          "2020-10-25 00:00:06",
          "2020-10-25 00:00:07",
          "2020-10-25 00:00:08",
          "2020-10-25 00:00:09",
          "2020-10-25 00:00:10",
          "2020-10-25 00:00:11",
          "2020-10-25 00:00:12",
          "2020-10-25 00:00:13",
          "2020-10-25 00:00:14",
          "2020-10-25 00:00:15",
          "2020-10-25 00:00:16",
          "2020-10-25 00:00:17",
          "2020-10-25 00:00:18",
          "2020-10-25 00:00:19",
          "2020-10-25 00:00:20",
          "2020-10-25 00:00:21",
          "2020-10-25 00:00:22",
          "2020-10-25 00:00:23",
          "2020-10-26 00:00:00",
          "2020-10-26 00:00:01",
          "2020-10-26 00:00:02",
          "2020-10-26 00:00:03",
          "2020-10-26 00:00:04",
          "2020-10-26 00:00:05",
          "2020-10-26 00:00:06",
          "2020-10-26 00:00:07",
          "2020-10-26 00:00:08",
          "2020-10-26 00:00:09",
          "2020-10-26 00:00:10",
          "2020-10-26 00:00:11",
          "2020-10-26 00:00:12",
          "2020-10-26 00:00:13",
          "2020-10-26 00:00:14",
          "2020-10-26 00:00:15",
          "2020-10-26 00:00:16",
          "2020-10-26 00:00:17",
          "2020-10-26 00:00:18",
          "2020-10-26 00:00:19",
          "2020-10-26 00:00:20",
          "2020-10-26 00:00:21",
          "2020-10-26 00:00:22",
          "2020-10-26 00:00:23",
          "2020-10-27 00:00:00",
          "2020-10-27 00:00:01",
          "2020-10-27 00:00:02",
          "2020-10-27 00:00:03",
          "2020-10-27 00:00:04",
          "2020-10-27 00:00:05",
          "2020-10-27 00:00:06",
          "2020-10-27 00:00:07",
          "2020-10-27 00:00:08",
          "2020-10-27 00:00:09",
          "2020-10-27 00:00:10",
          "2020-10-27 00:00:11",
          "2020-10-27 00:00:12",
          "2020-10-27 00:00:13",
          "2020-10-27 00:00:14",
          "2020-10-27 00:00:15",
          "2020-10-27 00:00:16",
          "2020-10-27 00:00:17",
          "2020-10-27 00:00:18",
          "2020-10-27 00:00:19",
          "2020-10-27 00:00:20",
          "2020-10-27 00:00:21",
          "2020-10-27 00:00:22",
          "2020-10-27 00:00:23",
          "2020-10-28 00:00:00",
          "2020-10-28 00:00:01",
          "2020-10-28 00:00:02",
          "2020-10-28 00:00:03",
          "2020-10-28 00:00:04",
          "2020-10-28 00:00:05",
          "2020-10-28 00:00:06",
          "2020-10-28 00:00:07",
          "2020-10-28 00:00:08",
          "2020-10-28 00:00:09",
          "2020-10-28 00:00:10",
          "2020-10-28 00:00:11",
          "2020-10-28 00:00:12",
          "2020-10-28 00:00:13",
          "2020-10-28 00:00:14",
          "2020-10-28 00:00:15",
          "2020-10-28 00:00:16",
          "2020-10-28 00:00:17",
          "2020-10-28 00:00:18",
          "2020-10-28 00:00:19",
          "2020-10-28 00:00:20",
          "2020-10-28 00:00:21",
          "2020-10-28 00:00:22",
          "2020-10-28 00:00:23",
          "2020-10-29 00:00:00",
          "2020-10-29 00:00:01",
          "2020-10-29 00:00:02",
          "2020-10-29 00:00:03",
          "2020-10-29 00:00:04",
          "2020-10-29 00:00:05",
          "2020-10-29 00:00:06",
          "2020-10-29 00:00:07",
          "2020-10-29 00:00:08",
          "2020-10-29 00:00:09",
          "2020-10-29 00:00:10",
          "2020-10-29 00:00:11",
          "2020-10-29 00:00:12",
          "2020-10-29 00:00:13",
          "2020-10-29 00:00:14",
          "2020-10-29 00:00:15",
          "2020-10-29 00:00:16",
          "2020-10-29 00:00:17",
          "2020-10-29 00:00:18",
          "2020-10-29 00:00:19",
          "2020-10-29 00:00:20",
          "2020-10-29 00:00:21",
          "2020-10-29 00:00:22",
          "2020-10-29 00:00:23",
          "2020-10-30 00:00:00",
          "2020-10-30 00:00:01",
          "2020-10-30 00:00:02",
          "2020-10-30 00:00:03",
          "2020-10-30 00:00:04",
          "2020-10-30 00:00:05",
          "2020-10-30 00:00:06",
          "2020-10-30 00:00:07",
          "2020-10-30 00:00:08",
          "2020-10-30 00:00:09",
          "2020-10-30 00:00:10",
          "2020-10-30 00:00:11",
          "2020-10-30 00:00:12",
          "2020-10-30 00:00:13",
          "2020-10-30 00:00:14",
          "2020-10-30 00:00:15",
          "2020-10-30 00:00:16",
          "2020-10-30 00:00:17",
          "2020-10-30 00:00:18",
          "2020-10-30 00:00:19",
          "2020-10-30 00:00:20",
          "2020-10-30 00:00:21",
          "2020-10-30 00:00:22",
          "2020-10-30 00:00:23",
          "2020-10-31 00:00:00",
          "2020-10-31 00:00:01",
          "2020-10-31 00:00:02",
          "2020-10-31 00:00:03",
          "2020-10-31 00:00:04",
          "2020-10-31 00:00:05",
          "2020-10-31 00:00:06",
          "2020-10-31 00:00:07",
          "2020-10-31 00:00:08",
          "2020-10-31 00:00:09",
          "2020-10-31 00:00:10",
          "2020-10-31 00:00:11",
          "2020-10-31 00:00:12",
          "2020-10-31 00:00:13",
          "2020-10-31 00:00:14",
          "2020-10-31 00:00:15",
          "2020-10-31 00:00:16",
          "2020-10-31 00:00:17",
          "2020-10-31 00:00:18",
          "2020-10-31 00:00:19",
          "2020-10-31 00:00:20",
          "2020-10-31 00:00:21",
          "2020-10-31 00:00:22",
          "2020-10-31 00:00:23"
         ],
         "xaxis": "x",
         "y": [
          9,
          8.9,
          9,
          8.8,
          8.6,
          8.3,
          8.1,
          8.2,
          9,
          11,
          14.5,
          17.9,
          20.1,
          20,
          20,
          19.9,
          18.5,
          16.1,
          14.5,
          13.5,
          12.7,
          12.8,
          13.2,
          13.5,
          13.6,
          12.6,
          11.2,
          10.2,
          10,
          9.7,
          9.6,
          11,
          12.1,
          15,
          19,
          20.2,
          20.8,
          21.5,
          21.5,
          21.2,
          20.1,
          18.6,
          17.5,
          16.8,
          16.1,
          15.3,
          14.7,
          13.6,
          13,
          12.1,
          12.5,
          11.9,
          11.1,
          10.6,
          11.3,
          12.7,
          14,
          15,
          17.2,
          18.9,
          19.6,
          20.4,
          20.4,
          20.6,
          17.3,
          15.8,
          14.9,
          13.8,
          12.8,
          11.6,
          10.8,
          10.4,
          9.8,
          9,
          7.9,
          7.1,
          7,
          7.6,
          8.7,
          10,
          13.6,
          15.9,
          16.3,
          15,
          16.7,
          16.4,
          16.8,
          16.8,
          15.5,
          12.5,
          10.1,
          9.4,
          8.5,
          8.3,
          8.5,
          7.9,
          8.1,
          7.8,
          7.7,
          7.8,
          7.7,
          8.3,
          8.5,
          8.9,
          9.5,
          10.2,
          11.9,
          15,
          17.2,
          16.4,
          15.9,
          14.8,
          14.9,
          13.9,
          13.8,
          13.6,
          12.6,
          12.8,
          12.6,
          12.2,
          11.8,
          11.8,
          11.5,
          12,
          11.9,
          11.9,
          11.3,
          11.7,
          13.3,
          14.3,
          14.6,
          15.1,
          14.3,
          14.5,
          14.4,
          14.5,
          13.8,
          13.1,
          12.9,
          12.7,
          12.6,
          12.7,
          12.3,
          11.1,
          11,
          11.7,
          11.7,
          11.1,
          11.2,
          11.3,
          11.2,
          11.9,
          13.8,
          14.5,
          14.2,
          14.8,
          14.6,
          14.5,
          14.7,
          15.1,
          14.3,
          13.4,
          12.2,
          12.1,
          12.2,
          11.7,
          11.8,
          11.4,
          12,
          11.6,
          9.6,
          9,
          7.6,
          7.9,
          8.9,
          10.3,
          12.6,
          13.7,
          14.8,
          14.8,
          14.5,
          15.8,
          15.2,
          15.6,
          15.2,
          14.8,
          15.2,
          15.1,
          14.8,
          15.1,
          15.1,
          15.1,
          15.3,
          15.4,
          15.2,
          15.3,
          13.7,
          13.3,
          12.6,
          12.8,
          13,
          12.8,
          12.9,
          13.3,
          13,
          13.5,
          13.2,
          13.4,
          13.5,
          13.4,
          13.5,
          13.5,
          13.4,
          12.6,
          12.8,
          11.9,
          11.4,
          11.2,
          11.1,
          11,
          10.9,
          11.1,
          9.9,
          10.4,
          11.2,
          9.8,
          10.7,
          11.5,
          11.8,
          12.1,
          12.8,
          12.6,
          11.1,
          9,
          7.1,
          6,
          6,
          5.6,
          5.3,
          4.7,
          4.3,
          3.7,
          3.3,
          3.8,
          4.3,
          4.9,
          5.2,
          5.8,
          6.8,
          8.6,
          9.2,
          10.6,
          11.7,
          11.7,
          11.2,
          11,
          10.4,
          9.4,
          7.4,
          5.5,
          4.4,
          4.6,
          5.1,
          4.7,
          4.7,
          4.9,
          5.1,
          5.2,
          5.5,
          5.6,
          5.8,
          6.3,
          7.5,
          9.3,
          11.4,
          12.4,
          13.7,
          13,
          13.9,
          13,
          10.8,
          9,
          8.3,
          6.9,
          5.8,
          5,
          5.3,
          5.8,
          5.7,
          5.9,
          6,
          6.2,
          6.2,
          6.2,
          6.4,
          6.8,
          7.7,
          9,
          10.3,
          11.1,
          11.2,
          12,
          11.2,
          12,
          10.6,
          8.6,
          7.8,
          7.4,
          7.2,
          7.8,
          8.2,
          8.6,
          8.7,
          8.7,
          8.7,
          8.5,
          8.8,
          8.6,
          8.4,
          8.2,
          8.5,
          8.7,
          8.9,
          9,
          9.1,
          8.9,
          8.7,
          8.6,
          8.4,
          8.3,
          8.2,
          8.1,
          8.1,
          8.3,
          8.4,
          8.5,
          8.5,
          8.5,
          8.5,
          8.5,
          8.4,
          8.4,
          8.5,
          8.7,
          9,
          9.1,
          9.2,
          9.6,
          9.7,
          9.5,
          9.6,
          9.4,
          9.3,
          9.2,
          9.2,
          9.1,
          9,
          9,
          8.9,
          8.8,
          8.7,
          8.7,
          8.8,
          9,
          9.1,
          8.8,
          8.6,
          8.6,
          9,
          9,
          9.1,
          9.8,
          11.1,
          10.5,
          10.3,
          10.2,
          9.6,
          9.5,
          9.1,
          8.7,
          8.3,
          7.8,
          7.8,
          7.9,
          7.9,
          7.5,
          7.6,
          7.6,
          7.4,
          7.4,
          7.4,
          7.7,
          8.2,
          8.6,
          8.4,
          8.6,
          8.5,
          8.8,
          8.6,
          8.5,
          8.5,
          8.3,
          7.8,
          7.9,
          8.1,
          8,
          8.1,
          7.9,
          7.8,
          7,
          7.5,
          7.4,
          7.7,
          7.7,
          7.6,
          8.1,
          8.8,
          9.3,
          10.2,
          10.3,
          10.7,
          10.8,
          11.7,
          11.1,
          10.5,
          10.2,
          9.5,
          9.5,
          9.6,
          9.4,
          8.6,
          8.6,
          8.5,
          8.5,
          8.1,
          8,
          7.7,
          7.7,
          7.5,
          8.1,
          8.6,
          9.1,
          10.2,
          11,
          12.6,
          13.1,
          12.8,
          12,
          11.1,
          8.7,
          6.5,
          5.4,
          4.3,
          3.6,
          3.2,
          2.6,
          2.1,
          2,
          1.6,
          1.5,
          1.1,
          1.3,
          1.3,
          2.7,
          6,
          8.8,
          10.6,
          12,
          14.6,
          15.2,
          14.9,
          14.3,
          13.6,
          13.1,
          11.3,
          11.3,
          10.9,
          10.4,
          10.6,
          10.9,
          11,
          10.6,
          10.9,
          11,
          11.1,
          10.9,
          11.1,
          11.5,
          12.6,
          13.4,
          13.7,
          15.2,
          16.2,
          15.8,
          18.2,
          17.6,
          16.8,
          15.8,
          15.2,
          14.9,
          14.2,
          14,
          14.4,
          13.8,
          13.2,
          13.6,
          13.3,
          14.6,
          13.6,
          13,
          13.6,
          13.8,
          15.9,
          16.4,
          18.5,
          20,
          20,
          21.1,
          20.7,
          19.5,
          18.1,
          16.3,
          16.1,
          15.9,
          16,
          15.4,
          15.4,
          16.9,
          16,
          14.6,
          14.3,
          15.3,
          15.1,
          14.7,
          14.8,
          15,
          15.3,
          16,
          16.4,
          16.8,
          18,
          17.5,
          17,
          16.8,
          16.2,
          16,
          15.5,
          14.6,
          13.7,
          13.7,
          13.1,
          12.9,
          12.7,
          11.5,
          10.8,
          11.1,
          9.7,
          9.6,
          9.3,
          9.3,
          11.5,
          14.4,
          16.4,
          17.2,
          17.4,
          17.2,
          16.9,
          16.4,
          15.3,
          14.2,
          13.6,
          13.3,
          12.9,
          11.8,
          11.3,
          11.3,
          11.8,
          11.7,
          11.2,
          10.5,
          9.3,
          8.7,
          8.7,
          9.6,
          11.7,
          14.2,
          15.7,
          15.9,
          16,
          16.9,
          15.8,
          15.4,
          14.3,
          13.6,
          13.3,
          13.5,
          13,
          13.1,
          12.9,
          11.9,
          12.4,
          12.1,
          11.3,
          11.2,
          11.2,
          10.8,
          10.3,
          9.9,
          10.3,
          10.6,
          10.9,
          11.2,
          11.5,
          11.4,
          11.1,
          11.1,
          10.5,
          10.1,
          9.9,
          9.5,
          9.2,
          9.1,
          8.8,
          8.8,
          8.7,
          8.3,
          8.4,
          8.5,
          8.5,
          8.1,
          7.5,
          7.4,
          9.2,
          10,
          11.4,
          11.2,
          12.6,
          12.1,
          12,
          11.9,
          10.9,
          9.4,
          8.6,
          8.5,
          8.3,
          8,
          8.9,
          9,
          9,
          9.2,
          9.5,
          9.6,
          9.6,
          9.2,
          9.1,
          9.4,
          10.2,
          11,
          12,
          13.1,
          14.9,
          13.4,
          13.6,
          12.7,
          10.7,
          10,
          9.4,
          8.3,
          7.4,
          7.7,
          9.2,
          9.8,
          10.1,
          10.6,
          10.6,
          11.5,
          11.3,
          11.3,
          11,
          10.8,
          8.8,
          9.1,
          10.9,
          12.4,
          10.6,
          11.3,
          11.6,
          11.2,
          10.2,
          9.3,
          9,
          9.1,
          9.4,
          9.9,
          8.9,
          8.4,
          8.5,
          8.8,
          9,
          9.4,
          10.5,
          10.7,
          10.8,
          11,
          12.2,
          13.1,
          12.9,
          13,
          14.1,
          14.2,
          14.5,
          14.2,
          14.6,
          14.4,
          13.8,
          14.1,
          14.1,
          14.2,
          14,
          13.9,
          13.7,
          13.8,
          14.1,
          14.1,
          13.7,
          13.4,
          13.1,
          13.2,
          13.7,
          14.6,
          15.3,
          15.7,
          15.8,
          15.2,
          15.1,
          14.4,
          13.8,
          13.4,
          12.1,
          11.9,
          11.3,
          11.1,
          10.4,
          10.5
         ],
         "yaxis": "y"
        }
       ],
       "layout": {
        "height": 600,
        "legend": {
         "tracegroupgap": 0
        },
        "margin": {
         "t": 60
        },
        "template": {
         "data": {
          "bar": [
           {
            "error_x": {
             "color": "#2a3f5f"
            },
            "error_y": {
             "color": "#2a3f5f"
            },
            "marker": {
             "line": {
              "color": "#E5ECF6",
              "width": 0.5
             }
            },
            "type": "bar"
           }
          ],
          "barpolar": [
           {
            "marker": {
             "line": {
              "color": "#E5ECF6",
              "width": 0.5
             }
            },
            "type": "barpolar"
           }
          ],
          "carpet": [
           {
            "aaxis": {
             "endlinecolor": "#2a3f5f",
             "gridcolor": "white",
             "linecolor": "white",
             "minorgridcolor": "white",
             "startlinecolor": "#2a3f5f"
            },
            "baxis": {
             "endlinecolor": "#2a3f5f",
             "gridcolor": "white",
             "linecolor": "white",
             "minorgridcolor": "white",
             "startlinecolor": "#2a3f5f"
            },
            "type": "carpet"
           }
          ],
          "choropleth": [
           {
            "colorbar": {
             "outlinewidth": 0,
             "ticks": ""
            },
            "type": "choropleth"
           }
          ],
          "contour": [
           {
            "colorbar": {
             "outlinewidth": 0,
             "ticks": ""
            },
            "colorscale": [
             [
              0,
              "#0d0887"
             ],
             [
              0.1111111111111111,
              "#46039f"
             ],
             [
              0.2222222222222222,
              "#7201a8"
             ],
             [
              0.3333333333333333,
              "#9c179e"
             ],
             [
              0.4444444444444444,
              "#bd3786"
             ],
             [
              0.5555555555555556,
              "#d8576b"
             ],
             [
              0.6666666666666666,
              "#ed7953"
             ],
             [
              0.7777777777777778,
              "#fb9f3a"
             ],
             [
              0.8888888888888888,
              "#fdca26"
             ],
             [
              1,
              "#f0f921"
             ]
            ],
            "type": "contour"
           }
          ],
          "contourcarpet": [
           {
            "colorbar": {
             "outlinewidth": 0,
             "ticks": ""
            },
            "type": "contourcarpet"
           }
          ],
          "heatmap": [
           {
            "colorbar": {
             "outlinewidth": 0,
             "ticks": ""
            },
            "colorscale": [
             [
              0,
              "#0d0887"
             ],
             [
              0.1111111111111111,
              "#46039f"
             ],
             [
              0.2222222222222222,
              "#7201a8"
             ],
             [
              0.3333333333333333,
              "#9c179e"
             ],
             [
              0.4444444444444444,
              "#bd3786"
             ],
             [
              0.5555555555555556,
              "#d8576b"
             ],
             [
              0.6666666666666666,
              "#ed7953"
             ],
             [
              0.7777777777777778,
              "#fb9f3a"
             ],
             [
              0.8888888888888888,
              "#fdca26"
             ],
             [
              1,
              "#f0f921"
             ]
            ],
            "type": "heatmap"
           }
          ],
          "heatmapgl": [
           {
            "colorbar": {
             "outlinewidth": 0,
             "ticks": ""
            },
            "colorscale": [
             [
              0,
              "#0d0887"
             ],
             [
              0.1111111111111111,
              "#46039f"
             ],
             [
              0.2222222222222222,
              "#7201a8"
             ],
             [
              0.3333333333333333,
              "#9c179e"
             ],
             [
              0.4444444444444444,
              "#bd3786"
             ],
             [
              0.5555555555555556,
              "#d8576b"
             ],
             [
              0.6666666666666666,
              "#ed7953"
             ],
             [
              0.7777777777777778,
              "#fb9f3a"
             ],
             [
              0.8888888888888888,
              "#fdca26"
             ],
             [
              1,
              "#f0f921"
             ]
            ],
            "type": "heatmapgl"
           }
          ],
          "histogram": [
           {
            "marker": {
             "colorbar": {
              "outlinewidth": 0,
              "ticks": ""
             }
            },
            "type": "histogram"
           }
          ],
          "histogram2d": [
           {
            "colorbar": {
             "outlinewidth": 0,
             "ticks": ""
            },
            "colorscale": [
             [
              0,
              "#0d0887"
             ],
             [
              0.1111111111111111,
              "#46039f"
             ],
             [
              0.2222222222222222,
              "#7201a8"
             ],
             [
              0.3333333333333333,
              "#9c179e"
             ],
             [
              0.4444444444444444,
              "#bd3786"
             ],
             [
              0.5555555555555556,
              "#d8576b"
             ],
             [
              0.6666666666666666,
              "#ed7953"
             ],
             [
              0.7777777777777778,
              "#fb9f3a"
             ],
             [
              0.8888888888888888,
              "#fdca26"
             ],
             [
              1,
              "#f0f921"
             ]
            ],
            "type": "histogram2d"
           }
          ],
          "histogram2dcontour": [
           {
            "colorbar": {
             "outlinewidth": 0,
             "ticks": ""
            },
            "colorscale": [
             [
              0,
              "#0d0887"
             ],
             [
              0.1111111111111111,
              "#46039f"
             ],
             [
              0.2222222222222222,
              "#7201a8"
             ],
             [
              0.3333333333333333,
              "#9c179e"
             ],
             [
              0.4444444444444444,
              "#bd3786"
             ],
             [
              0.5555555555555556,
              "#d8576b"
             ],
             [
              0.6666666666666666,
              "#ed7953"
             ],
             [
              0.7777777777777778,
              "#fb9f3a"
             ],
             [
              0.8888888888888888,
              "#fdca26"
             ],
             [
              1,
              "#f0f921"
             ]
            ],
            "type": "histogram2dcontour"
           }
          ],
          "mesh3d": [
           {
            "colorbar": {
             "outlinewidth": 0,
             "ticks": ""
            },
            "type": "mesh3d"
           }
          ],
          "parcoords": [
           {
            "line": {
             "colorbar": {
              "outlinewidth": 0,
              "ticks": ""
             }
            },
            "type": "parcoords"
           }
          ],
          "pie": [
           {
            "automargin": true,
            "type": "pie"
           }
          ],
          "scatter": [
           {
            "marker": {
             "colorbar": {
              "outlinewidth": 0,
              "ticks": ""
             }
            },
            "type": "scatter"
           }
          ],
          "scatter3d": [
           {
            "line": {
             "colorbar": {
              "outlinewidth": 0,
              "ticks": ""
             }
            },
            "marker": {
             "colorbar": {
              "outlinewidth": 0,
              "ticks": ""
             }
            },
            "type": "scatter3d"
           }
          ],
          "scattercarpet": [
           {
            "marker": {
             "colorbar": {
              "outlinewidth": 0,
              "ticks": ""
             }
            },
            "type": "scattercarpet"
           }
          ],
          "scattergeo": [
           {
            "marker": {
             "colorbar": {
              "outlinewidth": 0,
              "ticks": ""
             }
            },
            "type": "scattergeo"
           }
          ],
          "scattergl": [
           {
            "marker": {
             "colorbar": {
              "outlinewidth": 0,
              "ticks": ""
             }
            },
            "type": "scattergl"
           }
          ],
          "scattermapbox": [
           {
            "marker": {
             "colorbar": {
              "outlinewidth": 0,
              "ticks": ""
             }
            },
            "type": "scattermapbox"
           }
          ],
          "scatterpolar": [
           {
            "marker": {
             "colorbar": {
              "outlinewidth": 0,
              "ticks": ""
             }
            },
            "type": "scatterpolar"
           }
          ],
          "scatterpolargl": [
           {
            "marker": {
             "colorbar": {
              "outlinewidth": 0,
              "ticks": ""
             }
            },
            "type": "scatterpolargl"
           }
          ],
          "scatterternary": [
           {
            "marker": {
             "colorbar": {
              "outlinewidth": 0,
              "ticks": ""
             }
            },
            "type": "scatterternary"
           }
          ],
          "surface": [
           {
            "colorbar": {
             "outlinewidth": 0,
             "ticks": ""
            },
            "colorscale": [
             [
              0,
              "#0d0887"
             ],
             [
              0.1111111111111111,
              "#46039f"
             ],
             [
              0.2222222222222222,
              "#7201a8"
             ],
             [
              0.3333333333333333,
              "#9c179e"
             ],
             [
              0.4444444444444444,
              "#bd3786"
             ],
             [
              0.5555555555555556,
              "#d8576b"
             ],
             [
              0.6666666666666666,
              "#ed7953"
             ],
             [
              0.7777777777777778,
              "#fb9f3a"
             ],
             [
              0.8888888888888888,
              "#fdca26"
             ],
             [
              1,
              "#f0f921"
             ]
            ],
            "type": "surface"
           }
          ],
          "table": [
           {
            "cells": {
             "fill": {
              "color": "#EBF0F8"
             },
             "line": {
              "color": "white"
             }
            },
            "header": {
             "fill": {
              "color": "#C8D4E3"
             },
             "line": {
              "color": "white"
             }
            },
            "type": "table"
           }
          ]
         },
         "layout": {
          "annotationdefaults": {
           "arrowcolor": "#2a3f5f",
           "arrowhead": 0,
           "arrowwidth": 1
          },
          "coloraxis": {
           "colorbar": {
            "outlinewidth": 0,
            "ticks": ""
           }
          },
          "colorscale": {
           "diverging": [
            [
             0,
             "#8e0152"
            ],
            [
             0.1,
             "#c51b7d"
            ],
            [
             0.2,
             "#de77ae"
            ],
            [
             0.3,
             "#f1b6da"
            ],
            [
             0.4,
             "#fde0ef"
            ],
            [
             0.5,
             "#f7f7f7"
            ],
            [
             0.6,
             "#e6f5d0"
            ],
            [
             0.7,
             "#b8e186"
            ],
            [
             0.8,
             "#7fbc41"
            ],
            [
             0.9,
             "#4d9221"
            ],
            [
             1,
             "#276419"
            ]
           ],
           "sequential": [
            [
             0,
             "#0d0887"
            ],
            [
             0.1111111111111111,
             "#46039f"
            ],
            [
             0.2222222222222222,
             "#7201a8"
            ],
            [
             0.3333333333333333,
             "#9c179e"
            ],
            [
             0.4444444444444444,
             "#bd3786"
            ],
            [
             0.5555555555555556,
             "#d8576b"
            ],
            [
             0.6666666666666666,
             "#ed7953"
            ],
            [
             0.7777777777777778,
             "#fb9f3a"
            ],
            [
             0.8888888888888888,
             "#fdca26"
            ],
            [
             1,
             "#f0f921"
            ]
           ],
           "sequentialminus": [
            [
             0,
             "#0d0887"
            ],
            [
             0.1111111111111111,
             "#46039f"
            ],
            [
             0.2222222222222222,
             "#7201a8"
            ],
            [
             0.3333333333333333,
             "#9c179e"
            ],
            [
             0.4444444444444444,
             "#bd3786"
            ],
            [
             0.5555555555555556,
             "#d8576b"
            ],
            [
             0.6666666666666666,
             "#ed7953"
            ],
            [
             0.7777777777777778,
             "#fb9f3a"
            ],
            [
             0.8888888888888888,
             "#fdca26"
            ],
            [
             1,
             "#f0f921"
            ]
           ]
          },
          "colorway": [
           "#636efa",
           "#EF553B",
           "#00cc96",
           "#ab63fa",
           "#FFA15A",
           "#19d3f3",
           "#FF6692",
           "#B6E880",
           "#FF97FF",
           "#FECB52"
          ],
          "font": {
           "color": "#2a3f5f"
          },
          "geo": {
           "bgcolor": "white",
           "lakecolor": "white",
           "landcolor": "#E5ECF6",
           "showlakes": true,
           "showland": true,
           "subunitcolor": "white"
          },
          "hoverlabel": {
           "align": "left"
          },
          "hovermode": "closest",
          "mapbox": {
           "style": "light"
          },
          "paper_bgcolor": "white",
          "plot_bgcolor": "#E5ECF6",
          "polar": {
           "angularaxis": {
            "gridcolor": "white",
            "linecolor": "white",
            "ticks": ""
           },
           "bgcolor": "#E5ECF6",
           "radialaxis": {
            "gridcolor": "white",
            "linecolor": "white",
            "ticks": ""
           }
          },
          "scene": {
           "xaxis": {
            "backgroundcolor": "#E5ECF6",
            "gridcolor": "white",
            "gridwidth": 2,
            "linecolor": "white",
            "showbackground": true,
            "ticks": "",
            "zerolinecolor": "white"
           },
           "yaxis": {
            "backgroundcolor": "#E5ECF6",
            "gridcolor": "white",
            "gridwidth": 2,
            "linecolor": "white",
            "showbackground": true,
            "ticks": "",
            "zerolinecolor": "white"
           },
           "zaxis": {
            "backgroundcolor": "#E5ECF6",
            "gridcolor": "white",
            "gridwidth": 2,
            "linecolor": "white",
            "showbackground": true,
            "ticks": "",
            "zerolinecolor": "white"
           }
          },
          "shapedefaults": {
           "line": {
            "color": "#2a3f5f"
           }
          },
          "ternary": {
           "aaxis": {
            "gridcolor": "white",
            "linecolor": "white",
            "ticks": ""
           },
           "baxis": {
            "gridcolor": "white",
            "linecolor": "white",
            "ticks": ""
           },
           "bgcolor": "#E5ECF6",
           "caxis": {
            "gridcolor": "white",
            "linecolor": "white",
            "ticks": ""
           }
          },
          "title": {
           "x": 0.05
          },
          "xaxis": {
           "automargin": true,
           "gridcolor": "white",
           "linecolor": "white",
           "ticks": "",
           "title": {
            "standoff": 15
           },
           "zerolinecolor": "white",
           "zerolinewidth": 2
          },
          "yaxis": {
           "automargin": true,
           "gridcolor": "white",
           "linecolor": "white",
           "ticks": "",
           "title": {
            "standoff": 15
           },
           "zerolinecolor": "white",
           "zerolinewidth": 2
          }
         }
        },
        "title": {
         "text": "Weather data of Jena (Sternwarte)",
         "x": 0.5,
         "xanchor": "center",
         "y": 0.95,
         "yanchor": "top"
        },
        "width": 800,
        "xaxis": {
         "anchor": "y",
         "domain": [
          0,
          1
         ],
         "title": {
          "text": "MESS_DATUM"
         }
        },
        "yaxis": {
         "anchor": "x",
         "domain": [
          0,
          1
         ],
         "title": {
          "text": "TT_TU"
         }
        }
       }
      }
     },
     "metadata": {}
    }
   ],
   "source": [
    "# Plot every available data for one individual station.\n",
    "fig = px.line(\n",
    "    df,                 # The dataframe that contains the informations.\n",
    "    x = \"MESS_DATUM\",   # The names of the columns that contain the information.\n",
    "    y = \"TT_TU\")\n",
    "# Change the layout of the plot.\n",
    "fig.update_layout(\n",
    "    width = 800,        # Size of our diagram.\n",
    "    height = 600,\n",
    "    title={             # Set the title and format it.\n",
    "        'text': 'Weather data of ' + df_stations['station_name'][df_stations['station_id'] == station_id].to_list()[0],\n",
    "        'y':0.95,\n",
    "        'x':0.5,\n",
    "        'xanchor': 'center',\n",
    "        'yanchor': 'top'})\n",
    "# Display the resulting visualisation.\n",
    "fig.show()"
   ]
  },
  {
   "source": [
    "### Clean up the data."
   ],
   "cell_type": "markdown",
   "metadata": {}
  },
  {
   "cell_type": "code",
   "execution_count": 14,
   "metadata": {},
   "outputs": [],
   "source": [
    "# Set illogical values to NaN (Not a Number).\n",
    "df.loc[df['TT_TU'] < -100, 'TT_TU'] = np.NaN\n",
    "# Fill NaN with previous value.\n",
    "df['TT_TU'].fillna(method='ffill', inplace=True)"
   ]
  },
  {
   "source": [
    "### Plot the weather data again."
   ],
   "cell_type": "markdown",
   "metadata": {}
  },
  {
   "cell_type": "code",
   "execution_count": 15,
   "metadata": {},
   "outputs": [
    {
     "output_type": "display_data",
     "data": {
      "application/vnd.plotly.v1+json": {
       "config": {
        "plotlyServerURL": "https://plot.ly"
       },
       "data": [
        {
         "hovertemplate": "MESS_DATUM=%{x}<br>TT_TU=%{y}<extra></extra>",
         "legendgroup": "",
         "line": {
          "color": "#636efa",
          "dash": "solid"
         },
         "mode": "lines",
         "name": "",
         "orientation": "v",
         "showlegend": false,
         "type": "scatter",
         "x": [
          "2020-10-01 00:00:00",
          "2020-10-01 00:00:01",
          "2020-10-01 00:00:02",
          "2020-10-01 00:00:03",
          "2020-10-01 00:00:04",
          "2020-10-01 00:00:05",
          "2020-10-01 00:00:06",
          "2020-10-01 00:00:07",
          "2020-10-01 00:00:08",
          "2020-10-01 00:00:09",
          "2020-10-01 00:00:10",
          "2020-10-01 00:00:11",
          "2020-10-01 00:00:12",
          "2020-10-01 00:00:13",
          "2020-10-01 00:00:14",
          "2020-10-01 00:00:15",
          "2020-10-01 00:00:16",
          "2020-10-01 00:00:17",
          "2020-10-01 00:00:18",
          "2020-10-01 00:00:19",
          "2020-10-01 00:00:20",
          "2020-10-01 00:00:21",
          "2020-10-01 00:00:22",
          "2020-10-01 00:00:23",
          "2020-10-02 00:00:00",
          "2020-10-02 00:00:01",
          "2020-10-02 00:00:02",
          "2020-10-02 00:00:03",
          "2020-10-02 00:00:04",
          "2020-10-02 00:00:05",
          "2020-10-02 00:00:06",
          "2020-10-02 00:00:07",
          "2020-10-02 00:00:08",
          "2020-10-02 00:00:09",
          "2020-10-02 00:00:10",
          "2020-10-02 00:00:11",
          "2020-10-02 00:00:12",
          "2020-10-02 00:00:13",
          "2020-10-02 00:00:14",
          "2020-10-02 00:00:15",
          "2020-10-02 00:00:16",
          "2020-10-02 00:00:17",
          "2020-10-02 00:00:18",
          "2020-10-02 00:00:19",
          "2020-10-02 00:00:20",
          "2020-10-02 00:00:21",
          "2020-10-02 00:00:22",
          "2020-10-02 00:00:23",
          "2020-10-03 00:00:00",
          "2020-10-03 00:00:01",
          "2020-10-03 00:00:02",
          "2020-10-03 00:00:03",
          "2020-10-03 00:00:04",
          "2020-10-03 00:00:05",
          "2020-10-03 00:00:06",
          "2020-10-03 00:00:07",
          "2020-10-03 00:00:08",
          "2020-10-03 00:00:09",
          "2020-10-03 00:00:10",
          "2020-10-03 00:00:11",
          "2020-10-03 00:00:12",
          "2020-10-03 00:00:13",
          "2020-10-03 00:00:14",
          "2020-10-03 00:00:15",
          "2020-10-03 00:00:16",
          "2020-10-03 00:00:17",
          "2020-10-03 00:00:18",
          "2020-10-03 00:00:19",
          "2020-10-03 00:00:20",
          "2020-10-03 00:00:21",
          "2020-10-03 00:00:22",
          "2020-10-03 00:00:23",
          "2020-10-04 00:00:00",
          "2020-10-04 00:00:01",
          "2020-10-04 00:00:02",
          "2020-10-04 00:00:03",
          "2020-10-04 00:00:04",
          "2020-10-04 00:00:05",
          "2020-10-04 00:00:06",
          "2020-10-04 00:00:07",
          "2020-10-04 00:00:08",
          "2020-10-04 00:00:09",
          "2020-10-04 00:00:10",
          "2020-10-04 00:00:11",
          "2020-10-04 00:00:12",
          "2020-10-04 00:00:13",
          "2020-10-04 00:00:14",
          "2020-10-04 00:00:15",
          "2020-10-04 00:00:16",
          "2020-10-04 00:00:17",
          "2020-10-04 00:00:18",
          "2020-10-04 00:00:19",
          "2020-10-04 00:00:20",
          "2020-10-04 00:00:21",
          "2020-10-04 00:00:22",
          "2020-10-04 00:00:23",
          "2020-10-05 00:00:00",
          "2020-10-05 00:00:01",
          "2020-10-05 00:00:02",
          "2020-10-05 00:00:03",
          "2020-10-05 00:00:04",
          "2020-10-05 00:00:05",
          "2020-10-05 00:00:06",
          "2020-10-05 00:00:07",
          "2020-10-05 00:00:08",
          "2020-10-05 00:00:09",
          "2020-10-05 00:00:10",
          "2020-10-05 00:00:11",
          "2020-10-05 00:00:12",
          "2020-10-05 00:00:13",
          "2020-10-05 00:00:14",
          "2020-10-05 00:00:15",
          "2020-10-05 00:00:16",
          "2020-10-05 00:00:17",
          "2020-10-05 00:00:18",
          "2020-10-05 00:00:19",
          "2020-10-05 00:00:20",
          "2020-10-05 00:00:21",
          "2020-10-05 00:00:22",
          "2020-10-05 00:00:23",
          "2020-10-06 00:00:00",
          "2020-10-06 00:00:01",
          "2020-10-06 00:00:02",
          "2020-10-06 00:00:03",
          "2020-10-06 00:00:04",
          "2020-10-06 00:00:05",
          "2020-10-06 00:00:06",
          "2020-10-06 00:00:07",
          "2020-10-06 00:00:08",
          "2020-10-06 00:00:09",
          "2020-10-06 00:00:10",
          "2020-10-06 00:00:11",
          "2020-10-06 00:00:12",
          "2020-10-06 00:00:13",
          "2020-10-06 00:00:14",
          "2020-10-06 00:00:15",
          "2020-10-06 00:00:16",
          "2020-10-06 00:00:17",
          "2020-10-06 00:00:18",
          "2020-10-06 00:00:19",
          "2020-10-06 00:00:20",
          "2020-10-06 00:00:21",
          "2020-10-06 00:00:22",
          "2020-10-06 00:00:23",
          "2020-10-07 00:00:00",
          "2020-10-07 00:00:01",
          "2020-10-07 00:00:02",
          "2020-10-07 00:00:03",
          "2020-10-07 00:00:04",
          "2020-10-07 00:00:05",
          "2020-10-07 00:00:06",
          "2020-10-07 00:00:07",
          "2020-10-07 00:00:08",
          "2020-10-07 00:00:09",
          "2020-10-07 00:00:10",
          "2020-10-07 00:00:11",
          "2020-10-07 00:00:12",
          "2020-10-07 00:00:13",
          "2020-10-07 00:00:14",
          "2020-10-07 00:00:15",
          "2020-10-07 00:00:16",
          "2020-10-07 00:00:17",
          "2020-10-07 00:00:18",
          "2020-10-07 00:00:19",
          "2020-10-07 00:00:20",
          "2020-10-07 00:00:21",
          "2020-10-07 00:00:22",
          "2020-10-07 00:00:23",
          "2020-10-08 00:00:00",
          "2020-10-08 00:00:01",
          "2020-10-08 00:00:02",
          "2020-10-08 00:00:03",
          "2020-10-08 00:00:04",
          "2020-10-08 00:00:05",
          "2020-10-08 00:00:06",
          "2020-10-08 00:00:07",
          "2020-10-08 00:00:08",
          "2020-10-08 00:00:09",
          "2020-10-08 00:00:10",
          "2020-10-08 00:00:11",
          "2020-10-08 00:00:12",
          "2020-10-08 00:00:13",
          "2020-10-08 00:00:14",
          "2020-10-08 00:00:15",
          "2020-10-08 00:00:16",
          "2020-10-08 00:00:17",
          "2020-10-08 00:00:18",
          "2020-10-08 00:00:19",
          "2020-10-08 00:00:20",
          "2020-10-08 00:00:21",
          "2020-10-08 00:00:22",
          "2020-10-08 00:00:23",
          "2020-10-09 00:00:00",
          "2020-10-09 00:00:01",
          "2020-10-09 00:00:02",
          "2020-10-09 00:00:03",
          "2020-10-09 00:00:04",
          "2020-10-09 00:00:05",
          "2020-10-09 00:00:06",
          "2020-10-09 00:00:07",
          "2020-10-09 00:00:08",
          "2020-10-09 00:00:09",
          "2020-10-09 00:00:10",
          "2020-10-09 00:00:11",
          "2020-10-09 00:00:12",
          "2020-10-09 00:00:13",
          "2020-10-09 00:00:14",
          "2020-10-09 00:00:15",
          "2020-10-09 00:00:16",
          "2020-10-09 00:00:17",
          "2020-10-09 00:00:18",
          "2020-10-09 00:00:19",
          "2020-10-09 00:00:20",
          "2020-10-09 00:00:21",
          "2020-10-09 00:00:22",
          "2020-10-09 00:00:23",
          "2020-10-10 00:00:00",
          "2020-10-10 00:00:01",
          "2020-10-10 00:00:02",
          "2020-10-10 00:00:03",
          "2020-10-10 00:00:04",
          "2020-10-10 00:00:05",
          "2020-10-10 00:00:06",
          "2020-10-10 00:00:07",
          "2020-10-10 00:00:08",
          "2020-10-10 00:00:09",
          "2020-10-10 00:00:10",
          "2020-10-10 00:00:11",
          "2020-10-10 00:00:12",
          "2020-10-10 00:00:13",
          "2020-10-10 00:00:14",
          "2020-10-10 00:00:15",
          "2020-10-10 00:00:16",
          "2020-10-10 00:00:17",
          "2020-10-10 00:00:18",
          "2020-10-10 00:00:19",
          "2020-10-10 00:00:20",
          "2020-10-10 00:00:21",
          "2020-10-10 00:00:22",
          "2020-10-10 00:00:23",
          "2020-10-11 00:00:00",
          "2020-10-11 00:00:01",
          "2020-10-11 00:00:02",
          "2020-10-11 00:00:03",
          "2020-10-11 00:00:04",
          "2020-10-11 00:00:05",
          "2020-10-11 00:00:06",
          "2020-10-11 00:00:07",
          "2020-10-11 00:00:08",
          "2020-10-11 00:00:09",
          "2020-10-11 00:00:10",
          "2020-10-11 00:00:11",
          "2020-10-11 00:00:12",
          "2020-10-11 00:00:13",
          "2020-10-11 00:00:14",
          "2020-10-11 00:00:15",
          "2020-10-11 00:00:16",
          "2020-10-11 00:00:17",
          "2020-10-11 00:00:18",
          "2020-10-11 00:00:19",
          "2020-10-11 00:00:20",
          "2020-10-11 00:00:21",
          "2020-10-11 00:00:22",
          "2020-10-11 00:00:23",
          "2020-10-12 00:00:00",
          "2020-10-12 00:00:01",
          "2020-10-12 00:00:02",
          "2020-10-12 00:00:03",
          "2020-10-12 00:00:04",
          "2020-10-12 00:00:05",
          "2020-10-12 00:00:06",
          "2020-10-12 00:00:07",
          "2020-10-12 00:00:08",
          "2020-10-12 00:00:09",
          "2020-10-12 00:00:10",
          "2020-10-12 00:00:11",
          "2020-10-12 00:00:12",
          "2020-10-12 00:00:13",
          "2020-10-12 00:00:14",
          "2020-10-12 00:00:15",
          "2020-10-12 00:00:16",
          "2020-10-12 00:00:17",
          "2020-10-12 00:00:18",
          "2020-10-12 00:00:19",
          "2020-10-12 00:00:20",
          "2020-10-12 00:00:21",
          "2020-10-12 00:00:22",
          "2020-10-12 00:00:23",
          "2020-10-13 00:00:00",
          "2020-10-13 00:00:01",
          "2020-10-13 00:00:02",
          "2020-10-13 00:00:03",
          "2020-10-13 00:00:04",
          "2020-10-13 00:00:05",
          "2020-10-13 00:00:06",
          "2020-10-13 00:00:07",
          "2020-10-13 00:00:08",
          "2020-10-13 00:00:09",
          "2020-10-13 00:00:10",
          "2020-10-13 00:00:11",
          "2020-10-13 00:00:12",
          "2020-10-13 00:00:13",
          "2020-10-13 00:00:14",
          "2020-10-13 00:00:15",
          "2020-10-13 00:00:16",
          "2020-10-13 00:00:17",
          "2020-10-13 00:00:18",
          "2020-10-13 00:00:19",
          "2020-10-13 00:00:20",
          "2020-10-13 00:00:21",
          "2020-10-13 00:00:22",
          "2020-10-13 00:00:23",
          "2020-10-14 00:00:00",
          "2020-10-14 00:00:01",
          "2020-10-14 00:00:02",
          "2020-10-14 00:00:03",
          "2020-10-14 00:00:04",
          "2020-10-14 00:00:05",
          "2020-10-14 00:00:06",
          "2020-10-14 00:00:07",
          "2020-10-14 00:00:08",
          "2020-10-14 00:00:09",
          "2020-10-14 00:00:10",
          "2020-10-14 00:00:11",
          "2020-10-14 00:00:12",
          "2020-10-14 00:00:13",
          "2020-10-14 00:00:14",
          "2020-10-14 00:00:15",
          "2020-10-14 00:00:16",
          "2020-10-14 00:00:17",
          "2020-10-14 00:00:18",
          "2020-10-14 00:00:19",
          "2020-10-14 00:00:20",
          "2020-10-14 00:00:21",
          "2020-10-14 00:00:22",
          "2020-10-14 00:00:23",
          "2020-10-15 00:00:00",
          "2020-10-15 00:00:01",
          "2020-10-15 00:00:02",
          "2020-10-15 00:00:03",
          "2020-10-15 00:00:04",
          "2020-10-15 00:00:05",
          "2020-10-15 00:00:06",
          "2020-10-15 00:00:07",
          "2020-10-15 00:00:08",
          "2020-10-15 00:00:09",
          "2020-10-15 00:00:10",
          "2020-10-15 00:00:11",
          "2020-10-15 00:00:12",
          "2020-10-15 00:00:13",
          "2020-10-15 00:00:14",
          "2020-10-15 00:00:15",
          "2020-10-15 00:00:16",
          "2020-10-15 00:00:17",
          "2020-10-15 00:00:18",
          "2020-10-15 00:00:19",
          "2020-10-15 00:00:20",
          "2020-10-15 00:00:21",
          "2020-10-15 00:00:22",
          "2020-10-15 00:00:23",
          "2020-10-16 00:00:00",
          "2020-10-16 00:00:01",
          "2020-10-16 00:00:02",
          "2020-10-16 00:00:03",
          "2020-10-16 00:00:04",
          "2020-10-16 00:00:05",
          "2020-10-16 00:00:06",
          "2020-10-16 00:00:07",
          "2020-10-16 00:00:08",
          "2020-10-16 00:00:09",
          "2020-10-16 00:00:10",
          "2020-10-16 00:00:11",
          "2020-10-16 00:00:12",
          "2020-10-16 00:00:13",
          "2020-10-16 00:00:14",
          "2020-10-16 00:00:15",
          "2020-10-16 00:00:16",
          "2020-10-16 00:00:17",
          "2020-10-16 00:00:18",
          "2020-10-16 00:00:19",
          "2020-10-16 00:00:20",
          "2020-10-16 00:00:21",
          "2020-10-16 00:00:22",
          "2020-10-16 00:00:23",
          "2020-10-17 00:00:00",
          "2020-10-17 00:00:01",
          "2020-10-17 00:00:02",
          "2020-10-17 00:00:03",
          "2020-10-17 00:00:04",
          "2020-10-17 00:00:05",
          "2020-10-17 00:00:06",
          "2020-10-17 00:00:07",
          "2020-10-17 00:00:08",
          "2020-10-17 00:00:09",
          "2020-10-17 00:00:10",
          "2020-10-17 00:00:11",
          "2020-10-17 00:00:12",
          "2020-10-17 00:00:13",
          "2020-10-17 00:00:14",
          "2020-10-17 00:00:15",
          "2020-10-17 00:00:16",
          "2020-10-17 00:00:17",
          "2020-10-17 00:00:18",
          "2020-10-17 00:00:19",
          "2020-10-17 00:00:20",
          "2020-10-17 00:00:21",
          "2020-10-17 00:00:22",
          "2020-10-17 00:00:23",
          "2020-10-18 00:00:00",
          "2020-10-18 00:00:01",
          "2020-10-18 00:00:02",
          "2020-10-18 00:00:03",
          "2020-10-18 00:00:04",
          "2020-10-18 00:00:05",
          "2020-10-18 00:00:06",
          "2020-10-18 00:00:07",
          "2020-10-18 00:00:08",
          "2020-10-18 00:00:09",
          "2020-10-18 00:00:10",
          "2020-10-18 00:00:11",
          "2020-10-18 00:00:12",
          "2020-10-18 00:00:13",
          "2020-10-18 00:00:14",
          "2020-10-18 00:00:15",
          "2020-10-18 00:00:16",
          "2020-10-18 00:00:17",
          "2020-10-18 00:00:18",
          "2020-10-18 00:00:19",
          "2020-10-18 00:00:20",
          "2020-10-18 00:00:21",
          "2020-10-18 00:00:22",
          "2020-10-18 00:00:23",
          "2020-10-19 00:00:00",
          "2020-10-19 00:00:01",
          "2020-10-19 00:00:02",
          "2020-10-19 00:00:03",
          "2020-10-19 00:00:04",
          "2020-10-19 00:00:05",
          "2020-10-19 00:00:06",
          "2020-10-19 00:00:07",
          "2020-10-19 00:00:08",
          "2020-10-19 00:00:09",
          "2020-10-19 00:00:10",
          "2020-10-19 00:00:11",
          "2020-10-19 00:00:12",
          "2020-10-19 00:00:13",
          "2020-10-19 00:00:14",
          "2020-10-19 00:00:15",
          "2020-10-19 00:00:16",
          "2020-10-19 00:00:17",
          "2020-10-19 00:00:18",
          "2020-10-19 00:00:19",
          "2020-10-19 00:00:20",
          "2020-10-19 00:00:21",
          "2020-10-19 00:00:22",
          "2020-10-19 00:00:23",
          "2020-10-20 00:00:00",
          "2020-10-20 00:00:01",
          "2020-10-20 00:00:02",
          "2020-10-20 00:00:03",
          "2020-10-20 00:00:04",
          "2020-10-20 00:00:05",
          "2020-10-20 00:00:06",
          "2020-10-20 00:00:07",
          "2020-10-20 00:00:08",
          "2020-10-20 00:00:09",
          "2020-10-20 00:00:10",
          "2020-10-20 00:00:11",
          "2020-10-20 00:00:12",
          "2020-10-20 00:00:13",
          "2020-10-20 00:00:14",
          "2020-10-20 00:00:15",
          "2020-10-20 00:00:16",
          "2020-10-20 00:00:17",
          "2020-10-20 00:00:18",
          "2020-10-20 00:00:19",
          "2020-10-20 00:00:20",
          "2020-10-20 00:00:21",
          "2020-10-20 00:00:22",
          "2020-10-20 00:00:23",
          "2020-10-21 00:00:00",
          "2020-10-21 00:00:01",
          "2020-10-21 00:00:02",
          "2020-10-21 00:00:03",
          "2020-10-21 00:00:04",
          "2020-10-21 00:00:05",
          "2020-10-21 00:00:06",
          "2020-10-21 00:00:07",
          "2020-10-21 00:00:08",
          "2020-10-21 00:00:09",
          "2020-10-21 00:00:10",
          "2020-10-21 00:00:11",
          "2020-10-21 00:00:12",
          "2020-10-21 00:00:13",
          "2020-10-21 00:00:14",
          "2020-10-21 00:00:15",
          "2020-10-21 00:00:16",
          "2020-10-21 00:00:17",
          "2020-10-21 00:00:18",
          "2020-10-21 00:00:19",
          "2020-10-21 00:00:20",
          "2020-10-21 00:00:21",
          "2020-10-21 00:00:22",
          "2020-10-21 00:00:23",
          "2020-10-22 00:00:00",
          "2020-10-22 00:00:01",
          "2020-10-22 00:00:02",
          "2020-10-22 00:00:03",
          "2020-10-22 00:00:04",
          "2020-10-22 00:00:05",
          "2020-10-22 00:00:06",
          "2020-10-22 00:00:07",
          "2020-10-22 00:00:08",
          "2020-10-22 00:00:09",
          "2020-10-22 00:00:10",
          "2020-10-22 00:00:11",
          "2020-10-22 00:00:12",
          "2020-10-22 00:00:13",
          "2020-10-22 00:00:14",
          "2020-10-22 00:00:15",
          "2020-10-22 00:00:16",
          "2020-10-22 00:00:17",
          "2020-10-22 00:00:18",
          "2020-10-22 00:00:19",
          "2020-10-22 00:00:20",
          "2020-10-22 00:00:21",
          "2020-10-22 00:00:22",
          "2020-10-22 00:00:23",
          "2020-10-23 00:00:00",
          "2020-10-23 00:00:01",
          "2020-10-23 00:00:02",
          "2020-10-23 00:00:03",
          "2020-10-23 00:00:04",
          "2020-10-23 00:00:05",
          "2020-10-23 00:00:06",
          "2020-10-23 00:00:07",
          "2020-10-23 00:00:08",
          "2020-10-23 00:00:09",
          "2020-10-23 00:00:10",
          "2020-10-23 00:00:11",
          "2020-10-23 00:00:12",
          "2020-10-23 00:00:13",
          "2020-10-23 00:00:14",
          "2020-10-23 00:00:15",
          "2020-10-23 00:00:16",
          "2020-10-23 00:00:17",
          "2020-10-23 00:00:18",
          "2020-10-23 00:00:19",
          "2020-10-23 00:00:20",
          "2020-10-23 00:00:21",
          "2020-10-23 00:00:22",
          "2020-10-23 00:00:23",
          "2020-10-24 00:00:00",
          "2020-10-24 00:00:01",
          "2020-10-24 00:00:02",
          "2020-10-24 00:00:03",
          "2020-10-24 00:00:04",
          "2020-10-24 00:00:05",
          "2020-10-24 00:00:06",
          "2020-10-24 00:00:07",
          "2020-10-24 00:00:08",
          "2020-10-24 00:00:09",
          "2020-10-24 00:00:10",
          "2020-10-24 00:00:11",
          "2020-10-24 00:00:12",
          "2020-10-24 00:00:13",
          "2020-10-24 00:00:14",
          "2020-10-24 00:00:15",
          "2020-10-24 00:00:16",
          "2020-10-24 00:00:17",
          "2020-10-24 00:00:18",
          "2020-10-24 00:00:19",
          "2020-10-24 00:00:20",
          "2020-10-24 00:00:21",
          "2020-10-24 00:00:22",
          "2020-10-24 00:00:23",
          "2020-10-25 00:00:00",
          "2020-10-25 00:00:01",
          "2020-10-25 00:00:02",
          "2020-10-25 00:00:03",
          "2020-10-25 00:00:04",
          "2020-10-25 00:00:05",
          "2020-10-25 00:00:06",
          "2020-10-25 00:00:07",
          "2020-10-25 00:00:08",
          "2020-10-25 00:00:09",
          "2020-10-25 00:00:10",
          "2020-10-25 00:00:11",
          "2020-10-25 00:00:12",
          "2020-10-25 00:00:13",
          "2020-10-25 00:00:14",
          "2020-10-25 00:00:15",
          "2020-10-25 00:00:16",
          "2020-10-25 00:00:17",
          "2020-10-25 00:00:18",
          "2020-10-25 00:00:19",
          "2020-10-25 00:00:20",
          "2020-10-25 00:00:21",
          "2020-10-25 00:00:22",
          "2020-10-25 00:00:23",
          "2020-10-26 00:00:00",
          "2020-10-26 00:00:01",
          "2020-10-26 00:00:02",
          "2020-10-26 00:00:03",
          "2020-10-26 00:00:04",
          "2020-10-26 00:00:05",
          "2020-10-26 00:00:06",
          "2020-10-26 00:00:07",
          "2020-10-26 00:00:08",
          "2020-10-26 00:00:09",
          "2020-10-26 00:00:10",
          "2020-10-26 00:00:11",
          "2020-10-26 00:00:12",
          "2020-10-26 00:00:13",
          "2020-10-26 00:00:14",
          "2020-10-26 00:00:15",
          "2020-10-26 00:00:16",
          "2020-10-26 00:00:17",
          "2020-10-26 00:00:18",
          "2020-10-26 00:00:19",
          "2020-10-26 00:00:20",
          "2020-10-26 00:00:21",
          "2020-10-26 00:00:22",
          "2020-10-26 00:00:23",
          "2020-10-27 00:00:00",
          "2020-10-27 00:00:01",
          "2020-10-27 00:00:02",
          "2020-10-27 00:00:03",
          "2020-10-27 00:00:04",
          "2020-10-27 00:00:05",
          "2020-10-27 00:00:06",
          "2020-10-27 00:00:07",
          "2020-10-27 00:00:08",
          "2020-10-27 00:00:09",
          "2020-10-27 00:00:10",
          "2020-10-27 00:00:11",
          "2020-10-27 00:00:12",
          "2020-10-27 00:00:13",
          "2020-10-27 00:00:14",
          "2020-10-27 00:00:15",
          "2020-10-27 00:00:16",
          "2020-10-27 00:00:17",
          "2020-10-27 00:00:18",
          "2020-10-27 00:00:19",
          "2020-10-27 00:00:20",
          "2020-10-27 00:00:21",
          "2020-10-27 00:00:22",
          "2020-10-27 00:00:23",
          "2020-10-28 00:00:00",
          "2020-10-28 00:00:01",
          "2020-10-28 00:00:02",
          "2020-10-28 00:00:03",
          "2020-10-28 00:00:04",
          "2020-10-28 00:00:05",
          "2020-10-28 00:00:06",
          "2020-10-28 00:00:07",
          "2020-10-28 00:00:08",
          "2020-10-28 00:00:09",
          "2020-10-28 00:00:10",
          "2020-10-28 00:00:11",
          "2020-10-28 00:00:12",
          "2020-10-28 00:00:13",
          "2020-10-28 00:00:14",
          "2020-10-28 00:00:15",
          "2020-10-28 00:00:16",
          "2020-10-28 00:00:17",
          "2020-10-28 00:00:18",
          "2020-10-28 00:00:19",
          "2020-10-28 00:00:20",
          "2020-10-28 00:00:21",
          "2020-10-28 00:00:22",
          "2020-10-28 00:00:23",
          "2020-10-29 00:00:00",
          "2020-10-29 00:00:01",
          "2020-10-29 00:00:02",
          "2020-10-29 00:00:03",
          "2020-10-29 00:00:04",
          "2020-10-29 00:00:05",
          "2020-10-29 00:00:06",
          "2020-10-29 00:00:07",
          "2020-10-29 00:00:08",
          "2020-10-29 00:00:09",
          "2020-10-29 00:00:10",
          "2020-10-29 00:00:11",
          "2020-10-29 00:00:12",
          "2020-10-29 00:00:13",
          "2020-10-29 00:00:14",
          "2020-10-29 00:00:15",
          "2020-10-29 00:00:16",
          "2020-10-29 00:00:17",
          "2020-10-29 00:00:18",
          "2020-10-29 00:00:19",
          "2020-10-29 00:00:20",
          "2020-10-29 00:00:21",
          "2020-10-29 00:00:22",
          "2020-10-29 00:00:23",
          "2020-10-30 00:00:00",
          "2020-10-30 00:00:01",
          "2020-10-30 00:00:02",
          "2020-10-30 00:00:03",
          "2020-10-30 00:00:04",
          "2020-10-30 00:00:05",
          "2020-10-30 00:00:06",
          "2020-10-30 00:00:07",
          "2020-10-30 00:00:08",
          "2020-10-30 00:00:09",
          "2020-10-30 00:00:10",
          "2020-10-30 00:00:11",
          "2020-10-30 00:00:12",
          "2020-10-30 00:00:13",
          "2020-10-30 00:00:14",
          "2020-10-30 00:00:15",
          "2020-10-30 00:00:16",
          "2020-10-30 00:00:17",
          "2020-10-30 00:00:18",
          "2020-10-30 00:00:19",
          "2020-10-30 00:00:20",
          "2020-10-30 00:00:21",
          "2020-10-30 00:00:22",
          "2020-10-30 00:00:23",
          "2020-10-31 00:00:00",
          "2020-10-31 00:00:01",
          "2020-10-31 00:00:02",
          "2020-10-31 00:00:03",
          "2020-10-31 00:00:04",
          "2020-10-31 00:00:05",
          "2020-10-31 00:00:06",
          "2020-10-31 00:00:07",
          "2020-10-31 00:00:08",
          "2020-10-31 00:00:09",
          "2020-10-31 00:00:10",
          "2020-10-31 00:00:11",
          "2020-10-31 00:00:12",
          "2020-10-31 00:00:13",
          "2020-10-31 00:00:14",
          "2020-10-31 00:00:15",
          "2020-10-31 00:00:16",
          "2020-10-31 00:00:17",
          "2020-10-31 00:00:18",
          "2020-10-31 00:00:19",
          "2020-10-31 00:00:20",
          "2020-10-31 00:00:21",
          "2020-10-31 00:00:22",
          "2020-10-31 00:00:23"
         ],
         "xaxis": "x",
         "y": [
          9,
          8.9,
          9,
          8.8,
          8.6,
          8.3,
          8.1,
          8.2,
          9,
          11,
          14.5,
          17.9,
          20.1,
          20,
          20,
          19.9,
          18.5,
          16.1,
          14.5,
          13.5,
          12.7,
          12.8,
          13.2,
          13.5,
          13.6,
          12.6,
          11.2,
          10.2,
          10,
          9.7,
          9.6,
          11,
          12.1,
          15,
          19,
          20.2,
          20.8,
          21.5,
          21.5,
          21.2,
          20.1,
          18.6,
          17.5,
          16.8,
          16.1,
          15.3,
          14.7,
          13.6,
          13,
          12.1,
          12.5,
          11.9,
          11.1,
          10.6,
          11.3,
          12.7,
          14,
          15,
          17.2,
          18.9,
          19.6,
          20.4,
          20.4,
          20.6,
          17.3,
          15.8,
          14.9,
          13.8,
          12.8,
          11.6,
          10.8,
          10.4,
          9.8,
          9,
          7.9,
          7.1,
          7,
          7.6,
          8.7,
          10,
          13.6,
          15.9,
          16.3,
          15,
          16.7,
          16.4,
          16.8,
          16.8,
          15.5,
          12.5,
          10.1,
          9.4,
          8.5,
          8.3,
          8.5,
          7.9,
          8.1,
          7.8,
          7.7,
          7.8,
          7.7,
          8.3,
          8.5,
          8.9,
          9.5,
          10.2,
          11.9,
          15,
          17.2,
          16.4,
          15.9,
          14.8,
          14.9,
          13.9,
          13.8,
          13.6,
          12.6,
          12.8,
          12.6,
          12.2,
          11.8,
          11.8,
          11.5,
          12,
          11.9,
          11.9,
          11.3,
          11.7,
          13.3,
          14.3,
          14.6,
          15.1,
          14.3,
          14.5,
          14.4,
          14.5,
          13.8,
          13.1,
          12.9,
          12.7,
          12.6,
          12.7,
          12.3,
          11.1,
          11,
          11.7,
          11.7,
          11.1,
          11.2,
          11.3,
          11.2,
          11.9,
          13.8,
          14.5,
          14.2,
          14.8,
          14.6,
          14.5,
          14.7,
          15.1,
          14.3,
          13.4,
          12.2,
          12.1,
          12.2,
          11.7,
          11.8,
          11.4,
          12,
          11.6,
          9.6,
          9,
          7.6,
          7.9,
          8.9,
          10.3,
          12.6,
          13.7,
          14.8,
          14.8,
          14.5,
          15.8,
          15.2,
          15.6,
          15.2,
          14.8,
          15.2,
          15.1,
          14.8,
          15.1,
          15.1,
          15.1,
          15.3,
          15.4,
          15.2,
          15.3,
          13.7,
          13.3,
          12.6,
          12.8,
          13,
          12.8,
          12.9,
          13.3,
          13,
          13.5,
          13.2,
          13.4,
          13.5,
          13.4,
          13.5,
          13.5,
          13.4,
          12.6,
          12.8,
          11.9,
          11.4,
          11.2,
          11.1,
          11,
          10.9,
          11.1,
          9.9,
          10.4,
          11.2,
          9.8,
          10.7,
          11.5,
          11.8,
          12.1,
          12.8,
          12.6,
          11.1,
          9,
          7.1,
          6,
          6,
          5.6,
          5.3,
          4.7,
          4.3,
          3.7,
          3.3,
          3.8,
          4.3,
          4.9,
          5.2,
          5.8,
          6.8,
          8.6,
          9.2,
          10.6,
          11.7,
          11.7,
          11.2,
          11,
          10.4,
          9.4,
          7.4,
          5.5,
          4.4,
          4.6,
          5.1,
          4.7,
          4.7,
          4.9,
          5.1,
          5.2,
          5.5,
          5.6,
          5.8,
          6.3,
          7.5,
          9.3,
          11.4,
          12.4,
          13.7,
          13,
          13.9,
          13,
          10.8,
          9,
          8.3,
          6.9,
          5.8,
          5,
          5.3,
          5.8,
          5.7,
          5.9,
          6,
          6.2,
          6.2,
          6.2,
          6.4,
          6.8,
          7.7,
          9,
          10.3,
          11.1,
          11.2,
          12,
          11.2,
          12,
          10.6,
          8.6,
          7.8,
          7.4,
          7.2,
          7.8,
          8.2,
          8.6,
          8.7,
          8.7,
          8.7,
          8.5,
          8.8,
          8.6,
          8.4,
          8.2,
          8.5,
          8.7,
          8.9,
          9,
          9.1,
          8.9,
          8.7,
          8.6,
          8.4,
          8.3,
          8.2,
          8.1,
          8.1,
          8.3,
          8.4,
          8.5,
          8.5,
          8.5,
          8.5,
          8.5,
          8.4,
          8.4,
          8.5,
          8.7,
          9,
          9.1,
          9.2,
          9.6,
          9.7,
          9.5,
          9.6,
          9.4,
          9.3,
          9.2,
          9.2,
          9.1,
          9,
          9,
          8.9,
          8.8,
          8.7,
          8.7,
          8.8,
          9,
          9.1,
          8.8,
          8.6,
          8.6,
          9,
          9,
          9.1,
          9.8,
          11.1,
          10.5,
          10.3,
          10.2,
          9.6,
          9.5,
          9.1,
          8.7,
          8.3,
          7.8,
          7.8,
          7.9,
          7.9,
          7.5,
          7.6,
          7.6,
          7.4,
          7.4,
          7.4,
          7.7,
          8.2,
          8.6,
          8.4,
          8.6,
          8.5,
          8.8,
          8.6,
          8.5,
          8.5,
          8.3,
          7.8,
          7.9,
          8.1,
          8,
          8.1,
          7.9,
          7.8,
          7,
          7.5,
          7.4,
          7.7,
          7.7,
          7.6,
          8.1,
          8.8,
          9.3,
          10.2,
          10.3,
          10.7,
          10.8,
          11.7,
          11.1,
          10.5,
          10.2,
          9.5,
          9.5,
          9.6,
          9.4,
          8.6,
          8.6,
          8.5,
          8.5,
          8.1,
          8,
          7.7,
          7.7,
          7.5,
          8.1,
          8.6,
          9.1,
          10.2,
          11,
          12.6,
          13.1,
          12.8,
          12,
          11.1,
          8.7,
          6.5,
          5.4,
          4.3,
          3.6,
          3.2,
          2.6,
          2.1,
          2,
          1.6,
          1.5,
          1.1,
          1.3,
          1.3,
          2.7,
          6,
          8.8,
          10.6,
          12,
          14.6,
          15.2,
          14.9,
          14.3,
          13.6,
          13.1,
          11.3,
          11.3,
          10.9,
          10.4,
          10.6,
          10.9,
          11,
          10.6,
          10.9,
          11,
          11.1,
          10.9,
          11.1,
          11.5,
          12.6,
          13.4,
          13.7,
          15.2,
          16.2,
          15.8,
          18.2,
          17.6,
          16.8,
          15.8,
          15.2,
          14.9,
          14.2,
          14,
          14.4,
          13.8,
          13.2,
          13.6,
          13.3,
          14.6,
          13.6,
          13,
          13.6,
          13.8,
          15.9,
          16.4,
          18.5,
          20,
          20,
          21.1,
          20.7,
          19.5,
          18.1,
          16.3,
          16.1,
          15.9,
          16,
          15.4,
          15.4,
          16.9,
          16,
          14.6,
          14.3,
          15.3,
          15.1,
          14.7,
          14.8,
          15,
          15.3,
          16,
          16.4,
          16.8,
          18,
          17.5,
          17,
          16.8,
          16.2,
          16,
          15.5,
          14.6,
          13.7,
          13.7,
          13.1,
          12.9,
          12.7,
          11.5,
          10.8,
          11.1,
          9.7,
          9.6,
          9.3,
          9.3,
          11.5,
          14.4,
          16.4,
          17.2,
          17.4,
          17.2,
          16.9,
          16.4,
          15.3,
          14.2,
          13.6,
          13.3,
          12.9,
          11.8,
          11.3,
          11.3,
          11.8,
          11.7,
          11.2,
          10.5,
          9.3,
          8.7,
          8.7,
          9.6,
          11.7,
          14.2,
          15.7,
          15.9,
          16,
          16.9,
          15.8,
          15.4,
          14.3,
          13.6,
          13.3,
          13.5,
          13,
          13.1,
          12.9,
          11.9,
          12.4,
          12.1,
          11.3,
          11.2,
          11.2,
          10.8,
          10.3,
          9.9,
          10.3,
          10.6,
          10.9,
          11.2,
          11.5,
          11.4,
          11.1,
          11.1,
          10.5,
          10.1,
          9.9,
          9.5,
          9.2,
          9.1,
          8.8,
          8.8,
          8.7,
          8.3,
          8.4,
          8.5,
          8.5,
          8.1,
          7.5,
          7.4,
          9.2,
          10,
          11.4,
          11.2,
          12.6,
          12.1,
          12,
          11.9,
          10.9,
          9.4,
          8.6,
          8.5,
          8.3,
          8,
          8.9,
          9,
          9,
          9.2,
          9.5,
          9.6,
          9.6,
          9.2,
          9.1,
          9.4,
          10.2,
          11,
          12,
          13.1,
          14.9,
          13.4,
          13.6,
          12.7,
          10.7,
          10,
          9.4,
          8.3,
          7.4,
          7.7,
          9.2,
          9.8,
          10.1,
          10.6,
          10.6,
          11.5,
          11.3,
          11.3,
          11,
          10.8,
          8.8,
          9.1,
          10.9,
          12.4,
          10.6,
          11.3,
          11.6,
          11.2,
          10.2,
          9.3,
          9,
          9.1,
          9.4,
          9.9,
          8.9,
          8.4,
          8.5,
          8.8,
          9,
          9.4,
          10.5,
          10.7,
          10.8,
          11,
          12.2,
          13.1,
          12.9,
          13,
          14.1,
          14.2,
          14.5,
          14.2,
          14.6,
          14.4,
          13.8,
          14.1,
          14.1,
          14.2,
          14,
          13.9,
          13.7,
          13.8,
          14.1,
          14.1,
          13.7,
          13.4,
          13.1,
          13.2,
          13.7,
          14.6,
          15.3,
          15.7,
          15.8,
          15.2,
          15.1,
          14.4,
          13.8,
          13.4,
          12.1,
          11.9,
          11.3,
          11.1,
          10.4,
          10.5
         ],
         "yaxis": "y"
        }
       ],
       "layout": {
        "height": 600,
        "legend": {
         "tracegroupgap": 0
        },
        "margin": {
         "t": 60
        },
        "template": {
         "data": {
          "bar": [
           {
            "error_x": {
             "color": "#2a3f5f"
            },
            "error_y": {
             "color": "#2a3f5f"
            },
            "marker": {
             "line": {
              "color": "#E5ECF6",
              "width": 0.5
             }
            },
            "type": "bar"
           }
          ],
          "barpolar": [
           {
            "marker": {
             "line": {
              "color": "#E5ECF6",
              "width": 0.5
             }
            },
            "type": "barpolar"
           }
          ],
          "carpet": [
           {
            "aaxis": {
             "endlinecolor": "#2a3f5f",
             "gridcolor": "white",
             "linecolor": "white",
             "minorgridcolor": "white",
             "startlinecolor": "#2a3f5f"
            },
            "baxis": {
             "endlinecolor": "#2a3f5f",
             "gridcolor": "white",
             "linecolor": "white",
             "minorgridcolor": "white",
             "startlinecolor": "#2a3f5f"
            },
            "type": "carpet"
           }
          ],
          "choropleth": [
           {
            "colorbar": {
             "outlinewidth": 0,
             "ticks": ""
            },
            "type": "choropleth"
           }
          ],
          "contour": [
           {
            "colorbar": {
             "outlinewidth": 0,
             "ticks": ""
            },
            "colorscale": [
             [
              0,
              "#0d0887"
             ],
             [
              0.1111111111111111,
              "#46039f"
             ],
             [
              0.2222222222222222,
              "#7201a8"
             ],
             [
              0.3333333333333333,
              "#9c179e"
             ],
             [
              0.4444444444444444,
              "#bd3786"
             ],
             [
              0.5555555555555556,
              "#d8576b"
             ],
             [
              0.6666666666666666,
              "#ed7953"
             ],
             [
              0.7777777777777778,
              "#fb9f3a"
             ],
             [
              0.8888888888888888,
              "#fdca26"
             ],
             [
              1,
              "#f0f921"
             ]
            ],
            "type": "contour"
           }
          ],
          "contourcarpet": [
           {
            "colorbar": {
             "outlinewidth": 0,
             "ticks": ""
            },
            "type": "contourcarpet"
           }
          ],
          "heatmap": [
           {
            "colorbar": {
             "outlinewidth": 0,
             "ticks": ""
            },
            "colorscale": [
             [
              0,
              "#0d0887"
             ],
             [
              0.1111111111111111,
              "#46039f"
             ],
             [
              0.2222222222222222,
              "#7201a8"
             ],
             [
              0.3333333333333333,
              "#9c179e"
             ],
             [
              0.4444444444444444,
              "#bd3786"
             ],
             [
              0.5555555555555556,
              "#d8576b"
             ],
             [
              0.6666666666666666,
              "#ed7953"
             ],
             [
              0.7777777777777778,
              "#fb9f3a"
             ],
             [
              0.8888888888888888,
              "#fdca26"
             ],
             [
              1,
              "#f0f921"
             ]
            ],
            "type": "heatmap"
           }
          ],
          "heatmapgl": [
           {
            "colorbar": {
             "outlinewidth": 0,
             "ticks": ""
            },
            "colorscale": [
             [
              0,
              "#0d0887"
             ],
             [
              0.1111111111111111,
              "#46039f"
             ],
             [
              0.2222222222222222,
              "#7201a8"
             ],
             [
              0.3333333333333333,
              "#9c179e"
             ],
             [
              0.4444444444444444,
              "#bd3786"
             ],
             [
              0.5555555555555556,
              "#d8576b"
             ],
             [
              0.6666666666666666,
              "#ed7953"
             ],
             [
              0.7777777777777778,
              "#fb9f3a"
             ],
             [
              0.8888888888888888,
              "#fdca26"
             ],
             [
              1,
              "#f0f921"
             ]
            ],
            "type": "heatmapgl"
           }
          ],
          "histogram": [
           {
            "marker": {
             "colorbar": {
              "outlinewidth": 0,
              "ticks": ""
             }
            },
            "type": "histogram"
           }
          ],
          "histogram2d": [
           {
            "colorbar": {
             "outlinewidth": 0,
             "ticks": ""
            },
            "colorscale": [
             [
              0,
              "#0d0887"
             ],
             [
              0.1111111111111111,
              "#46039f"
             ],
             [
              0.2222222222222222,
              "#7201a8"
             ],
             [
              0.3333333333333333,
              "#9c179e"
             ],
             [
              0.4444444444444444,
              "#bd3786"
             ],
             [
              0.5555555555555556,
              "#d8576b"
             ],
             [
              0.6666666666666666,
              "#ed7953"
             ],
             [
              0.7777777777777778,
              "#fb9f3a"
             ],
             [
              0.8888888888888888,
              "#fdca26"
             ],
             [
              1,
              "#f0f921"
             ]
            ],
            "type": "histogram2d"
           }
          ],
          "histogram2dcontour": [
           {
            "colorbar": {
             "outlinewidth": 0,
             "ticks": ""
            },
            "colorscale": [
             [
              0,
              "#0d0887"
             ],
             [
              0.1111111111111111,
              "#46039f"
             ],
             [
              0.2222222222222222,
              "#7201a8"
             ],
             [
              0.3333333333333333,
              "#9c179e"
             ],
             [
              0.4444444444444444,
              "#bd3786"
             ],
             [
              0.5555555555555556,
              "#d8576b"
             ],
             [
              0.6666666666666666,
              "#ed7953"
             ],
             [
              0.7777777777777778,
              "#fb9f3a"
             ],
             [
              0.8888888888888888,
              "#fdca26"
             ],
             [
              1,
              "#f0f921"
             ]
            ],
            "type": "histogram2dcontour"
           }
          ],
          "mesh3d": [
           {
            "colorbar": {
             "outlinewidth": 0,
             "ticks": ""
            },
            "type": "mesh3d"
           }
          ],
          "parcoords": [
           {
            "line": {
             "colorbar": {
              "outlinewidth": 0,
              "ticks": ""
             }
            },
            "type": "parcoords"
           }
          ],
          "pie": [
           {
            "automargin": true,
            "type": "pie"
           }
          ],
          "scatter": [
           {
            "marker": {
             "colorbar": {
              "outlinewidth": 0,
              "ticks": ""
             }
            },
            "type": "scatter"
           }
          ],
          "scatter3d": [
           {
            "line": {
             "colorbar": {
              "outlinewidth": 0,
              "ticks": ""
             }
            },
            "marker": {
             "colorbar": {
              "outlinewidth": 0,
              "ticks": ""
             }
            },
            "type": "scatter3d"
           }
          ],
          "scattercarpet": [
           {
            "marker": {
             "colorbar": {
              "outlinewidth": 0,
              "ticks": ""
             }
            },
            "type": "scattercarpet"
           }
          ],
          "scattergeo": [
           {
            "marker": {
             "colorbar": {
              "outlinewidth": 0,
              "ticks": ""
             }
            },
            "type": "scattergeo"
           }
          ],
          "scattergl": [
           {
            "marker": {
             "colorbar": {
              "outlinewidth": 0,
              "ticks": ""
             }
            },
            "type": "scattergl"
           }
          ],
          "scattermapbox": [
           {
            "marker": {
             "colorbar": {
              "outlinewidth": 0,
              "ticks": ""
             }
            },
            "type": "scattermapbox"
           }
          ],
          "scatterpolar": [
           {
            "marker": {
             "colorbar": {
              "outlinewidth": 0,
              "ticks": ""
             }
            },
            "type": "scatterpolar"
           }
          ],
          "scatterpolargl": [
           {
            "marker": {
             "colorbar": {
              "outlinewidth": 0,
              "ticks": ""
             }
            },
            "type": "scatterpolargl"
           }
          ],
          "scatterternary": [
           {
            "marker": {
             "colorbar": {
              "outlinewidth": 0,
              "ticks": ""
             }
            },
            "type": "scatterternary"
           }
          ],
          "surface": [
           {
            "colorbar": {
             "outlinewidth": 0,
             "ticks": ""
            },
            "colorscale": [
             [
              0,
              "#0d0887"
             ],
             [
              0.1111111111111111,
              "#46039f"
             ],
             [
              0.2222222222222222,
              "#7201a8"
             ],
             [
              0.3333333333333333,
              "#9c179e"
             ],
             [
              0.4444444444444444,
              "#bd3786"
             ],
             [
              0.5555555555555556,
              "#d8576b"
             ],
             [
              0.6666666666666666,
              "#ed7953"
             ],
             [
              0.7777777777777778,
              "#fb9f3a"
             ],
             [
              0.8888888888888888,
              "#fdca26"
             ],
             [
              1,
              "#f0f921"
             ]
            ],
            "type": "surface"
           }
          ],
          "table": [
           {
            "cells": {
             "fill": {
              "color": "#EBF0F8"
             },
             "line": {
              "color": "white"
             }
            },
            "header": {
             "fill": {
              "color": "#C8D4E3"
             },
             "line": {
              "color": "white"
             }
            },
            "type": "table"
           }
          ]
         },
         "layout": {
          "annotationdefaults": {
           "arrowcolor": "#2a3f5f",
           "arrowhead": 0,
           "arrowwidth": 1
          },
          "coloraxis": {
           "colorbar": {
            "outlinewidth": 0,
            "ticks": ""
           }
          },
          "colorscale": {
           "diverging": [
            [
             0,
             "#8e0152"
            ],
            [
             0.1,
             "#c51b7d"
            ],
            [
             0.2,
             "#de77ae"
            ],
            [
             0.3,
             "#f1b6da"
            ],
            [
             0.4,
             "#fde0ef"
            ],
            [
             0.5,
             "#f7f7f7"
            ],
            [
             0.6,
             "#e6f5d0"
            ],
            [
             0.7,
             "#b8e186"
            ],
            [
             0.8,
             "#7fbc41"
            ],
            [
             0.9,
             "#4d9221"
            ],
            [
             1,
             "#276419"
            ]
           ],
           "sequential": [
            [
             0,
             "#0d0887"
            ],
            [
             0.1111111111111111,
             "#46039f"
            ],
            [
             0.2222222222222222,
             "#7201a8"
            ],
            [
             0.3333333333333333,
             "#9c179e"
            ],
            [
             0.4444444444444444,
             "#bd3786"
            ],
            [
             0.5555555555555556,
             "#d8576b"
            ],
            [
             0.6666666666666666,
             "#ed7953"
            ],
            [
             0.7777777777777778,
             "#fb9f3a"
            ],
            [
             0.8888888888888888,
             "#fdca26"
            ],
            [
             1,
             "#f0f921"
            ]
           ],
           "sequentialminus": [
            [
             0,
             "#0d0887"
            ],
            [
             0.1111111111111111,
             "#46039f"
            ],
            [
             0.2222222222222222,
             "#7201a8"
            ],
            [
             0.3333333333333333,
             "#9c179e"
            ],
            [
             0.4444444444444444,
             "#bd3786"
            ],
            [
             0.5555555555555556,
             "#d8576b"
            ],
            [
             0.6666666666666666,
             "#ed7953"
            ],
            [
             0.7777777777777778,
             "#fb9f3a"
            ],
            [
             0.8888888888888888,
             "#fdca26"
            ],
            [
             1,
             "#f0f921"
            ]
           ]
          },
          "colorway": [
           "#636efa",
           "#EF553B",
           "#00cc96",
           "#ab63fa",
           "#FFA15A",
           "#19d3f3",
           "#FF6692",
           "#B6E880",
           "#FF97FF",
           "#FECB52"
          ],
          "font": {
           "color": "#2a3f5f"
          },
          "geo": {
           "bgcolor": "white",
           "lakecolor": "white",
           "landcolor": "#E5ECF6",
           "showlakes": true,
           "showland": true,
           "subunitcolor": "white"
          },
          "hoverlabel": {
           "align": "left"
          },
          "hovermode": "closest",
          "mapbox": {
           "style": "light"
          },
          "paper_bgcolor": "white",
          "plot_bgcolor": "#E5ECF6",
          "polar": {
           "angularaxis": {
            "gridcolor": "white",
            "linecolor": "white",
            "ticks": ""
           },
           "bgcolor": "#E5ECF6",
           "radialaxis": {
            "gridcolor": "white",
            "linecolor": "white",
            "ticks": ""
           }
          },
          "scene": {
           "xaxis": {
            "backgroundcolor": "#E5ECF6",
            "gridcolor": "white",
            "gridwidth": 2,
            "linecolor": "white",
            "showbackground": true,
            "ticks": "",
            "zerolinecolor": "white"
           },
           "yaxis": {
            "backgroundcolor": "#E5ECF6",
            "gridcolor": "white",
            "gridwidth": 2,
            "linecolor": "white",
            "showbackground": true,
            "ticks": "",
            "zerolinecolor": "white"
           },
           "zaxis": {
            "backgroundcolor": "#E5ECF6",
            "gridcolor": "white",
            "gridwidth": 2,
            "linecolor": "white",
            "showbackground": true,
            "ticks": "",
            "zerolinecolor": "white"
           }
          },
          "shapedefaults": {
           "line": {
            "color": "#2a3f5f"
           }
          },
          "ternary": {
           "aaxis": {
            "gridcolor": "white",
            "linecolor": "white",
            "ticks": ""
           },
           "baxis": {
            "gridcolor": "white",
            "linecolor": "white",
            "ticks": ""
           },
           "bgcolor": "#E5ECF6",
           "caxis": {
            "gridcolor": "white",
            "linecolor": "white",
            "ticks": ""
           }
          },
          "title": {
           "x": 0.05
          },
          "xaxis": {
           "automargin": true,
           "gridcolor": "white",
           "linecolor": "white",
           "ticks": "",
           "title": {
            "standoff": 15
           },
           "zerolinecolor": "white",
           "zerolinewidth": 2
          },
          "yaxis": {
           "automargin": true,
           "gridcolor": "white",
           "linecolor": "white",
           "ticks": "",
           "title": {
            "standoff": 15
           },
           "zerolinecolor": "white",
           "zerolinewidth": 2
          }
         }
        },
        "title": {
         "text": "Weather data of Jena (Sternwarte)",
         "x": 0.5,
         "xanchor": "center",
         "y": 0.95,
         "yanchor": "top"
        },
        "width": 800,
        "xaxis": {
         "anchor": "y",
         "domain": [
          0,
          1
         ],
         "title": {
          "text": "MESS_DATUM"
         }
        },
        "yaxis": {
         "anchor": "x",
         "domain": [
          0,
          1
         ],
         "title": {
          "text": "TT_TU"
         }
        }
       }
      }
     },
     "metadata": {}
    }
   ],
   "source": [
    "# Plot every available data for one individual station.\n",
    "fig = px.line(\n",
    "    df,                 # The dataframe that contains the informations.\n",
    "    x = \"MESS_DATUM\",   # The names of the columns that contain the information.\n",
    "    y = \"TT_TU\")\n",
    "# Change the layout of the plot.\n",
    "fig.update_layout(\n",
    "    width = 800,        # Size of our diagram.\n",
    "    height = 600,\n",
    "    title={             # Set the title and format it.\n",
    "        'text': 'Weather data of ' + df_stations['station_name'][df_stations['station_id'] == station_id].to_list()[0],\n",
    "        'y':0.95,\n",
    "        'x':0.5,\n",
    "        'xanchor': 'center',\n",
    "        'yanchor': 'top'})\n",
    "# Display the resulting visualisation.\n",
    "fig.show()"
   ]
  },
  {
   "cell_type": "code",
   "execution_count": null,
   "metadata": {},
   "outputs": [],
   "source": []
  }
 ]
}